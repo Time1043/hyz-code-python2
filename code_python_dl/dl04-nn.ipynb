{
 "cells": [
  {
   "cell_type": "code",
   "execution_count": 16,
   "outputs": [],
   "source": [
    "import torch\n",
    "from torchvision import datasets\n",
    "from torchvision import transforms\n",
    "from torch.utils.data import DataLoader\n",
    "import torch.nn as nn\n",
    "import torch.optim as optim"
   ],
   "metadata": {
    "collapsed": false
   }
  },
  {
   "cell_type": "markdown",
   "source": [
    "# 数据"
   ],
   "metadata": {
    "collapsed": false
   }
  },
  {
   "cell_type": "code",
   "execution_count": 17,
   "outputs": [],
   "source": [
    "# 加载数据集\n",
    "train_data = datasets.MNIST(root=r\"D:\\code\\data\\MNIST\", train=True, transform=transforms.ToTensor(), download=True)\n",
    "test_data = datasets.MNIST(root=r\"D:\\code\\data\\MNIST\", train=False, transform=transforms.ToTensor(), download=True)\n",
    "\n",
    "# 数据加载器  数据加载对象\n",
    "batch_size = 100  # 图片数量很大 分批次喂给模型训练\n",
    "train_loader = DataLoader(dataset=train_data, batch_size=batch_size, shuffle=True)  # 洗牌 打乱数据\n",
    "test_loader = DataLoader(dataset=test_data, batch_size=batch_size, shuffle=False)  # 测试集不用打乱顺序"
   ],
   "metadata": {
    "collapsed": false
   }
  },
  {
   "cell_type": "markdown",
   "source": [
    "# 模型"
   ],
   "metadata": {
    "collapsed": false
   }
  },
  {
   "cell_type": "code",
   "execution_count": 18,
   "outputs": [],
   "source": [
    "class MLP(nn.Module):\n",
    "    # 初始化方法：输入数据的维度、一个隐藏层的大小、输出分类的数量\n",
    "    def __init__(self, input_size, hidden_size, num_classes):\n",
    "        super(MLP, self).__init__()\n",
    "\n",
    "        # 第一个全连接层\n",
    "        self.fc1 = nn.Linear(input_size, hidden_size)\n",
    "        # 定义激活函数\n",
    "        self.relu = nn.ReLU()\n",
    "        # 第二个全连接层\n",
    "        self.fc2 = nn.Linear(hidden_size, hidden_size)\n",
    "        # 第三个全连接层\n",
    "        self.fc3 = nn.Linear(hidden_size, num_classes)\n",
    "\n",
    "    def forward(self, x):  # x为输入数据\n",
    "        # 第一层运算\n",
    "        out = self.fc1(x)\n",
    "        out = self.relu(out)\n",
    "        # 第二层运算\n",
    "        out = self.fc2(out)\n",
    "        out = self.relu(out)\n",
    "        # 第三层运算\n",
    "        out = self.fc3(out)\n",
    "\n",
    "        return out"
   ],
   "metadata": {
    "collapsed": false
   }
  },
  {
   "cell_type": "code",
   "execution_count": 19,
   "outputs": [],
   "source": [
    "# 初始化参数\n",
    "input_size = 28 * 28\n",
    "hidden_size = 512\n",
    "num_classes = 10\n",
    "\n",
    "# 实例化模型\n",
    "model = MLP(input_size, hidden_size, num_classes)"
   ],
   "metadata": {
    "collapsed": false
   }
  },
  {
   "cell_type": "markdown",
   "source": [
    "## 训练"
   ],
   "metadata": {
    "collapsed": false
   }
  },
  {
   "cell_type": "code",
   "execution_count": 20,
   "outputs": [],
   "source": [
    "learning_rate = 0.001\n",
    "criterion = nn.CrossEntropyLoss()  # 交叉熵损失\n",
    "optimizer = optim.Adam(model.parameters(), lr=learning_rate)  # andam优化器"
   ],
   "metadata": {
    "collapsed": false
   }
  },
  {
   "cell_type": "code",
   "execution_count": 21,
   "outputs": [
    {
     "name": "stdout",
     "output_type": "stream",
     "text": [
      "Epoch [1/10], Step [100/600], Loss: 0.2483\n",
      "Epoch [1/10], Step [200/600], Loss: 0.1520\n",
      "Epoch [1/10], Step [300/600], Loss: 0.1292\n",
      "Epoch [1/10], Step [400/600], Loss: 0.1860\n",
      "Epoch [1/10], Step [500/600], Loss: 0.0604\n",
      "Epoch [1/10], Step [600/600], Loss: 0.2090\n",
      "Epoch [2/10], Step [100/600], Loss: 0.0681\n",
      "Epoch [2/10], Step [200/600], Loss: 0.0626\n",
      "Epoch [2/10], Step [300/600], Loss: 0.0582\n",
      "Epoch [2/10], Step [400/600], Loss: 0.0555\n",
      "Epoch [2/10], Step [500/600], Loss: 0.1730\n",
      "Epoch [2/10], Step [600/600], Loss: 0.1520\n",
      "Epoch [3/10], Step [100/600], Loss: 0.0390\n",
      "Epoch [3/10], Step [200/600], Loss: 0.0642\n",
      "Epoch [3/10], Step [300/600], Loss: 0.0217\n",
      "Epoch [3/10], Step [400/600], Loss: 0.0710\n",
      "Epoch [3/10], Step [500/600], Loss: 0.0850\n",
      "Epoch [3/10], Step [600/600], Loss: 0.0364\n",
      "Epoch [4/10], Step [100/600], Loss: 0.0841\n",
      "Epoch [4/10], Step [200/600], Loss: 0.1199\n",
      "Epoch [4/10], Step [300/600], Loss: 0.0380\n",
      "Epoch [4/10], Step [400/600], Loss: 0.0242\n",
      "Epoch [4/10], Step [500/600], Loss: 0.0613\n",
      "Epoch [4/10], Step [600/600], Loss: 0.0200\n",
      "Epoch [5/10], Step [100/600], Loss: 0.0108\n",
      "Epoch [5/10], Step [200/600], Loss: 0.0198\n",
      "Epoch [5/10], Step [300/600], Loss: 0.0463\n",
      "Epoch [5/10], Step [400/600], Loss: 0.0435\n",
      "Epoch [5/10], Step [500/600], Loss: 0.0567\n",
      "Epoch [5/10], Step [600/600], Loss: 0.0484\n",
      "Epoch [6/10], Step [100/600], Loss: 0.0077\n",
      "Epoch [6/10], Step [200/600], Loss: 0.0574\n",
      "Epoch [6/10], Step [300/600], Loss: 0.0870\n",
      "Epoch [6/10], Step [400/600], Loss: 0.0142\n",
      "Epoch [6/10], Step [500/600], Loss: 0.0343\n",
      "Epoch [6/10], Step [600/600], Loss: 0.0337\n",
      "Epoch [7/10], Step [100/600], Loss: 0.0071\n",
      "Epoch [7/10], Step [200/600], Loss: 0.0322\n",
      "Epoch [7/10], Step [300/600], Loss: 0.0470\n",
      "Epoch [7/10], Step [400/600], Loss: 0.0008\n",
      "Epoch [7/10], Step [500/600], Loss: 0.0633\n",
      "Epoch [7/10], Step [600/600], Loss: 0.0088\n",
      "Epoch [8/10], Step [100/600], Loss: 0.0453\n",
      "Epoch [8/10], Step [200/600], Loss: 0.1157\n",
      "Epoch [8/10], Step [300/600], Loss: 0.0014\n",
      "Epoch [8/10], Step [400/600], Loss: 0.0158\n",
      "Epoch [8/10], Step [500/600], Loss: 0.0003\n",
      "Epoch [8/10], Step [600/600], Loss: 0.0231\n",
      "Epoch [9/10], Step [100/600], Loss: 0.0024\n",
      "Epoch [9/10], Step [200/600], Loss: 0.0043\n",
      "Epoch [9/10], Step [300/600], Loss: 0.0025\n",
      "Epoch [9/10], Step [400/600], Loss: 0.0120\n",
      "Epoch [9/10], Step [500/600], Loss: 0.0012\n",
      "Epoch [9/10], Step [600/600], Loss: 0.0040\n",
      "Epoch [10/10], Step [100/600], Loss: 0.0114\n",
      "Epoch [10/10], Step [200/600], Loss: 0.0108\n",
      "Epoch [10/10], Step [300/600], Loss: 0.0141\n",
      "Epoch [10/10], Step [400/600], Loss: 0.0368\n",
      "Epoch [10/10], Step [500/600], Loss: 0.0036\n",
      "Epoch [10/10], Step [600/600], Loss: 0.0118\n"
     ]
    }
   ],
   "source": [
    "num_epochs = 10\n",
    "for epoch in range(num_epochs):\n",
    "    for i, (images, labels) in enumerate(train_loader):\n",
    "        # 将输入数据torch转换为向量\n",
    "        images = images.reshape(-1, 28 * 28)\n",
    "        # 将数据送入网络 前向传播\n",
    "        outputs = model(images)  # outputs = model.forward(images)  简写nn.Module\n",
    "        # 计算损失\n",
    "        loss = criterion(outputs, labels)\n",
    "\n",
    "        # 梯度清零\n",
    "        optimizer.zero_grad()\n",
    "        # 反向传播\n",
    "        loss.backward()\n",
    "        # 更新参数\n",
    "        optimizer.step()\n",
    "\n",
    "        if (i + 1) % 100 == 0:\n",
    "            print(f'Epoch [{epoch + 1}/{num_epochs}], Step [{i + 1}/{len(train_loader)}], Loss: {loss.item():.4f}')"
   ],
   "metadata": {
    "collapsed": false
   }
  },
  {
   "cell_type": "code",
   "execution_count": 21,
   "outputs": [],
   "source": [],
   "metadata": {
    "collapsed": false
   }
  },
  {
   "cell_type": "code",
   "execution_count": 21,
   "outputs": [],
   "source": [],
   "metadata": {
    "collapsed": false
   }
  },
  {
   "cell_type": "code",
   "execution_count": 23,
   "outputs": [],
   "source": [],
   "metadata": {
    "collapsed": false
   }
  },
  {
   "cell_type": "code",
   "execution_count": 21,
   "outputs": [],
   "source": [],
   "metadata": {
    "collapsed": false
   }
  },
  {
   "cell_type": "code",
   "execution_count": 21,
   "outputs": [],
   "source": [],
   "metadata": {
    "collapsed": false
   }
  },
  {
   "cell_type": "code",
   "execution_count": 21,
   "outputs": [],
   "source": [],
   "metadata": {
    "collapsed": false
   }
  },
  {
   "cell_type": "code",
   "execution_count": 21,
   "outputs": [],
   "source": [],
   "metadata": {
    "collapsed": false
   }
  },
  {
   "cell_type": "code",
   "execution_count": 21,
   "outputs": [],
   "source": [],
   "metadata": {
    "collapsed": false
   }
  },
  {
   "cell_type": "code",
   "execution_count": 21,
   "outputs": [],
   "source": [],
   "metadata": {
    "collapsed": false
   }
  },
  {
   "cell_type": "code",
   "execution_count": 21,
   "outputs": [],
   "source": [],
   "metadata": {
    "collapsed": false
   }
  },
  {
   "cell_type": "code",
   "execution_count": 21,
   "outputs": [],
   "source": [],
   "metadata": {
    "collapsed": false
   }
  },
  {
   "cell_type": "code",
   "execution_count": 21,
   "outputs": [],
   "source": [],
   "metadata": {
    "collapsed": false
   }
  },
  {
   "cell_type": "code",
   "execution_count": 21,
   "outputs": [],
   "source": [],
   "metadata": {
    "collapsed": false
   }
  },
  {
   "cell_type": "code",
   "execution_count": 21,
   "outputs": [],
   "source": [],
   "metadata": {
    "collapsed": false
   }
  }
 ],
 "metadata": {
  "kernelspec": {
   "name": "py38tg1",
   "language": "python",
   "display_name": "py38tg1"
  },
  "language_info": {
   "codemirror_mode": {
    "name": "ipython",
    "version": 2
   },
   "file_extension": ".py",
   "mimetype": "text/x-python",
   "name": "python",
   "nbconvert_exporter": "python",
   "pygments_lexer": "ipython2",
   "version": "2.7.6"
  }
 },
 "nbformat": 4,
 "nbformat_minor": 0
}
