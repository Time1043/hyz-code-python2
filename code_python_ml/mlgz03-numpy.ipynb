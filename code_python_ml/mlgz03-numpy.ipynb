{
 "cells": [
  {
   "cell_type": "code",
   "execution_count": 1,
   "id": "bd3227b6",
   "metadata": {},
   "outputs": [
    {
     "name": "stdout",
     "output_type": "stream",
     "text": [
      "Name: numpy\n",
      "Version: 1.24.4\n",
      "Summary: Fundamental package for array computing in Python\n",
      "Home-page: https://www.numpy.org\n",
      "Author: Travis E. Oliphant et al.\n",
      "Author-email: \n",
      "License: BSD-3-Clause\n",
      "Location: d:\\systemenvironment\\anaconda3\\envs\\mlgz\\lib\\site-packages\n",
      "Requires: \n",
      "Required-by: contourpy, matplotlib, pandas, scikit-learn, scipy, seaborn\n",
      "Note: you may need to restart the kernel to use updated packages.\n"
     ]
    }
   ],
   "source": [
    "%pip show numpy"
   ]
  },
  {
   "cell_type": "code",
   "execution_count": 2,
   "id": "fddeffc8",
   "metadata": {},
   "outputs": [],
   "source": [
    "import numpy as np"
   ]
  },
  {
   "cell_type": "code",
   "execution_count": 3,
   "id": "3b82754d",
   "metadata": {},
   "outputs": [
    {
     "data": {
      "text/plain": [
       "'1.24.4'"
      ]
     },
     "execution_count": 3,
     "metadata": {},
     "output_type": "execute_result"
    }
   ],
   "source": [
    "np.__version__"
   ]
  },
  {
   "cell_type": "markdown",
   "id": "0e5c463d",
   "metadata": {},
   "source": [
    "# 基础性探索"
   ]
  },
  {
   "cell_type": "markdown",
   "id": "53689d66",
   "metadata": {},
   "source": [
    "## 对比numpy与原生python的性能对比"
   ]
  },
  {
   "cell_type": "code",
   "execution_count": 4,
   "id": "8e95d0dd",
   "metadata": {},
   "outputs": [],
   "source": [
    "n = 1000000"
   ]
  },
  {
   "cell_type": "code",
   "execution_count": 5,
   "id": "4c0469c4",
   "metadata": {},
   "outputs": [
    {
     "name": "stdout",
     "output_type": "stream",
     "text": [
      "432 ms ± 12.1 ms per loop (mean ± std. dev. of 7 runs, 1 loop each)\n"
     ]
    }
   ],
   "source": [
    "%%timeit\n",
    "# python原生\n",
    "x = [i for i in range(n+1)] # list列表\n",
    "sum_x = 0\n",
    "for i in x:\n",
    "    sum_x += i**2\n",
    "sum_x"
   ]
  },
  {
   "cell_type": "code",
   "execution_count": 6,
   "id": "00f70e65",
   "metadata": {},
   "outputs": [
    {
     "name": "stdout",
     "output_type": "stream",
     "text": [
      "10.7 ms ± 1.34 ms per loop (mean ± std. dev. of 7 runs, 100 loops each)\n"
     ]
    }
   ],
   "source": [
    "%%timeit\n",
    "# numpy实现\n",
    "# x = np.array([i for i in range(n+1)]) # nd array数组  向量矩阵\n",
    "x = np.arange(n+1)\n",
    "np.sum(x**2)"
   ]
  },
  {
   "cell_type": "markdown",
   "id": "af70e15d",
   "metadata": {},
   "source": [
    "# 核心对象：ndarray"
   ]
  },
  {
   "cell_type": "markdown",
   "id": "7fa23067",
   "metadata": {},
   "source": [
    "创建数组：np.array()、全零(2)、全一(2)、指定数值(2)、空数组(2)  \n",
    "等差数组：arange、linspace  \n",
    "改变形状：reshape  \n",
    "随机数组：random()、rand()、randint()、randn()、normal()\\uniform()、seed()  \n",
    "查看文档：?、help()"
   ]
  },
  {
   "cell_type": "markdown",
   "id": "1390318f",
   "metadata": {},
   "source": [
    "## 创建"
   ]
  },
  {
   "cell_type": "code",
   "execution_count": 7,
   "id": "c8203bf6",
   "metadata": {},
   "outputs": [
    {
     "data": {
      "text/plain": [
       "array([1, 2, 3, 4, 5, 6])"
      ]
     },
     "execution_count": 7,
     "metadata": {},
     "output_type": "execute_result"
    }
   ],
   "source": [
    "# 创建一维数组\n",
    "a = np.array([1,2,3,4,5,6])\n",
    "a # 向量"
   ]
  },
  {
   "cell_type": "code",
   "execution_count": 8,
   "id": "46ba4291",
   "metadata": {},
   "outputs": [
    {
     "data": {
      "text/plain": [
       "array([[1, 2, 3],\n",
       "       [4, 5, 6],\n",
       "       [7, 8, 9]])"
      ]
     },
     "execution_count": 8,
     "metadata": {},
     "output_type": "execute_result"
    }
   ],
   "source": [
    "# 创建二维数组\n",
    "A = np.array([ [1,2,3], \n",
    "              [4,5,6], \n",
    "              [7,8,9]])\n",
    "A # 矩阵"
   ]
  },
  {
   "cell_type": "markdown",
   "id": "dc10d06b",
   "metadata": {},
   "source": [
    "## 属性"
   ]
  },
  {
   "cell_type": "code",
   "execution_count": 9,
   "id": "13f88635",
   "metadata": {},
   "outputs": [
    {
     "name": "stdout",
     "output_type": "stream",
     "text": [
      "1\n",
      "2\n"
     ]
    }
   ],
   "source": [
    "# ndim维度数量\n",
    "print(a.ndim) \n",
    "print(A.ndim)"
   ]
  },
  {
   "cell_type": "code",
   "execution_count": 10,
   "id": "b2cb0713",
   "metadata": {},
   "outputs": [
    {
     "name": "stdout",
     "output_type": "stream",
     "text": [
      "(6,)\n",
      "(3, 3)\n"
     ]
    }
   ],
   "source": [
    "# shape形状 维度\n",
    "print(a.shape)\n",
    "print(A.shape) # 3行3列"
   ]
  },
  {
   "cell_type": "code",
   "execution_count": 11,
   "id": "f16b3d87",
   "metadata": {},
   "outputs": [
    {
     "name": "stdout",
     "output_type": "stream",
     "text": [
      "6\n",
      "9\n"
     ]
    }
   ],
   "source": [
    "# size元素个数\n",
    "print(a.size)\n",
    "print(A.size)"
   ]
  },
  {
   "cell_type": "code",
   "execution_count": 12,
   "id": "bb65a301",
   "metadata": {},
   "outputs": [
    {
     "name": "stdout",
     "output_type": "stream",
     "text": [
      "int32\n",
      "int32\n"
     ]
    }
   ],
   "source": [
    "# dtype元素类型\n",
    "print(a.dtype)\n",
    "print(A.dtype)"
   ]
  },
  {
   "cell_type": "markdown",
   "id": "f409fd99",
   "metadata": {},
   "source": [
    "## 便捷创建ones"
   ]
  },
  {
   "cell_type": "code",
   "execution_count": 13,
   "id": "c48a1a79",
   "metadata": {},
   "outputs": [
    {
     "data": {
      "text/plain": [
       "array([1., 1., 1., 1., 1., 1., 1., 1.])"
      ]
     },
     "execution_count": 13,
     "metadata": {},
     "output_type": "execute_result"
    }
   ],
   "source": [
    "np.ones(8)"
   ]
  },
  {
   "cell_type": "code",
   "execution_count": 14,
   "id": "6f9ab5fc",
   "metadata": {},
   "outputs": [
    {
     "data": {
      "text/plain": [
       "dtype('float64')"
      ]
     },
     "execution_count": 14,
     "metadata": {},
     "output_type": "execute_result"
    }
   ],
   "source": [
    "np.ones(8).dtype # 默认创建浮点型"
   ]
  },
  {
   "cell_type": "code",
   "execution_count": 15,
   "id": "7ce409c2",
   "metadata": {},
   "outputs": [
    {
     "data": {
      "text/plain": [
       "array([[1, 1, 1, 1],\n",
       "       [1, 1, 1, 1]], dtype=int64)"
      ]
     },
     "execution_count": 15,
     "metadata": {},
     "output_type": "execute_result"
    }
   ],
   "source": [
    "np.ones(shape=(2,4), dtype='int64') # shape  dtype"
   ]
  },
  {
   "cell_type": "code",
   "execution_count": 16,
   "id": "8292a6d8",
   "metadata": {},
   "outputs": [
    {
     "data": {
      "text/plain": [
       "array([[1, 1, 1],\n",
       "       [1, 1, 1],\n",
       "       [1, 1, 1]])"
      ]
     },
     "execution_count": 16,
     "metadata": {},
     "output_type": "execute_result"
    }
   ],
   "source": [
    "np.ones_like(A) # 创建形状相同的数组"
   ]
  },
  {
   "cell_type": "markdown",
   "id": "5b48df34",
   "metadata": {},
   "source": [
    "## 便捷创建zeros"
   ]
  },
  {
   "cell_type": "code",
   "execution_count": 17,
   "id": "7184e962",
   "metadata": {},
   "outputs": [
    {
     "data": {
      "text/plain": [
       "array([[0, 0],\n",
       "       [0, 0],\n",
       "       [0, 0]], dtype=int64)"
      ]
     },
     "execution_count": 17,
     "metadata": {},
     "output_type": "execute_result"
    }
   ],
   "source": [
    "np.zeros((3,2), dtype='int64')"
   ]
  },
  {
   "cell_type": "code",
   "execution_count": 18,
   "id": "a92b5d04",
   "metadata": {},
   "outputs": [
    {
     "data": {
      "text/plain": [
       "array([[0, 0, 0],\n",
       "       [0, 0, 0],\n",
       "       [0, 0, 0]])"
      ]
     },
     "execution_count": 18,
     "metadata": {},
     "output_type": "execute_result"
    }
   ],
   "source": [
    "np.zeros_like(A)"
   ]
  },
  {
   "cell_type": "markdown",
   "id": "4d04f81b",
   "metadata": {},
   "source": [
    "## 指定数值创建full"
   ]
  },
  {
   "cell_type": "code",
   "execution_count": 19,
   "id": "9dc7327c",
   "metadata": {},
   "outputs": [
    {
     "data": {
      "text/plain": [
       "array([666, 666, 666, 666, 666, 666, 666, 666])"
      ]
     },
     "execution_count": 19,
     "metadata": {},
     "output_type": "execute_result"
    }
   ],
   "source": [
    "np.full(8,666) # 指定数组形状  指定数组数值"
   ]
  },
  {
   "cell_type": "code",
   "execution_count": 20,
   "id": "8d776d38",
   "metadata": {},
   "outputs": [
    {
     "data": {
      "text/plain": [
       "array([[1043, 1043, 1043, 1043],\n",
       "       [1043, 1043, 1043, 1043]])"
      ]
     },
     "execution_count": 20,
     "metadata": {},
     "output_type": "execute_result"
    }
   ],
   "source": [
    "np.full((2,4), 1043)"
   ]
  },
  {
   "cell_type": "code",
   "execution_count": 21,
   "id": "f2158087",
   "metadata": {},
   "outputs": [
    {
     "data": {
      "text/plain": [
       "array([[374, 374, 374],\n",
       "       [374, 374, 374],\n",
       "       [374, 374, 374]])"
      ]
     },
     "execution_count": 21,
     "metadata": {},
     "output_type": "execute_result"
    }
   ],
   "source": [
    "np.full_like(A,374)"
   ]
  },
  {
   "cell_type": "markdown",
   "id": "2d6f86cc",
   "metadata": {},
   "source": [
    "## 创建空数组empty：元素随机值"
   ]
  },
  {
   "cell_type": "code",
   "execution_count": 33,
   "id": "17a13f8b",
   "metadata": {},
   "outputs": [
    {
     "data": {
      "text/plain": [
       "array([1., 1., 1., 1., 1., 1., 1., 1.])"
      ]
     },
     "execution_count": 33,
     "metadata": {},
     "output_type": "execute_result"
    }
   ],
   "source": [
    "np.empty(8)"
   ]
  },
  {
   "cell_type": "code",
   "execution_count": 31,
   "id": "419e23f1",
   "metadata": {},
   "outputs": [
    {
     "data": {
      "text/plain": [
       "array([[1., 1., 1., 1.],\n",
       "       [1., 1., 1., 1.]])"
      ]
     },
     "execution_count": 31,
     "metadata": {},
     "output_type": "execute_result"
    }
   ],
   "source": [
    "np.empty((2,4))"
   ]
  },
  {
   "cell_type": "code",
   "execution_count": 29,
   "id": "f53d1151",
   "metadata": {},
   "outputs": [
    {
     "data": {
      "text/plain": [
       "array([[         0,          1,          0],\n",
       "       [       441,       1264,          0],\n",
       "       [       768,        441, 1369109312]])"
      ]
     },
     "execution_count": 29,
     "metadata": {},
     "output_type": "execute_result"
    }
   ],
   "source": [
    "np.empty_like(A)"
   ]
  },
  {
   "cell_type": "markdown",
   "id": "440e80e8",
   "metadata": {},
   "source": [
    "## 创建等差数组arange"
   ]
  },
  {
   "cell_type": "code",
   "execution_count": 34,
   "id": "aed0984c",
   "metadata": {},
   "outputs": [
    {
     "data": {
      "text/plain": [
       "array([0, 1, 2, 3, 4, 5, 6, 7, 8, 9])"
      ]
     },
     "execution_count": 34,
     "metadata": {},
     "output_type": "execute_result"
    }
   ],
   "source": [
    "np.arange(10) # 包前不包后"
   ]
  },
  {
   "cell_type": "code",
   "execution_count": 37,
   "id": "23bd42d8",
   "metadata": {},
   "outputs": [
    {
     "data": {
      "text/plain": [
       "array([1, 3, 5, 7, 9])"
      ]
     },
     "execution_count": 37,
     "metadata": {},
     "output_type": "execute_result"
    }
   ],
   "source": [
    "np.arange(1,10,2) # 开始 结束 步长"
   ]
  },
  {
   "cell_type": "code",
   "execution_count": 38,
   "id": "6a6a4843",
   "metadata": {},
   "outputs": [
    {
     "data": {
      "text/plain": [
       "array([[0, 1, 2, 3, 4],\n",
       "       [5, 6, 7, 8, 9]])"
      ]
     },
     "execution_count": 38,
     "metadata": {},
     "output_type": "execute_result"
    }
   ],
   "source": [
    "np.arange(10).reshape(2,5) # 改变形状reshape"
   ]
  },
  {
   "cell_type": "markdown",
   "id": "c6d5a369",
   "metadata": {},
   "source": [
    "## 创建等差数组linspace"
   ]
  },
  {
   "cell_type": "code",
   "execution_count": 40,
   "id": "c6e67626",
   "metadata": {},
   "outputs": [
    {
     "data": {
      "text/plain": [
       "array([ 0. ,  2.5,  5. ,  7.5, 10. ])"
      ]
     },
     "execution_count": 40,
     "metadata": {},
     "output_type": "execute_result"
    }
   ],
   "source": [
    "np.linspace(0,10,5) # 起始 终止(包含) 个数"
   ]
  },
  {
   "cell_type": "markdown",
   "id": "40f48693",
   "metadata": {},
   "source": [
    "## 创建随机数数组random"
   ]
  },
  {
   "cell_type": "code",
   "execution_count": 42,
   "id": "15056386",
   "metadata": {},
   "outputs": [
    {
     "data": {
      "text/plain": [
       "0.4237240334722222"
      ]
     },
     "execution_count": 42,
     "metadata": {},
     "output_type": "execute_result"
    }
   ],
   "source": [
    "np.random.random() # 0到1的随机数 不包含1"
   ]
  },
  {
   "cell_type": "code",
   "execution_count": 43,
   "id": "259dae2f",
   "metadata": {},
   "outputs": [
    {
     "data": {
      "text/plain": [
       "array([0.24536128, 0.99126585, 0.0612808 , 0.15163629, 0.50203532])"
      ]
     },
     "execution_count": 43,
     "metadata": {},
     "output_type": "execute_result"
    }
   ],
   "source": [
    "np.random.random(5) # 5个"
   ]
  },
  {
   "cell_type": "code",
   "execution_count": 46,
   "id": "c2a98905",
   "metadata": {},
   "outputs": [
    {
     "data": {
      "text/plain": [
       "array([[0.26197514, 0.33291841, 0.38479245, 0.4782498 ],\n",
       "       [0.28185954, 0.74538219, 0.02322522, 0.33492452]])"
      ]
     },
     "execution_count": 46,
     "metadata": {},
     "output_type": "execute_result"
    }
   ],
   "source": [
    "np.random.random((2,4)) # 2行4列 传元组"
   ]
  },
  {
   "cell_type": "markdown",
   "id": "6c2427c7",
   "metadata": {},
   "source": [
    "## 创建随机数数组rand"
   ]
  },
  {
   "cell_type": "code",
   "execution_count": 47,
   "id": "2b294478",
   "metadata": {},
   "outputs": [
    {
     "data": {
      "text/plain": [
       "0.30428730845876384"
      ]
     },
     "execution_count": 47,
     "metadata": {},
     "output_type": "execute_result"
    }
   ],
   "source": [
    "np.random.rand()"
   ]
  },
  {
   "cell_type": "code",
   "execution_count": 48,
   "id": "3ca5d73c",
   "metadata": {},
   "outputs": [
    {
     "data": {
      "text/plain": [
       "array([0.74656883, 0.99705106, 0.71720804, 0.66429319, 0.79707596])"
      ]
     },
     "execution_count": 48,
     "metadata": {},
     "output_type": "execute_result"
    }
   ],
   "source": [
    "np.random.rand(5)"
   ]
  },
  {
   "cell_type": "code",
   "execution_count": 49,
   "id": "05d79703",
   "metadata": {},
   "outputs": [
    {
     "data": {
      "text/plain": [
       "array([[0.89837031, 0.54724053, 0.62741366],\n",
       "       [0.60254325, 0.61442833, 0.75399601]])"
      ]
     },
     "execution_count": 49,
     "metadata": {},
     "output_type": "execute_result"
    }
   ],
   "source": [
    "np.random.rand(2,3) # 不用传元组"
   ]
  },
  {
   "cell_type": "code",
   "execution_count": 50,
   "id": "650742e5",
   "metadata": {},
   "outputs": [
    {
     "data": {
      "text/plain": [
       "array([[[0.84097193, 0.42364063, 0.03732786, 0.69965144],\n",
       "        [0.95863207, 0.63960309, 0.1057799 , 0.82032251],\n",
       "        [0.48879353, 0.74086251, 0.32329497, 0.0482025 ]],\n",
       "\n",
       "       [[0.21718297, 0.66494739, 0.86137497, 0.59808986],\n",
       "        [0.88507105, 0.87152339, 0.56312289, 0.96841537],\n",
       "        [0.81501562, 0.42395778, 0.34107568, 0.68069834]]])"
      ]
     },
     "execution_count": 50,
     "metadata": {},
     "output_type": "execute_result"
    }
   ],
   "source": [
    "np.random.rand(2,3,4)"
   ]
  },
  {
   "cell_type": "markdown",
   "id": "56288148",
   "metadata": {},
   "source": [
    "## 创建随机整数数组randint"
   ]
  },
  {
   "cell_type": "code",
   "execution_count": 51,
   "id": "d531b1d0",
   "metadata": {},
   "outputs": [
    {
     "data": {
      "text/plain": [
       "4"
      ]
     },
     "execution_count": 51,
     "metadata": {},
     "output_type": "execute_result"
    }
   ],
   "source": [
    "np.random.randint(5) # 0到5间的随机数 不包后"
   ]
  },
  {
   "cell_type": "code",
   "execution_count": 53,
   "id": "e53fec35",
   "metadata": {},
   "outputs": [
    {
     "data": {
      "text/plain": [
       "9"
      ]
     },
     "execution_count": 53,
     "metadata": {},
     "output_type": "execute_result"
    }
   ],
   "source": [
    "np.random.randint(3,10) # 3到10的随机数 不包后"
   ]
  },
  {
   "cell_type": "code",
   "execution_count": 56,
   "id": "3cb9cb04",
   "metadata": {},
   "outputs": [
    {
     "data": {
      "text/plain": [
       "array([7, 7, 8, 6])"
      ]
     },
     "execution_count": 56,
     "metadata": {},
     "output_type": "execute_result"
    }
   ],
   "source": [
    "np.random.randint(3,10,size=4) # 4个"
   ]
  },
  {
   "cell_type": "code",
   "execution_count": 69,
   "id": "9bdfb8ab",
   "metadata": {},
   "outputs": [
    {
     "data": {
      "text/plain": [
       "array([[4, 9, 7],\n",
       "       [8, 6, 9]])"
      ]
     },
     "execution_count": 69,
     "metadata": {},
     "output_type": "execute_result"
    }
   ],
   "source": [
    "np.random.randint(3,10,(2,3)) # 2行3列"
   ]
  },
  {
   "cell_type": "markdown",
   "id": "d8ab7e44",
   "metadata": {},
   "source": [
    "## 随机种子seed(调试-每次随机结果一样)"
   ]
  },
  {
   "cell_type": "code",
   "execution_count": 72,
   "id": "1ba8418f",
   "metadata": {},
   "outputs": [
    {
     "data": {
      "text/plain": [
       "array([[6, 8, 3],\n",
       "       [9, 9, 6]])"
      ]
     },
     "execution_count": 72,
     "metadata": {},
     "output_type": "execute_result"
    }
   ],
   "source": [
    "np.random.seed(656)\n",
    "np.random.randint(3,10,(2,3))"
   ]
  },
  {
   "cell_type": "markdown",
   "id": "bab462aa",
   "metadata": {},
   "source": [
    "## 具有标准正态分布的随机数randn"
   ]
  },
  {
   "cell_type": "code",
   "execution_count": 73,
   "id": "589c1182",
   "metadata": {},
   "outputs": [
    {
     "data": {
      "text/plain": [
       "array([-0.02872151, -1.55623571,  0.03968569,  0.32836457,  1.42258494])"
      ]
     },
     "execution_count": 73,
     "metadata": {},
     "output_type": "execute_result"
    }
   ],
   "source": [
    "np.random.randn(5)"
   ]
  },
  {
   "cell_type": "code",
   "execution_count": 74,
   "id": "0883f282",
   "metadata": {},
   "outputs": [
    {
     "data": {
      "text/plain": [
       "array([[ 0.71060724,  0.02349468],\n",
       "       [-0.79349136,  0.02462305],\n",
       "       [-0.22906072, -0.5357155 ],\n",
       "       [ 0.6747294 ,  0.71785838],\n",
       "       [ 1.42192423, -1.335596  ]])"
      ]
     },
     "execution_count": 74,
     "metadata": {},
     "output_type": "execute_result"
    }
   ],
   "source": [
    "np.random.randn(5,2)"
   ]
  },
  {
   "cell_type": "code",
   "execution_count": 75,
   "id": "9c8a4f48",
   "metadata": {},
   "outputs": [
    {
     "data": {
      "text/plain": [
       "array([[[ 0.02292897,  0.86992308],\n",
       "        [-0.63883041, -0.57392423],\n",
       "        [-0.35826868,  1.31647355],\n",
       "        [-1.33034621, -1.11902429]],\n",
       "\n",
       "       [[ 0.3824148 ,  0.34870556],\n",
       "        [-0.18834013,  0.80505674],\n",
       "        [-0.74605918, -0.63896701],\n",
       "        [ 0.47667375,  0.54318413]]])"
      ]
     },
     "execution_count": 75,
     "metadata": {},
     "output_type": "execute_result"
    }
   ],
   "source": [
    "np.random.randn(2,4,2)"
   ]
  },
  {
   "cell_type": "markdown",
   "id": "08520b91",
   "metadata": {},
   "source": [
    "## 具有高斯分布的随机数据normal(可设均值方差)"
   ]
  },
  {
   "cell_type": "code",
   "execution_count": 76,
   "id": "f4ce68f4",
   "metadata": {},
   "outputs": [
    {
     "data": {
      "text/plain": [
       "0.319617401504003"
      ]
     },
     "execution_count": 76,
     "metadata": {},
     "output_type": "execute_result"
    }
   ],
   "source": [
    "np.random.normal() # 默认均值0 方差1 标准正态分布"
   ]
  },
  {
   "cell_type": "code",
   "execution_count": 80,
   "id": "b2e85591",
   "metadata": {},
   "outputs": [
    {
     "data": {
      "text/plain": [
       "array([ 381.35193597, -639.92699048,   27.96971324,  421.90173928])"
      ]
     },
     "execution_count": 80,
     "metadata": {},
     "output_type": "execute_result"
    }
   ],
   "source": [
    "np.random.normal(10,1000,4) # 5个 "
   ]
  },
  {
   "cell_type": "code",
   "execution_count": 81,
   "id": "082e415a",
   "metadata": {},
   "outputs": [
    {
     "data": {
      "text/plain": [
       "array([[  801.48719548,  -593.03072474,   781.91478282,  -341.23514008],\n",
       "       [ 1132.01450909, -2252.22531118,  -386.48885445,   -10.48770378]])"
      ]
     },
     "execution_count": 81,
     "metadata": {},
     "output_type": "execute_result"
    }
   ],
   "source": [
    "np.random.normal(10,1000,size=(2,4))"
   ]
  },
  {
   "cell_type": "markdown",
   "id": "6d96077f",
   "metadata": {},
   "source": [
    "## 具有均匀分布的随机数据uniform"
   ]
  },
  {
   "cell_type": "code",
   "execution_count": 82,
   "id": "5a27a247",
   "metadata": {},
   "outputs": [
    {
     "data": {
      "text/plain": [
       "0.1317830661080962"
      ]
     },
     "execution_count": 82,
     "metadata": {},
     "output_type": "execute_result"
    }
   ],
   "source": [
    "np.random.uniform() # 默认0到1的随机数 不包后"
   ]
  },
  {
   "cell_type": "code",
   "execution_count": 84,
   "id": "2ef26a6b",
   "metadata": {},
   "outputs": [
    {
     "data": {
      "text/plain": [
       "3.074745019511131"
      ]
     },
     "execution_count": 84,
     "metadata": {},
     "output_type": "execute_result"
    }
   ],
   "source": [
    "np.random.uniform(1,5) # 1到5的随机数"
   ]
  },
  {
   "cell_type": "code",
   "execution_count": 85,
   "id": "a045e5ab",
   "metadata": {},
   "outputs": [
    {
     "data": {
      "text/plain": [
       "array([[1.35280612, 1.02290308, 2.610166  , 1.15536378],\n",
       "       [1.55888252, 1.23378518, 2.15296581, 3.64262604],\n",
       "       [1.86923099, 4.01302336, 2.78760738, 2.12483152]])"
      ]
     },
     "execution_count": 85,
     "metadata": {},
     "output_type": "execute_result"
    }
   ],
   "source": [
    "np.random.uniform(1,5,size=(3,4)) # 3行4列"
   ]
  },
  {
   "cell_type": "markdown",
   "id": "40e9af68",
   "metadata": {},
   "source": [
    "## 查看说明"
   ]
  },
  {
   "cell_type": "code",
   "execution_count": 93,
   "id": "c689c81d",
   "metadata": {},
   "outputs": [],
   "source": [
    "np.random.uniform?"
   ]
  },
  {
   "cell_type": "code",
   "execution_count": 94,
   "id": "bdec4ebc",
   "metadata": {},
   "outputs": [
    {
     "name": "stdout",
     "output_type": "stream",
     "text": [
      "Help on built-in function uniform:\n",
      "\n",
      "uniform(...) method of numpy.random.mtrand.RandomState instance\n",
      "    uniform(low=0.0, high=1.0, size=None)\n",
      "    \n",
      "    Draw samples from a uniform distribution.\n",
      "    \n",
      "    Samples are uniformly distributed over the half-open interval\n",
      "    ``[low, high)`` (includes low, but excludes high).  In other words,\n",
      "    any value within the given interval is equally likely to be drawn\n",
      "    by `uniform`.\n",
      "    \n",
      "    .. note::\n",
      "        New code should use the `~numpy.random.Generator.uniform`\n",
      "        method of a `~numpy.random.Generator` instance instead;\n",
      "        please see the :ref:`random-quick-start`.\n",
      "    \n",
      "    Parameters\n",
      "    ----------\n",
      "    low : float or array_like of floats, optional\n",
      "        Lower boundary of the output interval.  All values generated will be\n",
      "        greater than or equal to low.  The default value is 0.\n",
      "    high : float or array_like of floats\n",
      "        Upper boundary of the output interval.  All values generated will be\n",
      "        less than or equal to high.  The high limit may be included in the \n",
      "        returned array of floats due to floating-point rounding in the \n",
      "        equation ``low + (high-low) * random_sample()``.  The default value \n",
      "        is 1.0.\n",
      "    size : int or tuple of ints, optional\n",
      "        Output shape.  If the given shape is, e.g., ``(m, n, k)``, then\n",
      "        ``m * n * k`` samples are drawn.  If size is ``None`` (default),\n",
      "        a single value is returned if ``low`` and ``high`` are both scalars.\n",
      "        Otherwise, ``np.broadcast(low, high).size`` samples are drawn.\n",
      "    \n",
      "    Returns\n",
      "    -------\n",
      "    out : ndarray or scalar\n",
      "        Drawn samples from the parameterized uniform distribution.\n",
      "    \n",
      "    See Also\n",
      "    --------\n",
      "    randint : Discrete uniform distribution, yielding integers.\n",
      "    random_integers : Discrete uniform distribution over the closed\n",
      "                      interval ``[low, high]``.\n",
      "    random_sample : Floats uniformly distributed over ``[0, 1)``.\n",
      "    random : Alias for `random_sample`.\n",
      "    rand : Convenience function that accepts dimensions as input, e.g.,\n",
      "           ``rand(2,2)`` would generate a 2-by-2 array of floats,\n",
      "           uniformly distributed over ``[0, 1)``.\n",
      "    random.Generator.uniform: which should be used for new code.\n",
      "    \n",
      "    Notes\n",
      "    -----\n",
      "    The probability density function of the uniform distribution is\n",
      "    \n",
      "    .. math:: p(x) = \\frac{1}{b - a}\n",
      "    \n",
      "    anywhere within the interval ``[a, b)``, and zero elsewhere.\n",
      "    \n",
      "    When ``high`` == ``low``, values of ``low`` will be returned.\n",
      "    If ``high`` < ``low``, the results are officially undefined\n",
      "    and may eventually raise an error, i.e. do not rely on this\n",
      "    function to behave when passed arguments satisfying that\n",
      "    inequality condition. The ``high`` limit may be included in the\n",
      "    returned array of floats due to floating-point rounding in the\n",
      "    equation ``low + (high-low) * random_sample()``. For example:\n",
      "    \n",
      "    >>> x = np.float32(5*0.99999999)\n",
      "    >>> x\n",
      "    5.0\n",
      "    \n",
      "    \n",
      "    Examples\n",
      "    --------\n",
      "    Draw samples from the distribution:\n",
      "    \n",
      "    >>> s = np.random.uniform(-1,0,1000)\n",
      "    \n",
      "    All values are within the given interval:\n",
      "    \n",
      "    >>> np.all(s >= -1)\n",
      "    True\n",
      "    >>> np.all(s < 0)\n",
      "    True\n",
      "    \n",
      "    Display the histogram of the samples, along with the\n",
      "    probability density function:\n",
      "    \n",
      "    >>> import matplotlib.pyplot as plt\n",
      "    >>> count, bins, ignored = plt.hist(s, 15, density=True)\n",
      "    >>> plt.plot(bins, np.ones_like(bins), linewidth=2, color='r')\n",
      "    >>> plt.show()\n",
      "\n"
     ]
    }
   ],
   "source": [
    "help(np.random.uniform)"
   ]
  },
  {
   "cell_type": "markdown",
   "id": "ca1fc768",
   "metadata": {},
   "source": [
    "# 索引和切片"
   ]
  },
  {
   "cell_type": "code",
   "execution_count": 95,
   "id": "966dc063",
   "metadata": {},
   "outputs": [
    {
     "data": {
      "text/plain": [
       "array([0, 1, 2, 3, 4, 5, 6, 7, 8, 9])"
      ]
     },
     "execution_count": 95,
     "metadata": {},
     "output_type": "execute_result"
    }
   ],
   "source": [
    "a = np.arange(10) # 一维数组 向量\n",
    "a"
   ]
  },
  {
   "cell_type": "code",
   "execution_count": 98,
   "id": "8e648a46",
   "metadata": {},
   "outputs": [
    {
     "data": {
      "text/plain": [
       "array([[ 0,  1,  2,  3,  4],\n",
       "       [ 5,  6,  7,  8,  9],\n",
       "       [10, 11, 12, 13, 14],\n",
       "       [15, 16, 17, 18, 19]])"
      ]
     },
     "execution_count": 98,
     "metadata": {},
     "output_type": "execute_result"
    }
   ],
   "source": [
    "A = np.arange(20).reshape(4,5)\n",
    "A"
   ]
  },
  {
   "cell_type": "markdown",
   "id": "237682f3",
   "metadata": {},
   "source": [
    "## 一维数组"
   ]
  },
  {
   "cell_type": "code",
   "execution_count": 99,
   "id": "89d8ffed",
   "metadata": {},
   "outputs": [
    {
     "name": "stdout",
     "output_type": "stream",
     "text": [
      "[0 1 2 3 4 5 6 7 8 9]\n",
      "0\n",
      "4\n",
      "9\n"
     ]
    }
   ],
   "source": [
    "print(a)\n",
    "print(a[0])\n",
    "print(a[4])\n",
    "print(a[-1]) # 倒数第一个"
   ]
  },
  {
   "cell_type": "code",
   "execution_count": 102,
   "id": "71339816",
   "metadata": {},
   "outputs": [
    {
     "name": "stdout",
     "output_type": "stream",
     "text": [
      "[0 1 2 3 4]\n",
      "[0 1 2 3 4]\n",
      "[4 5 6 7 8 9]\n",
      "[7 8 9]\n",
      "[0 1 2 3 4 5 6 7 8 9]\n"
     ]
    }
   ],
   "source": [
    "print(a[0:5]) # 索引0到索引5(不包括)\n",
    "print(a[:5]) # 到索引5(不包括)\n",
    "print(a[4:]) # 索引4到\n",
    "print(a[-3:]) # 倒数第三个到\n",
    "print(a[:]) # 到"
   ]
  },
  {
   "cell_type": "code",
   "execution_count": 103,
   "id": "3f001a56",
   "metadata": {},
   "outputs": [
    {
     "name": "stdout",
     "output_type": "stream",
     "text": [
      "[9 8 7 6 5 4 3 2 1 0]\n"
     ]
    }
   ],
   "source": [
    "print(a[::-1]) # 倒叙 ::-1"
   ]
  },
  {
   "cell_type": "markdown",
   "id": "ab0e6071",
   "metadata": {},
   "source": [
    "## 二维数组"
   ]
  },
  {
   "cell_type": "code",
   "execution_count": 108,
   "id": "643db50a",
   "metadata": {},
   "outputs": [
    {
     "name": "stdout",
     "output_type": "stream",
     "text": [
      "0\n",
      "[0 1 2 3 4]\n",
      "[0 1 2 3 4]\n",
      "[15 16 17 18 19]\n",
      "[ 0  5 10 15]\n",
      "[ 4  9 14 19]\n",
      "[[0 1 2 3]\n",
      " [5 6 7 8]]\n"
     ]
    }
   ],
   "source": [
    "print(A[0,0]) # 0行0列\n",
    "print(A[0,:]) # 0行 列(所有)\n",
    "print(A[0]) # 0行\n",
    "print(A[-1]) # -1行\n",
    "print(A[:,0]) # 0列 行(所有)\n",
    "print(A[:,-1]) # -1列 行(所有)\n",
    "print(A[:2,:4]) # 2行4列  到"
   ]
  },
  {
   "cell_type": "code",
   "execution_count": 107,
   "id": "7f7d85d6",
   "metadata": {},
   "outputs": [
    {
     "name": "stdout",
     "output_type": "stream",
     "text": [
      "[[19 18 17 16 15]\n",
      " [14 13 12 11 10]\n",
      " [ 9  8  7  6  5]\n",
      " [ 4  3  2  1  0]]\n"
     ]
    }
   ],
   "source": [
    "print(A[::-1,::-1]) # 倒叙 行列"
   ]
  },
  {
   "cell_type": "markdown",
   "id": "06d25474",
   "metadata": {},
   "source": [
    "## np切片(引用绑定)"
   ]
  },
  {
   "cell_type": "code",
   "execution_count": 109,
   "id": "704f431c",
   "metadata": {},
   "outputs": [
    {
     "data": {
      "text/plain": [
       "array([[0, 1, 2],\n",
       "       [5, 6, 7]])"
      ]
     },
     "execution_count": 109,
     "metadata": {},
     "output_type": "execute_result"
    }
   ],
   "source": [
    "X = A[:2,:3]\n",
    "X"
   ]
  },
  {
   "cell_type": "code",
   "execution_count": 110,
   "id": "4d51d144",
   "metadata": {},
   "outputs": [
    {
     "data": {
      "text/plain": [
       "array([[666,   1,   2],\n",
       "       [  5,   6,   7]])"
      ]
     },
     "execution_count": 110,
     "metadata": {},
     "output_type": "execute_result"
    }
   ],
   "source": [
    "X[0,0] = 666\n",
    "X"
   ]
  },
  {
   "cell_type": "code",
   "execution_count": 111,
   "id": "559a70cd",
   "metadata": {},
   "outputs": [
    {
     "data": {
      "text/plain": [
       "array([[666,   1,   2,   3,   4],\n",
       "       [  5,   6,   7,   8,   9],\n",
       "       [ 10,  11,  12,  13,  14],\n",
       "       [ 15,  16,  17,  18,  19]])"
      ]
     },
     "execution_count": 111,
     "metadata": {},
     "output_type": "execute_result"
    }
   ],
   "source": [
    "A"
   ]
  },
  {
   "cell_type": "markdown",
   "id": "cc307069",
   "metadata": {},
   "source": [
    "## np切片(引用绑定)"
   ]
  },
  {
   "cell_type": "code",
   "execution_count": 112,
   "id": "c214cbf5",
   "metadata": {},
   "outputs": [
    {
     "data": {
      "text/plain": [
       "array([[ 0,  1,  2,  3,  4],\n",
       "       [ 5,  6,  7,  8,  9],\n",
       "       [10, 11, 12, 13, 14],\n",
       "       [15, 16, 17, 18, 19]])"
      ]
     },
     "execution_count": 112,
     "metadata": {},
     "output_type": "execute_result"
    }
   ],
   "source": [
    "A[0,0] = 0\n",
    "A"
   ]
  },
  {
   "cell_type": "code",
   "execution_count": 113,
   "id": "f9c325fb",
   "metadata": {},
   "outputs": [
    {
     "data": {
      "text/plain": [
       "array([[0, 1, 2],\n",
       "       [5, 6, 7]])"
      ]
     },
     "execution_count": 113,
     "metadata": {},
     "output_type": "execute_result"
    }
   ],
   "source": [
    "X"
   ]
  },
  {
   "cell_type": "markdown",
   "id": "fd7ac5c9",
   "metadata": {},
   "source": [
    "## 拷贝(不关联)"
   ]
  },
  {
   "cell_type": "code",
   "execution_count": 114,
   "id": "c2327056",
   "metadata": {},
   "outputs": [
    {
     "data": {
      "text/plain": [
       "array([[0, 1, 2],\n",
       "       [5, 6, 7]])"
      ]
     },
     "execution_count": 114,
     "metadata": {},
     "output_type": "execute_result"
    }
   ],
   "source": [
    "X = A[:2,:3].copy()\n",
    "X"
   ]
  },
  {
   "cell_type": "code",
   "execution_count": 115,
   "id": "d0cbcd07",
   "metadata": {},
   "outputs": [
    {
     "data": {
      "text/plain": [
       "array([[666,   1,   2],\n",
       "       [  5,   6,   7]])"
      ]
     },
     "execution_count": 115,
     "metadata": {},
     "output_type": "execute_result"
    }
   ],
   "source": [
    "X[0,0] = 666\n",
    "X"
   ]
  },
  {
   "cell_type": "code",
   "execution_count": 116,
   "id": "22d35d73",
   "metadata": {},
   "outputs": [
    {
     "data": {
      "text/plain": [
       "array([[ 0,  1,  2,  3,  4],\n",
       "       [ 5,  6,  7,  8,  9],\n",
       "       [10, 11, 12, 13, 14],\n",
       "       [15, 16, 17, 18, 19]])"
      ]
     },
     "execution_count": 116,
     "metadata": {},
     "output_type": "execute_result"
    }
   ],
   "source": [
    "A"
   ]
  },
  {
   "cell_type": "markdown",
   "id": "d2544016",
   "metadata": {},
   "source": [
    "# 合并和拆分"
   ]
  },
  {
   "cell_type": "markdown",
   "id": "7f4e766c",
   "metadata": {},
   "source": [
    "## 合并concatenate"
   ]
  },
  {
   "cell_type": "code",
   "execution_count": 124,
   "id": "22be89df",
   "metadata": {},
   "outputs": [
    {
     "data": {
      "text/plain": [
       "array([[ 0,  1,  2,  3],\n",
       "       [ 4,  5,  6,  7],\n",
       "       [ 8,  9, 10, 11]])"
      ]
     },
     "execution_count": 124,
     "metadata": {},
     "output_type": "execute_result"
    }
   ],
   "source": [
    "X = np.arange(12).reshape(3,4)\n",
    "X"
   ]
  },
  {
   "cell_type": "code",
   "execution_count": 133,
   "id": "e3efd705",
   "metadata": {},
   "outputs": [
    {
     "data": {
      "text/plain": [
       "array([6, 6, 6, 6])"
      ]
     },
     "execution_count": 133,
     "metadata": {},
     "output_type": "execute_result"
    }
   ],
   "source": [
    "a = np.array([6]*4)\n",
    "a"
   ]
  },
  {
   "cell_type": "code",
   "execution_count": 131,
   "id": "1cc69ff3",
   "metadata": {},
   "outputs": [
    {
     "ename": "ValueError",
     "evalue": "all the input arrays must have same number of dimensions, but the array at index 0 has 2 dimension(s) and the array at index 1 has 1 dimension(s)",
     "output_type": "error",
     "traceback": [
      "\u001b[1;31m---------------------------------------------------------------------------\u001b[0m",
      "\u001b[1;31mValueError\u001b[0m                                Traceback (most recent call last)",
      "Cell \u001b[1;32mIn[131], line 1\u001b[0m\n\u001b[1;32m----> 1\u001b[0m \u001b[43mnp\u001b[49m\u001b[38;5;241;43m.\u001b[39;49m\u001b[43mconcatenate\u001b[49m\u001b[43m(\u001b[49m\u001b[43m(\u001b[49m\u001b[43mX\u001b[49m\u001b[43m,\u001b[49m\u001b[43ma\u001b[49m\u001b[43m)\u001b[49m\u001b[43m)\u001b[49m\n",
      "File \u001b[1;32m<__array_function__ internals>:200\u001b[0m, in \u001b[0;36mconcatenate\u001b[1;34m(*args, **kwargs)\u001b[0m\n",
      "\u001b[1;31mValueError\u001b[0m: all the input arrays must have same number of dimensions, but the array at index 0 has 2 dimension(s) and the array at index 1 has 1 dimension(s)"
     ]
    }
   ],
   "source": [
    "np.concatenate((X,a)) # a是列向量"
   ]
  },
  {
   "cell_type": "code",
   "execution_count": 135,
   "id": "77774e1d",
   "metadata": {},
   "outputs": [
    {
     "data": {
      "text/plain": [
       "array([[ 0,  1,  2,  3],\n",
       "       [ 4,  5,  6,  7],\n",
       "       [ 8,  9, 10, 11],\n",
       "       [ 6,  6,  6,  6]])"
      ]
     },
     "execution_count": 135,
     "metadata": {},
     "output_type": "execute_result"
    }
   ],
   "source": [
    "A = np.concatenate((X,a.reshape(1,4))) # 把a变成行向量\n",
    "A"
   ]
  },
  {
   "cell_type": "markdown",
   "id": "63d180c4",
   "metadata": {},
   "source": [
    "## 合并vstack"
   ]
  },
  {
   "cell_type": "code",
   "execution_count": 136,
   "id": "33860d44",
   "metadata": {},
   "outputs": [
    {
     "data": {
      "text/plain": [
       "array([[ 0,  1,  2,  3],\n",
       "       [ 4,  5,  6,  7],\n",
       "       [ 8,  9, 10, 11],\n",
       "       [ 6,  6,  6,  6]])"
      ]
     },
     "execution_count": 136,
     "metadata": {},
     "output_type": "execute_result"
    }
   ],
   "source": [
    "np.vstack((X,a)) # vstack"
   ]
  },
  {
   "cell_type": "markdown",
   "id": "5125666b",
   "metadata": {},
   "source": [
    "## 合并hstack"
   ]
  },
  {
   "cell_type": "code",
   "execution_count": 137,
   "id": "bb49fcc0",
   "metadata": {},
   "outputs": [
    {
     "data": {
      "text/plain": [
       "array([[666, 666],\n",
       "       [666, 666],\n",
       "       [666, 666]])"
      ]
     },
     "execution_count": 137,
     "metadata": {},
     "output_type": "execute_result"
    }
   ],
   "source": [
    "B = np.full((3,2),666)\n",
    "B"
   ]
  },
  {
   "cell_type": "code",
   "execution_count": 138,
   "id": "8cdabb51",
   "metadata": {},
   "outputs": [
    {
     "data": {
      "text/plain": [
       "array([[  0,   1,   2,   3, 666, 666],\n",
       "       [  4,   5,   6,   7, 666, 666],\n",
       "       [  8,   9,  10,  11, 666, 666]])"
      ]
     },
     "execution_count": 138,
     "metadata": {},
     "output_type": "execute_result"
    }
   ],
   "source": [
    "np.hstack((X,B)) # hstack"
   ]
  },
  {
   "cell_type": "code",
   "execution_count": 139,
   "id": "84c4f443",
   "metadata": {},
   "outputs": [
    {
     "data": {
      "text/plain": [
       "array([[  0,   1,   2,   3, 666, 666],\n",
       "       [  4,   5,   6,   7, 666, 666],\n",
       "       [  8,   9,  10,  11, 666, 666]])"
      ]
     },
     "execution_count": 139,
     "metadata": {},
     "output_type": "execute_result"
    }
   ],
   "source": [
    "np.concatenate((X,B),axis=1) # concatenate参数axis"
   ]
  },
  {
   "cell_type": "markdown",
   "id": "7de86c85",
   "metadata": {},
   "source": [
    "## 拆分split"
   ]
  },
  {
   "cell_type": "code",
   "execution_count": 140,
   "id": "54a7bb29",
   "metadata": {},
   "outputs": [
    {
     "data": {
      "text/plain": [
       "[array([[0, 1, 2, 3],\n",
       "        [4, 5, 6, 7]]),\n",
       " array([[ 8,  9, 10, 11]])]"
      ]
     },
     "execution_count": 140,
     "metadata": {},
     "output_type": "execute_result"
    }
   ],
   "source": [
    "np.split(X,[-1],axis=0)"
   ]
  },
  {
   "cell_type": "code",
   "execution_count": 143,
   "id": "660f22c1",
   "metadata": {},
   "outputs": [
    {
     "name": "stdout",
     "output_type": "stream",
     "text": [
      "[[ 0  1  2]\n",
      " [ 4  5  6]\n",
      " [ 8  9 10]]\n",
      "[[ 3]\n",
      " [ 7]\n",
      " [11]]\n"
     ]
    }
   ],
   "source": [
    "X1,X2 = np.split(X,[-1],axis=1)\n",
    "print(X1)\n",
    "print(X2)"
   ]
  },
  {
   "cell_type": "markdown",
   "id": "8ea10c9a",
   "metadata": {},
   "source": [
    "## 拆分vsplit"
   ]
  },
  {
   "cell_type": "code",
   "execution_count": 144,
   "id": "045e4c51",
   "metadata": {},
   "outputs": [
    {
     "data": {
      "text/plain": [
       "[array([[0, 1, 2, 3],\n",
       "        [4, 5, 6, 7]]),\n",
       " array([[ 8,  9, 10, 11]])]"
      ]
     },
     "execution_count": 144,
     "metadata": {},
     "output_type": "execute_result"
    }
   ],
   "source": [
    "np.vsplit(X,[2])"
   ]
  },
  {
   "cell_type": "code",
   "execution_count": 145,
   "id": "903cb7ae",
   "metadata": {},
   "outputs": [
    {
     "name": "stdout",
     "output_type": "stream",
     "text": [
      "[[0]\n",
      " [4]\n",
      " [8]]\n",
      "[[ 1  2]\n",
      " [ 5  6]\n",
      " [ 9 10]]\n",
      "[[ 3]\n",
      " [ 7]\n",
      " [11]]\n"
     ]
    }
   ],
   "source": [
    "X1,X2,X3 = np.hsplit(X,[1,3])\n",
    "print(X1)\n",
    "print(X2)\n",
    "print(X3)"
   ]
  },
  {
   "cell_type": "markdown",
   "id": "a977171a",
   "metadata": {},
   "source": [
    "# 矩阵运算"
   ]
  },
  {
   "cell_type": "markdown",
   "id": "4cb5fe9a",
   "metadata": {},
   "source": [
    "## python的list和nparray对比"
   ]
  },
  {
   "cell_type": "code",
   "execution_count": 151,
   "id": "24ba9ec7",
   "metadata": {},
   "outputs": [
    {
     "name": "stdout",
     "output_type": "stream",
     "text": [
      "[0, 1, 2, 3, 4]\n",
      "[0, 1, 2, 3, 4, 0, 1, 2, 3, 4]\n",
      "[0, 1, 2, 3, 4, 0, 1, 2, 3, 4]\n"
     ]
    }
   ],
   "source": [
    "# python的列表\n",
    "x = [i for i in range(5)]\n",
    "print(x)\n",
    "print(x*2)\n",
    "print(x+x)"
   ]
  },
  {
   "cell_type": "code",
   "execution_count": 157,
   "id": "c1f24bb1",
   "metadata": {},
   "outputs": [
    {
     "name": "stdout",
     "output_type": "stream",
     "text": [
      "CPU times: total: 281 ms\n",
      "Wall time: 919 ms\n"
     ]
    }
   ],
   "source": [
    "%%time\n",
    "n = 5000000\n",
    "x = [i for i in range(n)]\n",
    "y = [i * 2 for i in x]"
   ]
  },
  {
   "cell_type": "code",
   "execution_count": 159,
   "id": "cff6ed3a",
   "metadata": {},
   "outputs": [
    {
     "name": "stdout",
     "output_type": "stream",
     "text": [
      "[0 1 2 3 4]\n",
      "[0 2 4 6 8]\n",
      "[0 2 4 6 8]\n"
     ]
    }
   ],
   "source": [
    "# np的arr\n",
    "X = np.arange(5)\n",
    "print(X)\n",
    "print(X*2)\n",
    "print(X+X)"
   ]
  },
  {
   "cell_type": "code",
   "execution_count": 160,
   "id": "c629fa91",
   "metadata": {},
   "outputs": [
    {
     "name": "stdout",
     "output_type": "stream",
     "text": [
      "CPU times: total: 0 ns\n",
      "Wall time: 15.1 ms\n"
     ]
    }
   ],
   "source": [
    "%%time \n",
    "n = 5000000\n",
    "X = np.arange(n)\n",
    "Y = X * 2"
   ]
  },
  {
   "cell_type": "code",
   "execution_count": 161,
   "id": "e0db5758",
   "metadata": {},
   "outputs": [
    {
     "data": {
      "text/plain": [
       "array([ 0,  2,  4,  6,  8, 10, 12, 14, 16, 18])"
      ]
     },
     "execution_count": 161,
     "metadata": {},
     "output_type": "execute_result"
    }
   ],
   "source": [
    "Y[:10]"
   ]
  },
  {
   "cell_type": "markdown",
   "id": "479b0387",
   "metadata": {},
   "source": [
    "## 一元运算"
   ]
  },
  {
   "cell_type": "code",
   "execution_count": 169,
   "id": "7343ed4d",
   "metadata": {},
   "outputs": [
    {
     "data": {
      "text/plain": [
       "array([[-6. , -5.5, -5. , -4.5, -4. , -3.5],\n",
       "       [-3. , -2.5, -2. , -1.5, -1. , -0.5],\n",
       "       [ 0. ,  0.5,  1. ,  1.5,  2. ,  2.5],\n",
       "       [ 3. ,  3.5,  4. ,  4.5,  5. ,  5.5]])"
      ]
     },
     "execution_count": 169,
     "metadata": {},
     "output_type": "execute_result"
    }
   ],
   "source": [
    "X = np.arange(-6, 6, 0.5).reshape(4, 6)\n",
    "X"
   ]
  },
  {
   "cell_type": "code",
   "execution_count": 196,
   "id": "7bfd7c75",
   "metadata": {},
   "outputs": [
    {
     "name": "stdout",
     "output_type": "stream",
     "text": [
      "[[6.  5.5 5.  4.5 4.  3.5]\n",
      " [3.  2.5 2.  1.5 1.  0.5]\n",
      " [0.  0.5 1.  1.5 2.  2.5]\n",
      " [3.  3.5 4.  4.5 5.  5.5]]\n",
      "[[0.         0.70710678 1.         1.22474487 1.41421356 1.58113883]\n",
      " [1.73205081 1.87082869 2.         2.12132034 2.23606798 2.34520788]]\n",
      "[[36.   30.25 25.   20.25 16.   12.25]\n",
      " [ 9.    6.25  4.    2.25  1.    0.25]\n",
      " [ 0.    0.25  1.    2.25  4.    6.25]\n",
      " [ 9.   12.25 16.   20.25 25.   30.25]]\n"
     ]
    }
   ],
   "source": [
    "print(np.abs(X)) # 绝对值\n",
    "print(np.sqrt(X[2:,:])) # 平方根\n",
    "print(np.square(X)) # 平方"
   ]
  },
  {
   "cell_type": "code",
   "execution_count": 195,
   "id": "368d08d6",
   "metadata": {},
   "outputs": [
    {
     "name": "stdout",
     "output_type": "stream",
     "text": [
      "[[2.47875218e-03 4.08677144e-03 6.73794700e-03 1.11089965e-02\n",
      "  1.83156389e-02 3.01973834e-02]\n",
      " [4.97870684e-02 8.20849986e-02 1.35335283e-01 2.23130160e-01\n",
      "  3.67879441e-01 6.06530660e-01]\n",
      " [1.00000000e+00 1.64872127e+00 2.71828183e+00 4.48168907e+00\n",
      "  7.38905610e+00 1.21824940e+01]\n",
      " [2.00855369e+01 3.31154520e+01 5.45981500e+01 9.00171313e+01\n",
      "  1.48413159e+02 2.44691932e+02]]\n",
      "[[1.5849625  1.80735492 2.         2.169925   2.32192809 2.45943162]]\n",
      "[[0.47712125 0.54406804 0.60205999 0.65321251 0.69897    0.74036269]]\n"
     ]
    }
   ],
   "source": [
    "print(np.exp(X)) # e**x\n",
    "print(np.log2(X[3:,:])) # logx\n",
    "print(np.log10(X[3:,:])) # logx"
   ]
  },
  {
   "cell_type": "code",
   "execution_count": 193,
   "id": "c1f5e660",
   "metadata": {},
   "outputs": [
    {
     "name": "stdout",
     "output_type": "stream",
     "text": [
      "[[ 0.2794155   0.70554033  0.95892427  0.97753012  0.7568025   0.35078323]\n",
      " [-0.14112001 -0.59847214 -0.90929743 -0.99749499 -0.84147098 -0.47942554]\n",
      " [ 0.          0.47942554  0.84147098  0.99749499  0.90929743  0.59847214]\n",
      " [ 0.14112001 -0.35078323 -0.7568025  -0.97753012 -0.95892427 -0.70554033]]\n",
      "[[ 0.96017029  0.70866977  0.28366219 -0.2107958  -0.65364362 -0.93645669]\n",
      " [-0.9899925  -0.80114362 -0.41614684  0.0707372   0.54030231  0.87758256]\n",
      " [ 1.          0.87758256  0.54030231  0.0707372  -0.41614684 -0.80114362]\n",
      " [-0.9899925  -0.93645669 -0.65364362 -0.2107958   0.28366219  0.70866977]]\n",
      "[[  0.29100619   0.99558405   3.38051501  -4.63733205  -1.15782128\n",
      "   -0.37458564]\n",
      " [  0.14254654   0.7470223    2.18503986 -14.10141995  -1.55740772\n",
      "   -0.54630249]\n",
      " [  0.           0.54630249   1.55740772  14.10141995  -2.18503986\n",
      "   -0.7470223 ]\n",
      " [ -0.14254654   0.37458564   1.15782128   4.63733205  -3.38051501\n",
      "   -0.99558405]]\n",
      "[[0.49737616 0.57527798 0.64607859 0.71181948 0.77395623 0.83360975]]\n"
     ]
    }
   ],
   "source": [
    "print(np.sin(X)) # sinx\n",
    "print(np.cos(X)) # sec 倒数\n",
    "print(np.tan(X))\n",
    "print(np.arcsin(np.log10(X[3:,:]))) # 定义域-1到1"
   ]
  },
  {
   "cell_type": "code",
   "execution_count": 186,
   "id": "8cc5e6a3",
   "metadata": {},
   "outputs": [
    {
     "data": {
      "text/plain": [
       "array([[1., 1., 1., 1., 1., 1.]])"
      ]
     },
     "execution_count": 186,
     "metadata": {},
     "output_type": "execute_result"
    }
   ],
   "source": [
    "print(np.ceil(np.log10(X[3:,:]))) # 上取整\n",
    "print(np.floor(np.log10(X[3:,:]))) # 下取整\n",
    "print(np.round(X)) # 四舍五入"
   ]
  },
  {
   "cell_type": "markdown",
   "id": "3a0dca93",
   "metadata": {},
   "source": [
    "## 二元运算"
   ]
  },
  {
   "cell_type": "code",
   "execution_count": 199,
   "id": "840ce313",
   "metadata": {},
   "outputs": [
    {
     "name": "stdout",
     "output_type": "stream",
     "text": [
      "[[-5.  -4.5 -4.  -3.5 -3.  -2.5]\n",
      " [-2.  -1.5 -1.  -0.5  0.   0.5]\n",
      " [ 1.   1.5  2.   2.5  3.   3.5]\n",
      " [ 4.   4.5  5.   5.5  6.   6.5]]\n",
      "[[-5.  -4.5 -4.  -3.5 -3.  -2.5]\n",
      " [-2.  -1.5 -1.  -0.5  0.   0.5]\n",
      " [ 1.   1.5  2.   2.5  3.   3.5]\n",
      " [ 4.   4.5  5.   5.5  6.   6.5]]\n",
      "[[-7.  -6.5 -6.  -5.5 -5.  -4.5]\n",
      " [-4.  -3.5 -3.  -2.5 -2.  -1.5]\n",
      " [-1.  -0.5  0.   0.5  1.   1.5]\n",
      " [ 2.   2.5  3.   3.5  4.   4.5]]\n"
     ]
    }
   ],
   "source": [
    "print(X+1)\n",
    "print(np.add(X,1))\n",
    "print(X-1)"
   ]
  },
  {
   "cell_type": "code",
   "execution_count": 204,
   "id": "420c4ec4",
   "metadata": {},
   "outputs": [
    {
     "name": "stdout",
     "output_type": "stream",
     "text": [
      "[[-12. -11. -10.  -9.  -8.  -7.]\n",
      " [ -6.  -5.  -4.  -3.  -2.  -1.]\n",
      " [  0.   1.   2.   3.   4.   5.]\n",
      " [  6.   7.   8.   9.  10.  11.]]\n",
      "[[-3.   -2.75 -2.5  -2.25 -2.   -1.75]\n",
      " [-1.5  -1.25 -1.   -0.75 -0.5  -0.25]\n",
      " [ 0.    0.25  0.5   0.75  1.    1.25]\n",
      " [ 1.5   1.75  2.    2.25  2.5   2.75]]\n",
      "[[-0.33333333 -0.36363636 -0.4        -0.44444444 -0.5        -0.57142857]\n",
      " [-0.66666667 -0.8        -1.         -1.33333333 -2.         -4.        ]\n",
      " [        inf  4.          2.          1.33333333  1.          0.8       ]\n",
      " [ 0.66666667  0.57142857  0.5         0.44444444  0.4         0.36363636]]\n"
     ]
    },
    {
     "name": "stderr",
     "output_type": "stream",
     "text": [
      "C:\\Users\\huangyingzhu\\AppData\\Local\\Temp\\ipykernel_17812\\3544551358.py:3: RuntimeWarning: divide by zero encountered in divide\n",
      "  print(2/X)\n"
     ]
    }
   ],
   "source": [
    "print(X*2)\n",
    "print(X/2)\n",
    "print(2/X)"
   ]
  },
  {
   "cell_type": "code",
   "execution_count": 205,
   "id": "d6022f54",
   "metadata": {},
   "outputs": [
    {
     "name": "stdout",
     "output_type": "stream",
     "text": [
      "[[-3. -3. -3. -3. -2. -2.]\n",
      " [-2. -2. -1. -1. -1. -1.]\n",
      " [ 0.  0.  0.  0.  1.  1.]\n",
      " [ 1.  1.  2.  2.  2.  2.]]\n",
      "[[0.  0.5 1.  1.5 0.  0.5]\n",
      " [1.  1.5 0.  0.5 1.  1.5]\n",
      " [0.  0.5 1.  1.5 0.  0.5]\n",
      " [1.  1.5 0.  0.5 1.  1.5]]\n",
      "[[-2.16000e+02 -1.66375e+02 -1.25000e+02 -9.11250e+01 -6.40000e+01\n",
      "  -4.28750e+01]\n",
      " [-2.70000e+01 -1.56250e+01 -8.00000e+00 -3.37500e+00 -1.00000e+00\n",
      "  -1.25000e-01]\n",
      " [ 0.00000e+00  1.25000e-01  1.00000e+00  3.37500e+00  8.00000e+00\n",
      "   1.56250e+01]\n",
      " [ 2.70000e+01  4.28750e+01  6.40000e+01  9.11250e+01  1.25000e+02\n",
      "   1.66375e+02]]\n"
     ]
    }
   ],
   "source": [
    "print(X//2) # 每个元素除以2，结果取整数部分\n",
    "print(X%2) # 取余\n",
    "print(X**3) # 幂"
   ]
  },
  {
   "cell_type": "markdown",
   "id": "3160f3e9",
   "metadata": {},
   "source": [
    "## 矩阵运算"
   ]
  },
  {
   "cell_type": "code",
   "execution_count": 206,
   "id": "7259a91c",
   "metadata": {},
   "outputs": [
    {
     "name": "stdout",
     "output_type": "stream",
     "text": [
      "[[10. 20.]\n",
      " [30. 40.]]\n",
      "[[1. 2.]\n",
      " [3. 4.]]\n"
     ]
    }
   ],
   "source": [
    "X = np.linspace(10,40,4).reshape(2,2)\n",
    "Y = np.linspace(1,4,4).reshape(2,2)\n",
    "print(X)\n",
    "print(Y)"
   ]
  },
  {
   "cell_type": "markdown",
   "id": "ed88577d",
   "metadata": {},
   "source": [
    "### 矩阵的加减乘除"
   ]
  },
  {
   "cell_type": "code",
   "execution_count": 207,
   "id": "7b0f88ab",
   "metadata": {},
   "outputs": [
    {
     "name": "stdout",
     "output_type": "stream",
     "text": [
      "[[11. 22.]\n",
      " [33. 44.]]\n",
      "[[ 9. 18.]\n",
      " [27. 36.]]\n"
     ]
    }
   ],
   "source": [
    "print(X+Y)\n",
    "print(X-Y)"
   ]
  },
  {
   "cell_type": "code",
   "execution_count": 208,
   "id": "023868ed",
   "metadata": {},
   "outputs": [
    {
     "name": "stdout",
     "output_type": "stream",
     "text": [
      "[[ 10.  40.]\n",
      " [ 90. 160.]]\n",
      "[[ 70. 100.]\n",
      " [150. 220.]]\n"
     ]
    }
   ],
   "source": [
    "print(X*Y) # 对应元素相乘\n",
    "print(X.dot(Y)) # 矩阵的乘法"
   ]
  },
  {
   "cell_type": "code",
   "execution_count": 209,
   "id": "a18018d4",
   "metadata": {},
   "outputs": [
    {
     "name": "stdout",
     "output_type": "stream",
     "text": [
      "[[10. 10.]\n",
      " [10. 10.]]\n"
     ]
    }
   ],
   "source": [
    "print(X/Y) # 对应元素相除"
   ]
  },
  {
   "cell_type": "markdown",
   "id": "f7d83c58",
   "metadata": {},
   "source": [
    "### 矩阵的转置"
   ]
  },
  {
   "cell_type": "code",
   "execution_count": 210,
   "id": "049f73ec",
   "metadata": {},
   "outputs": [
    {
     "name": "stdout",
     "output_type": "stream",
     "text": [
      "[[10. 30.]\n",
      " [20. 40.]]\n",
      "[[10. 30.]\n",
      " [20. 40.]]\n"
     ]
    }
   ],
   "source": [
    "# 转置运算 行列\n",
    "print(X.T) \n",
    "print(np.transpose(X))"
   ]
  },
  {
   "cell_type": "markdown",
   "id": "26a092a6",
   "metadata": {},
   "source": [
    "### 对应元素计算的补足"
   ]
  },
  {
   "cell_type": "code",
   "execution_count": 212,
   "id": "cfd9d23b",
   "metadata": {},
   "outputs": [
    {
     "ename": "ValueError",
     "evalue": "operands could not be broadcast together with shapes (2,2) (4,) ",
     "output_type": "error",
     "traceback": [
      "\u001b[1;31m---------------------------------------------------------------------------\u001b[0m",
      "\u001b[1;31mValueError\u001b[0m                                Traceback (most recent call last)",
      "Cell \u001b[1;32mIn[212], line 2\u001b[0m\n\u001b[0;32m      1\u001b[0m Z \u001b[38;5;241m=\u001b[39m np\u001b[38;5;241m.\u001b[39mlinspace(\u001b[38;5;241m1\u001b[39m,\u001b[38;5;241m4\u001b[39m,\u001b[38;5;241m4\u001b[39m)\n\u001b[1;32m----> 2\u001b[0m \u001b[43mX\u001b[49m\u001b[43m \u001b[49m\u001b[38;5;241;43m+\u001b[39;49m\u001b[43m \u001b[49m\u001b[43mZ\u001b[49m\n",
      "\u001b[1;31mValueError\u001b[0m: operands could not be broadcast together with shapes (2,2) (4,) "
     ]
    }
   ],
   "source": [
    "Z = np.linspace(1,4,4)\n",
    "X + Z"
   ]
  },
  {
   "cell_type": "code",
   "execution_count": 214,
   "id": "15b745da",
   "metadata": {},
   "outputs": [
    {
     "data": {
      "text/plain": [
       "(array([[10., 20.],\n",
       "        [30., 40.]]),\n",
       " array([1., 4.]))"
      ]
     },
     "execution_count": 214,
     "metadata": {},
     "output_type": "execute_result"
    }
   ],
   "source": [
    "Z = np.linspace(1,4,2)\n",
    "X, Z"
   ]
  },
  {
   "cell_type": "code",
   "execution_count": 216,
   "id": "f19c7ad3",
   "metadata": {},
   "outputs": [
    {
     "name": "stdout",
     "output_type": "stream",
     "text": [
      "[[11. 24.]\n",
      " [31. 44.]]\n",
      "[[ 10.  80.]\n",
      " [ 30. 160.]]\n"
     ]
    }
   ],
   "source": [
    "print(X + Z) # 补足\n",
    "print(X * Z) # 补足"
   ]
  },
  {
   "cell_type": "code",
   "execution_count": 217,
   "id": "1464901c",
   "metadata": {},
   "outputs": [
    {
     "name": "stdout",
     "output_type": "stream",
     "text": [
      "[130. 180.]\n",
      "[ 90. 190.]\n"
     ]
    }
   ],
   "source": [
    "print(Z.dot(X)) #  矩阵乘法\n",
    "print(X.dot(Z)) # 没有交换律"
   ]
  },
  {
   "cell_type": "markdown",
   "id": "2d5c57d3",
   "metadata": {},
   "source": [
    "### 计算矩阵的逆"
   ]
  },
  {
   "cell_type": "code",
   "execution_count": 218,
   "id": "1edd213a",
   "metadata": {},
   "outputs": [
    {
     "data": {
      "text/plain": [
       "array([[-0.2 ,  0.1 ],\n",
       "       [ 0.15, -0.05]])"
      ]
     },
     "execution_count": 218,
     "metadata": {},
     "output_type": "execute_result"
    }
   ],
   "source": [
    "V = np.linalg.inv(X) # 求矩阵的逆np.linalg.inv()\n",
    "V"
   ]
  },
  {
   "cell_type": "code",
   "execution_count": 219,
   "id": "a7af9d91",
   "metadata": {},
   "outputs": [
    {
     "name": "stdout",
     "output_type": "stream",
     "text": [
      "[[1.0000000e+00 0.0000000e+00]\n",
      " [4.4408921e-16 1.0000000e+00]]\n",
      "[[ 1.00000000e+00  4.44089210e-16]\n",
      " [-1.11022302e-16  1.00000000e+00]]\n"
     ]
    }
   ],
   "source": [
    "print(X.dot(V)) # 验证矩阵的逆\n",
    "print(V.dot(X)) # I 精度问题"
   ]
  },
  {
   "cell_type": "code",
   "execution_count": 221,
   "id": "f584da62",
   "metadata": {},
   "outputs": [
    {
     "ename": "LinAlgError",
     "evalue": "Last 2 dimensions of the array must be square",
     "output_type": "error",
     "traceback": [
      "\u001b[1;31m---------------------------------------------------------------------------\u001b[0m",
      "\u001b[1;31mLinAlgError\u001b[0m                               Traceback (most recent call last)",
      "Cell \u001b[1;32mIn[221], line 1\u001b[0m\n\u001b[1;32m----> 1\u001b[0m \u001b[43mnp\u001b[49m\u001b[38;5;241;43m.\u001b[39;49m\u001b[43mlinalg\u001b[49m\u001b[38;5;241;43m.\u001b[39;49m\u001b[43minv\u001b[49m\u001b[43m(\u001b[49m\u001b[43mnp\u001b[49m\u001b[38;5;241;43m.\u001b[39;49m\u001b[43marange\u001b[49m\u001b[43m(\u001b[49m\u001b[38;5;241;43m12\u001b[39;49m\u001b[43m)\u001b[49m\u001b[38;5;241;43m.\u001b[39;49m\u001b[43mreshape\u001b[49m\u001b[43m(\u001b[49m\u001b[38;5;241;43m3\u001b[39;49m\u001b[43m,\u001b[49m\u001b[38;5;241;43m4\u001b[39;49m\u001b[43m)\u001b[49m\u001b[43m)\u001b[49m\n",
      "File \u001b[1;32m<__array_function__ internals>:200\u001b[0m, in \u001b[0;36minv\u001b[1;34m(*args, **kwargs)\u001b[0m\n",
      "File \u001b[1;32mD:\\systemEnvironment\\anaconda3\\envs\\mlGZ\\lib\\site-packages\\numpy\\linalg\\linalg.py:533\u001b[0m, in \u001b[0;36minv\u001b[1;34m(a)\u001b[0m\n\u001b[0;32m    531\u001b[0m a, wrap \u001b[38;5;241m=\u001b[39m _makearray(a)\n\u001b[0;32m    532\u001b[0m _assert_stacked_2d(a)\n\u001b[1;32m--> 533\u001b[0m \u001b[43m_assert_stacked_square\u001b[49m\u001b[43m(\u001b[49m\u001b[43ma\u001b[49m\u001b[43m)\u001b[49m\n\u001b[0;32m    534\u001b[0m t, result_t \u001b[38;5;241m=\u001b[39m _commonType(a)\n\u001b[0;32m    536\u001b[0m signature \u001b[38;5;241m=\u001b[39m \u001b[38;5;124m'\u001b[39m\u001b[38;5;124mD->D\u001b[39m\u001b[38;5;124m'\u001b[39m \u001b[38;5;28;01mif\u001b[39;00m isComplexType(t) \u001b[38;5;28;01melse\u001b[39;00m \u001b[38;5;124m'\u001b[39m\u001b[38;5;124md->d\u001b[39m\u001b[38;5;124m'\u001b[39m\n",
      "File \u001b[1;32mD:\\systemEnvironment\\anaconda3\\envs\\mlGZ\\lib\\site-packages\\numpy\\linalg\\linalg.py:190\u001b[0m, in \u001b[0;36m_assert_stacked_square\u001b[1;34m(*arrays)\u001b[0m\n\u001b[0;32m    188\u001b[0m m, n \u001b[38;5;241m=\u001b[39m a\u001b[38;5;241m.\u001b[39mshape[\u001b[38;5;241m-\u001b[39m\u001b[38;5;241m2\u001b[39m:]\n\u001b[0;32m    189\u001b[0m \u001b[38;5;28;01mif\u001b[39;00m m \u001b[38;5;241m!=\u001b[39m n:\n\u001b[1;32m--> 190\u001b[0m     \u001b[38;5;28;01mraise\u001b[39;00m LinAlgError(\u001b[38;5;124m'\u001b[39m\u001b[38;5;124mLast 2 dimensions of the array must be square\u001b[39m\u001b[38;5;124m'\u001b[39m)\n",
      "\u001b[1;31mLinAlgError\u001b[0m: Last 2 dimensions of the array must be square"
     ]
    }
   ],
   "source": [
    "np.linalg.inv(np.arange(12).reshape(3,4)) # 非方阵 没有逆"
   ]
  },
  {
   "cell_type": "markdown",
   "id": "12f1a63d",
   "metadata": {},
   "source": [
    "### 计算矩阵的行列式"
   ]
  },
  {
   "cell_type": "code",
   "execution_count": 222,
   "id": "a43d14c0",
   "metadata": {},
   "outputs": [
    {
     "data": {
      "text/plain": [
       "-200.0000000000001"
      ]
     },
     "execution_count": 222,
     "metadata": {},
     "output_type": "execute_result"
    }
   ],
   "source": [
    "np.linalg.det(X)"
   ]
  },
  {
   "cell_type": "markdown",
   "id": "a7b12744",
   "metadata": {},
   "source": [
    "### 计算矩阵的特征值特征向量"
   ]
  },
  {
   "cell_type": "code",
   "execution_count": 224,
   "id": "2616fcc8",
   "metadata": {},
   "outputs": [
    {
     "data": {
      "text/plain": [
       "(array([-3.72281323, 53.72281323]),\n",
       " array([[-0.82456484, -0.41597356],\n",
       "        [ 0.56576746, -0.90937671]]))"
      ]
     },
     "execution_count": 224,
     "metadata": {},
     "output_type": "execute_result"
    }
   ],
   "source": [
    "np.linalg.eig(X) # 计算矩阵 X 的特征值（eigenvalues）和对应的特征向量（eigenvectors）"
   ]
  },
  {
   "cell_type": "markdown",
   "id": "69cfb6d9",
   "metadata": {},
   "source": [
    "# nparr的统计计算"
   ]
  },
  {
   "cell_type": "code",
   "execution_count": null,
   "id": "3c454b05",
   "metadata": {},
   "outputs": [],
   "source": []
  },
  {
   "cell_type": "code",
   "execution_count": null,
   "id": "826c3a2c",
   "metadata": {},
   "outputs": [],
   "source": []
  },
  {
   "cell_type": "code",
   "execution_count": null,
   "id": "8bc76ef3",
   "metadata": {},
   "outputs": [],
   "source": []
  },
  {
   "cell_type": "code",
   "execution_count": null,
   "id": "36b57747",
   "metadata": {},
   "outputs": [],
   "source": []
  },
  {
   "cell_type": "code",
   "execution_count": null,
   "id": "0e1e0b12",
   "metadata": {},
   "outputs": [],
   "source": []
  },
  {
   "cell_type": "code",
   "execution_count": null,
   "id": "8f31f179",
   "metadata": {},
   "outputs": [],
   "source": []
  },
  {
   "cell_type": "code",
   "execution_count": null,
   "id": "79abf1f8",
   "metadata": {},
   "outputs": [],
   "source": []
  },
  {
   "cell_type": "code",
   "execution_count": null,
   "id": "b89987c2",
   "metadata": {},
   "outputs": [],
   "source": []
  },
  {
   "cell_type": "code",
   "execution_count": null,
   "id": "4ed1e237",
   "metadata": {},
   "outputs": [],
   "source": []
  },
  {
   "cell_type": "code",
   "execution_count": null,
   "id": "b661af28",
   "metadata": {},
   "outputs": [],
   "source": []
  },
  {
   "cell_type": "code",
   "execution_count": null,
   "id": "bf251616",
   "metadata": {},
   "outputs": [],
   "source": []
  },
  {
   "cell_type": "code",
   "execution_count": null,
   "id": "fcca2bd3",
   "metadata": {},
   "outputs": [],
   "source": []
  },
  {
   "cell_type": "code",
   "execution_count": null,
   "id": "7fa003b5",
   "metadata": {},
   "outputs": [],
   "source": []
  },
  {
   "cell_type": "code",
   "execution_count": null,
   "id": "2050144f",
   "metadata": {},
   "outputs": [],
   "source": []
  },
  {
   "cell_type": "code",
   "execution_count": null,
   "id": "539b1820",
   "metadata": {},
   "outputs": [],
   "source": []
  },
  {
   "cell_type": "code",
   "execution_count": null,
   "id": "343862c4",
   "metadata": {},
   "outputs": [],
   "source": []
  },
  {
   "cell_type": "code",
   "execution_count": null,
   "id": "e07f6ba7",
   "metadata": {},
   "outputs": [],
   "source": []
  },
  {
   "cell_type": "code",
   "execution_count": null,
   "id": "d237cce7",
   "metadata": {},
   "outputs": [],
   "source": []
  },
  {
   "cell_type": "code",
   "execution_count": null,
   "id": "519a79fe",
   "metadata": {},
   "outputs": [],
   "source": []
  },
  {
   "cell_type": "code",
   "execution_count": null,
   "id": "f0e6d2dd",
   "metadata": {},
   "outputs": [],
   "source": []
  },
  {
   "cell_type": "code",
   "execution_count": null,
   "id": "af43bec1",
   "metadata": {},
   "outputs": [],
   "source": []
  }
 ],
 "metadata": {
  "kernelspec": {
   "display_name": "mlGZ",
   "language": "python",
   "name": "mlgz"
  },
  "language_info": {
   "codemirror_mode": {
    "name": "ipython",
    "version": 3
   },
   "file_extension": ".py",
   "mimetype": "text/x-python",
   "name": "python",
   "nbconvert_exporter": "python",
   "pygments_lexer": "ipython3",
   "version": "3.8.18"
  },
  "toc": {
   "base_numbering": 1,
   "nav_menu": {},
   "number_sections": true,
   "sideBar": true,
   "skip_h1_title": false,
   "title_cell": "Table of Contents",
   "title_sidebar": "Contents",
   "toc_cell": false,
   "toc_position": {
    "height": "623.333px",
    "left": "26px",
    "top": "110.229px",
    "width": "287.998px"
   },
   "toc_section_display": true,
   "toc_window_display": true
  }
 },
 "nbformat": 4,
 "nbformat_minor": 5
}
