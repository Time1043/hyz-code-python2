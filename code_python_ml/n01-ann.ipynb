{
 "cells": [
  {
   "cell_type": "code",
   "execution_count": 1,
   "id": "545de179-c0d0-4310-a04d-53a34bcb8927",
   "metadata": {},
   "outputs": [],
   "source": [
    "import math\n",
    "import random\n",
    "import warnings\n",
    "import copy\n",
    "\n",
    "import numpy as np\n",
    "import matplotlib.pyplot as plt\n",
    "\n",
    "warnings.filterwarnings(\"ignore\")  # 抑制所有警告\n",
    "plt.rcParams[\"font.sans-serif\"] = [\"SimHei\"]  # 用来正常显示中文标签\n",
    "plt.rcParams[\"axes.unicode_minus\"] = False  # 用来正常显示负号"
   ]
  },
  {
   "cell_type": "markdown",
   "id": "198795dc-d1ac-4ade-b264-2d9d6d2e6c44",
   "metadata": {},
   "source": [
    "# 介绍numpy和线性代数"
   ]
  },
  {
   "cell_type": "markdown",
   "id": "3a47c258-0826-458b-b8d9-328caa69831f",
   "metadata": {},
   "source": [
    "## 创建数组"
   ]
  },
  {
   "cell_type": "code",
   "execution_count": 2,
   "id": "37ae2ad4-4f95-4896-bed0-6a4eef5bd497",
   "metadata": {},
   "outputs": [
    {
     "data": {
      "text/plain": [
       "array([[0., 0., 0.],\n",
       "       [0., 0., 0.]])"
      ]
     },
     "execution_count": 2,
     "metadata": {},
     "output_type": "execute_result"
    }
   ],
   "source": [
    "arr1 = np.zeros((2,3)) # 传入元组 指定行列\n",
    "arr1"
   ]
  },
  {
   "cell_type": "code",
   "execution_count": 3,
   "id": "f2959da7-3a54-4ad2-b6a1-f4c13ec1e2d3",
   "metadata": {},
   "outputs": [
    {
     "data": {
      "text/plain": [
       "array([[2, 2, 2],\n",
       "       [2, 2, 2]])"
      ]
     },
     "execution_count": 3,
     "metadata": {},
     "output_type": "execute_result"
    }
   ],
   "source": [
    "arr2 = np.full((2,3),2) # 指定数值\n",
    "arr2"
   ]
  },
  {
   "cell_type": "code",
   "execution_count": 4,
   "id": "97fbaa05-0a67-4539-8fae-e71bf450d499",
   "metadata": {},
   "outputs": [
    {
     "data": {
      "text/plain": [
       "array([[6, 5, 4],\n",
       "       [1, 2, 3]])"
      ]
     },
     "execution_count": 4,
     "metadata": {},
     "output_type": "execute_result"
    }
   ],
   "source": [
    "arr3 = np.array([[6,5,4], \n",
    "                 [1,2,3]]) # list转化arr\n",
    "arr3"
   ]
  },
  {
   "cell_type": "markdown",
   "id": "2cb413aa-4cd9-4d65-af43-c9985702ef74",
   "metadata": {},
   "source": [
    "## 索引切片：选取里面的元素"
   ]
  },
  {
   "cell_type": "code",
   "execution_count": 5,
   "id": "3f7fdce4-5c86-45a4-a812-617168153cf7",
   "metadata": {},
   "outputs": [
    {
     "data": {
      "text/plain": [
       "1"
      ]
     },
     "execution_count": 5,
     "metadata": {},
     "output_type": "execute_result"
    }
   ],
   "source": [
    "arr3[1,0] # 第1行 第0列"
   ]
  },
  {
   "cell_type": "code",
   "execution_count": 6,
   "id": "c564d025-ac81-426b-82f2-c060266a9d20",
   "metadata": {},
   "outputs": [
    {
     "data": {
      "text/plain": [
       "array([6, 1])"
      ]
     },
     "execution_count": 6,
     "metadata": {},
     "output_type": "execute_result"
    }
   ],
   "source": [
    "arr3[:,0] # 第0列 所有行"
   ]
  },
  {
   "cell_type": "code",
   "execution_count": 7,
   "id": "6f79c58b-3d7b-42d0-954f-65d055284724",
   "metadata": {},
   "outputs": [
    {
     "data": {
      "text/plain": [
       "array([[6, 5],\n",
       "       [1, 2]])"
      ]
     },
     "execution_count": 7,
     "metadata": {},
     "output_type": "execute_result"
    }
   ],
   "source": [
    "arr3[:,:2] # 到第2列"
   ]
  },
  {
   "cell_type": "code",
   "execution_count": 8,
   "id": "035f9732-32cb-4b17-ac50-cfc098a3a670",
   "metadata": {},
   "outputs": [
    {
     "data": {
      "text/plain": [
       "array([[5, 4],\n",
       "       [2, 3]])"
      ]
     },
     "execution_count": 8,
     "metadata": {},
     "output_type": "execute_result"
    }
   ],
   "source": [
    "arr3[:,1:] # 第1列到"
   ]
  },
  {
   "cell_type": "markdown",
   "id": "cbaed251-afa3-4d5c-b745-66d17cb4584b",
   "metadata": {},
   "source": [
    "## 矩阵对应元素相乘(花乘)"
   ]
  },
  {
   "cell_type": "code",
   "execution_count": 9,
   "id": "4572dc78-8379-48c1-a17c-ba4c4734be8d",
   "metadata": {},
   "outputs": [
    {
     "data": {
      "text/plain": [
       "array([[8, 7, 6],\n",
       "       [3, 4, 5]])"
      ]
     },
     "execution_count": 9,
     "metadata": {},
     "output_type": "execute_result"
    }
   ],
   "source": [
    "arr2 + arr3"
   ]
  },
  {
   "cell_type": "code",
   "execution_count": 10,
   "id": "921c1c13-9199-4ff8-842c-ac4b58f0a4a1",
   "metadata": {},
   "outputs": [
    {
     "data": {
      "text/plain": [
       "array([[12, 10,  8],\n",
       "       [ 2,  4,  6]])"
      ]
     },
     "execution_count": 10,
     "metadata": {},
     "output_type": "execute_result"
    }
   ],
   "source": [
    "arr2 * arr3"
   ]
  },
  {
   "cell_type": "markdown",
   "id": "8fd665a9-6776-45c9-96c7-95c1518c48f2",
   "metadata": {},
   "source": [
    "## 矩阵乘法运算(点乘)"
   ]
  },
  {
   "cell_type": "code",
   "execution_count": 11,
   "id": "b7694796-d5f1-44d5-aa5b-c0e824a05cea",
   "metadata": {},
   "outputs": [
    {
     "data": {
      "text/plain": [
       "32"
      ]
     },
     "execution_count": 11,
     "metadata": {},
     "output_type": "execute_result"
    }
   ],
   "source": [
    "# 向量点乘向量\n",
    "v1 = np.array([1,2,3])\n",
    "v2 = np.array([4,5,6])\n",
    "\n",
    "np.dot(v1,v2)"
   ]
  },
  {
   "cell_type": "code",
   "execution_count": 12,
   "id": "0e767a23-86ca-4c87-afdc-4de31b21ca0b",
   "metadata": {},
   "outputs": [
    {
     "data": {
      "text/plain": [
       "array([14, 32])"
      ]
     },
     "execution_count": 12,
     "metadata": {},
     "output_type": "execute_result"
    }
   ],
   "source": [
    "# 向量点乘矩阵\n",
    "v1 = np.array([1,2,3])\n",
    "m2 = np.array([[1,4],\n",
    "               [2,5],\n",
    "               [3,6]])\n",
    "\n",
    "np.dot(v1,m2)"
   ]
  },
  {
   "cell_type": "code",
   "execution_count": 13,
   "id": "c101ec5f-6075-40ec-9a1a-32731339314b",
   "metadata": {},
   "outputs": [
    {
     "data": {
      "text/plain": [
       "array([[22, 28],\n",
       "       [49, 64]])"
      ]
     },
     "execution_count": 13,
     "metadata": {},
     "output_type": "execute_result"
    }
   ],
   "source": [
    "# 矩阵点乘矩阵\n",
    "m1 = np.array([[1,2,3],\n",
    "               [4,5,6]])\n",
    "m2 = np.array([[1,2],\n",
    "               [3,4],\n",
    "               [5,6]])\n",
    "\n",
    "np.dot(m1,m2)"
   ]
  },
  {
   "cell_type": "code",
   "execution_count": 14,
   "id": "17a7f40e-52aa-4802-bfef-01c2a9ae74cb",
   "metadata": {},
   "outputs": [
    {
     "data": {
      "text/plain": [
       "array([[ 9, 12, 15],\n",
       "       [19, 26, 33],\n",
       "       [29, 40, 51]])"
      ]
     },
     "execution_count": 14,
     "metadata": {},
     "output_type": "execute_result"
    }
   ],
   "source": [
    "np.dot(m2,m1) # 矩阵乘法没有交换律"
   ]
  },
  {
   "cell_type": "markdown",
   "id": "2c7faf91-8697-4001-8bac-595db07ec140",
   "metadata": {},
   "source": [
    "## 矩阵的聚合运算"
   ]
  },
  {
   "cell_type": "code",
   "execution_count": 15,
   "id": "db1ffa16-f8bc-4df9-94ab-3dfd6d2e179a",
   "metadata": {},
   "outputs": [
    {
     "data": {
      "text/plain": [
       "array([3.5, 3.5, 3.5])"
      ]
     },
     "execution_count": 15,
     "metadata": {},
     "output_type": "execute_result"
    }
   ],
   "source": [
    "np.mean(arr3,axis=0) # axis=0 求平均"
   ]
  },
  {
   "cell_type": "code",
   "execution_count": 16,
   "id": "29861f32-b39d-409b-998f-d69d78589def",
   "metadata": {},
   "outputs": [
    {
     "data": {
      "text/plain": [
       "array([6, 3])"
      ]
     },
     "execution_count": 16,
     "metadata": {},
     "output_type": "execute_result"
    }
   ],
   "source": [
    "np.max(arr3,axis=1) # axis=1 求最大值"
   ]
  },
  {
   "cell_type": "code",
   "execution_count": 17,
   "id": "e5b0d3d4-5614-43d0-b9ae-ddbde126f838",
   "metadata": {},
   "outputs": [
    {
     "data": {
      "text/plain": [
       "1"
      ]
     },
     "execution_count": 17,
     "metadata": {},
     "output_type": "execute_result"
    }
   ],
   "source": [
    "np.min(arr3) # 所有元素 求最小值"
   ]
  },
  {
   "cell_type": "code",
   "execution_count": 18,
   "id": "d5bdf401-76c5-441c-88e8-2578a11d3a0a",
   "metadata": {},
   "outputs": [
    {
     "data": {
      "text/plain": [
       "array([[6, 5, 4],\n",
       "       [4, 4, 4]])"
      ]
     },
     "execution_count": 18,
     "metadata": {},
     "output_type": "execute_result"
    }
   ],
   "source": [
    "# 两个矩阵的最大值\n",
    "np.maximum(4,arr3)"
   ]
  },
  {
   "cell_type": "code",
   "execution_count": 19,
   "id": "4550b4d6-fb7d-448d-acca-c3e50f250d64",
   "metadata": {},
   "outputs": [
    {
     "data": {
      "text/plain": [
       "array([[2, 2, 2],\n",
       "       [1, 2, 2]])"
      ]
     },
     "execution_count": 19,
     "metadata": {},
     "output_type": "execute_result"
    }
   ],
   "source": [
    "# 两个矩阵的最大值\n",
    "np.minimum(arr2,arr3)"
   ]
  },
  {
   "cell_type": "markdown",
   "id": "1e546572-4859-4f5c-83a3-b4e3df8456d1",
   "metadata": {},
   "source": [
    "# ANN人工神经网络(一层)"
   ]
  },
  {
   "cell_type": "code",
   "execution_count": null,
   "id": "d004380e-19cc-42d1-b1d5-f267be5770d7",
   "metadata": {},
   "outputs": [],
   "source": []
  },
  {
   "cell_type": "markdown",
   "id": "fb92f354-8c63-496a-ab88-7e082306d31a",
   "metadata": {},
   "source": [
    "## 简单实现一个神经元"
   ]
  },
  {
   "cell_type": "code",
   "execution_count": 20,
   "id": "e1180d39-0af2-4386-9cd9-051a811c43a0",
   "metadata": {},
   "outputs": [
    {
     "data": {
      "text/plain": [
       "-0.8200000000000002"
      ]
     },
     "execution_count": 20,
     "metadata": {},
     "output_type": "execute_result"
    }
   ],
   "source": [
    "#输入值\n",
    "a1 = -0.9\n",
    "a2 = 0.5\n",
    "a3 = 0.7\n",
    "\n",
    "# 权重值\n",
    "w1 = 0.8\n",
    "w2 = -0.4\n",
    "w3 = 0\n",
    "\n",
    "# 偏置项\n",
    "b1 = 0.1\n",
    "\n",
    "output1 = a1*w1 + a2*w2 + a3*w3 + b1\n",
    "output1"
   ]
  },
  {
   "cell_type": "code",
   "execution_count": 21,
   "id": "6506ffd0-b0e8-46e1-a77c-f1ac2865776e",
   "metadata": {},
   "outputs": [
    {
     "data": {
      "text/plain": [
       "0.0"
      ]
     },
     "execution_count": 21,
     "metadata": {},
     "output_type": "execute_result"
    }
   ],
   "source": [
    "# 激活函数\n",
    "def activation_Relu(inputs):\n",
    "    return np.maximum(0, inputs)\n",
    "\n",
    "activation_Relu(output1)"
   ]
  },
  {
   "cell_type": "markdown",
   "id": "03ad2d59-9cb4-4d6f-8131-0221b7671082",
   "metadata": {},
   "source": [
    "## 用矩阵向量表示"
   ]
  },
  {
   "cell_type": "code",
   "execution_count": 22,
   "id": "ce1b0ae6-2649-4b7a-810d-09a27d6eb6d9",
   "metadata": {},
   "outputs": [
    {
     "data": {
      "text/plain": [
       "array([0.])"
      ]
     },
     "execution_count": 22,
     "metadata": {},
     "output_type": "execute_result"
    }
   ],
   "source": [
    "inputs = np.array([a1,a2,a3]) #输入值\n",
    "weights = np.array([[w1],\n",
    "                   [w2],\n",
    "                   [w3]]) # 权重值\n",
    "b1 = 0.1 # 偏置项\n",
    "\n",
    "output1 = np.dot(inputs,weights) + b1 #用线性函数组合\n",
    "activation_Relu(output1) # 用激活函数输出"
   ]
  },
  {
   "cell_type": "markdown",
   "id": "3cf5991a-6a08-43ff-af2d-06166079d44a",
   "metadata": {},
   "source": [
    "## 简单实现两个神经元"
   ]
  },
  {
   "cell_type": "code",
   "execution_count": 23,
   "id": "85886186-7b07-44fe-8543-23fe8c6290c2",
   "metadata": {},
   "outputs": [],
   "source": [
    "#输入值\n",
    "a1 = -0.9\n",
    "a2 = 0.5\n",
    "a3 = 0.7\n",
    "\n",
    "# 权重值\n",
    "w11_1 = 0.8\n",
    "w21_1 = -0.4\n",
    "w31_1 = 0\n",
    "\n",
    "w12_1 = 0.2\n",
    "w22_1 = 3\n",
    "w32_1 = -0.9\n",
    "\n",
    "# 偏置项\n",
    "b1 = 0.1\n",
    "b2 = 0.3"
   ]
  },
  {
   "cell_type": "code",
   "execution_count": 24,
   "id": "984e9f9f-ea83-46a8-955a-333e44f8ef46",
   "metadata": {},
   "outputs": [
    {
     "data": {
      "text/plain": [
       "array([0.  , 0.99])"
      ]
     },
     "execution_count": 24,
     "metadata": {},
     "output_type": "execute_result"
    }
   ],
   "source": [
    "inputs = np.array([a1,a2,a3]) \n",
    "weights = np.array([[w11_1,w12_1],\n",
    "                   [w21_1,w22_1],\n",
    "                   [w31_1,w32_1]]) # 权重矩阵\n",
    "b = np.array([b1,b2]) # 偏置项系数矩阵\n",
    "\n",
    "output1 = np.dot(inputs,weights) # 用线性函数组合\n",
    "output1 += b # 偏置项\n",
    "activation_Relu(output1) # 用激活函数输出"
   ]
  },
  {
   "cell_type": "markdown",
   "id": "e55959c1-d289-4495-8fde-eb46e8657fa0",
   "metadata": {},
   "source": [
    "## (输入矩阵)从一条数据到一批数据batch"
   ]
  },
  {
   "cell_type": "code",
   "execution_count": 25,
   "id": "e6d85516-8ced-4b62-8920-4256e5403eb3",
   "metadata": {},
   "outputs": [],
   "source": [
    "#输入值\n",
    "a11 = -0.9\n",
    "a12 = 0.5\n",
    "a13 = 0.7\n",
    "\n",
    "a21 = -0.9\n",
    "a22 = 3\n",
    "a23 = 0\n",
    "\n",
    "a31 = 3\n",
    "a32 = 2\n",
    "a33 = 0.1\n",
    "\n",
    "# 权重值\n",
    "w11_1 = 0.8\n",
    "w21_1 = -0.4\n",
    "w31_1 = 0\n",
    "\n",
    "w12_1 = 0.2\n",
    "w22_1 = 3\n",
    "w32_1 = -0.9\n",
    "\n",
    "# 偏置项\n",
    "b1 = 0.1\n",
    "b2 = 0.3"
   ]
  },
  {
   "cell_type": "code",
   "execution_count": 26,
   "id": "bd7614d0-ab87-4584-9263-8319df10e34a",
   "metadata": {},
   "outputs": [
    {
     "name": "stdout",
     "output_type": "stream",
     "text": [
      "[[-0.82  0.99]\n",
      " [-1.82  9.12]\n",
      " [ 1.7   6.81]]\n",
      "[[0.   0.99]\n",
      " [0.   9.12]\n",
      " [1.7  6.81]]\n"
     ]
    }
   ],
   "source": [
    "inputs = np.array([[a11,a12,a13],\n",
    "                   [a21,a22,a23],\n",
    "                   [a31,a32,a33]]) # 输入矩阵【3个实例】\n",
    "weights = np.array([[w11_1,w12_1],\n",
    "                   [w21_1,w22_1],\n",
    "                   [w31_1,w32_1]]) # 权重矩阵\n",
    "b = np.array([b1,b2]) # 偏置项系数矩阵\n",
    "\n",
    "output1 = np.dot(inputs,weights) + b # 用线性函数组合\n",
    "activation_Relu(output1) # 用激活函数输出 结果矩阵【3个实例】\n",
    "\n",
    "print(output1)\n",
    "print(activation_Relu(output1))"
   ]
  },
  {
   "cell_type": "markdown",
   "id": "70545fa0-b8d1-4793-b9bc-f732bac6f364",
   "metadata": {},
   "source": [
    "## 规模化(权重矩阵)(偏置项矩阵)"
   ]
  },
  {
   "cell_type": "code",
   "execution_count": 27,
   "id": "b1529039-74b6-4ae3-8376-f0196b35c66d",
   "metadata": {},
   "outputs": [],
   "source": [
    "# 权重矩阵的生成\n",
    "def create_weights(n_inputs,n_neurous):\n",
    "    return np.random.randn(n_inputs,n_neurous) # n标准正态分布 矩阵形状\n",
    "\n",
    "# 偏置项矩阵\n",
    "def create_biases(n_neurous):\n",
    "    return np.random.randn(n_neurous)"
   ]
  },
  {
   "cell_type": "code",
   "execution_count": 28,
   "id": "8252c0a0-30bf-40ef-8aa4-b377e472c93c",
   "metadata": {},
   "outputs": [
    {
     "name": "stdout",
     "output_type": "stream",
     "text": [
      "权重矩阵：\n",
      "[[ 0.87902577  1.47534089]\n",
      " [-1.12220731 -0.16802338]\n",
      " [ 0.39467697  0.74096564]]\n",
      "运算结果：\n",
      "[[-0.97595297 -0.59314255]\n",
      " [-4.05774512 -1.53187695]\n",
      " [ 0.53213038  4.46407248]]\n",
      "[[0.         0.        ]\n",
      " [0.         0.        ]\n",
      " [0.53213038 4.46407248]]\n"
     ]
    }
   ],
   "source": [
    "inputs = np.array([[a11,a12,a13],\n",
    "                   [a21,a22,a23],\n",
    "                   [a31,a32,a33]]) # 输入矩阵【3个实例】【3个输入的特征维度】\n",
    "weights = create_weights(3,2) # 权重矩阵【3个输入的特征维度】 【2个神经元】\n",
    "biases = create_biases(2) # 偏置项矩阵【2个神经元】\n",
    "\n",
    "output1 = np.dot(inputs,weights) + b # 用线性函数组合\n",
    "activation_Relu(output1) # 用激活函数输出 结果矩阵【3个实例】\n",
    "\n",
    "print('权重矩阵：')\n",
    "print(weights)\n",
    "print('运算结果：')\n",
    "print(output1)\n",
    "print(activation_Relu(output1))"
   ]
  },
  {
   "cell_type": "markdown",
   "id": "6ee5242c-5d57-4798-a555-98c93b695feb",
   "metadata": {},
   "source": [
    "#  面向对象(多层)"
   ]
  },
  {
   "cell_type": "markdown",
   "id": "79f67872-32a7-4fe3-a417-9be2898b2a3b",
   "metadata": {},
   "source": [
    "## 多层神经网络"
   ]
  },
  {
   "cell_type": "code",
   "execution_count": 29,
   "id": "076cfce7-a703-4a25-81a3-99a923b55bb8",
   "metadata": {},
   "outputs": [],
   "source": [
    "# 固定三个特征维度 可指定实例数量\n",
    "def create_inputs(n):\n",
    "    np.random.seed(0) # 随机种子\n",
    "    heights = np.random.uniform(150, 200, n)  # 身高在150到200之间的随机数\n",
    "    weights = np.random.uniform(40, 100, n)  # 体重在40到100之间的随机数\n",
    "    ages = np.random.randint(18, 80, n)       # 年龄在18到80之间的随机整数\n",
    "    \n",
    "    return np.column_stack((heights, weights, ages)) # 将身高、体重和年龄堆叠成一个二维数组"
   ]
  },
  {
   "cell_type": "code",
   "execution_count": 30,
   "id": "5e029ee8-d97f-478a-9111-4e269e3de050",
   "metadata": {},
   "outputs": [
    {
     "name": "stdout",
     "output_type": "stream",
     "text": [
      "第一层运算结果：\n",
      " [[347.46381693   0.         361.78202515   0.        ]\n",
      " [353.47924148   0.         354.86343333   0.        ]\n",
      " [326.69666626   0.         376.86713106   0.        ]\n",
      " [371.47534894   0.         393.34798951   0.        ]\n",
      " [305.56181278   0.         323.40260873   0.        ]]\n",
      "第二层运算结果：\n",
      " [[163.02145792  57.26476434 140.70597936   0.        ]\n",
      " [167.3584441   46.27848114 132.39321059   0.        ]\n",
      " [149.04144581  87.20819082 162.22986231   0.        ]\n",
      " [173.65749677  67.11037496 155.77404948   0.        ]\n",
      " [142.57635615  55.24121899 128.03064181   0.        ]]\n",
      "第三层运算结果：\n",
      " [[244.04620082  84.26696997]\n",
      " [244.48805659  71.46190971]\n",
      " [239.9884731  118.95554925]\n",
      " [262.8403012   97.16810875]\n",
      " [216.05623625  79.82306765]]\n"
     ]
    }
   ],
   "source": [
    "inputs = create_inputs(5) # 输入矩阵\n",
    "\n",
    "# 第一层的参数\n",
    "weights1 = create_weights(3,4) # 3个输入 4个输出\n",
    "biases1 = create_biases(4) # 4个输出\n",
    "# 第二层的参数\n",
    "weights2 = create_weights(4,4) # 4个输入 4个输出\n",
    "biases2 = create_biases(4) # 4个输出\n",
    "# 第三层的参数\n",
    "weights3 = create_weights(4,2) # 4个输入 2个输出\n",
    "biases3 = create_biases(2) # 2个输出\n",
    "\n",
    "# 运算\n",
    "sum1 = np.dot(inputs,weights1) + biases1 # 线性函数运算\n",
    "output1 = activation_Relu(sum1) # 激活函数输出\n",
    "sum2 = np.dot(output1,weights2) + biases2 # 线性函数运算\n",
    "output2 = activation_Relu(sum2) # 激活函数输出\n",
    "sum3 = np.dot(output2,weights3) + biases3 # 线性函数运算\n",
    "output3 = activation_Relu(sum3) # 激活函数输出\n",
    "\n",
    "print('第一层运算结果：\\n',output1)\n",
    "print('第二层运算结果：\\n',output2)\n",
    "print('第三层运算结果：\\n',output3)"
   ]
  },
  {
   "cell_type": "markdown",
   "id": "585d5224-f82b-4ec7-bf61-ba7f587242b6",
   "metadata": {},
   "source": [
    "## 面向对象的层：简化层的参数和运算"
   ]
  },
  {
   "cell_type": "code",
   "execution_count": 31,
   "id": "8211f499-7234-42e8-9d93-b845a5c53eb0",
   "metadata": {},
   "outputs": [],
   "source": [
    "class Layer:\n",
    "    def __init__(self,n_inputs,n_neurons):\n",
    "        self.weights = np.random.randn(n_inputs,n_neurons)\n",
    "        self.biases = np.random.randn(n_neurons)\n",
    "        # self.output = None\n",
    "        \n",
    "    def layer_forward(self,inputs): # 向前运算\n",
    "        sum1 = np.dot(inputs,self.weights) + self.biases # 线性函数运算\n",
    "        self.output = activation_Relu(sum1) # 激活函数输出\n",
    "        return self.output"
   ]
  },
  {
   "cell_type": "code",
   "execution_count": 32,
   "id": "43c2df46-6ba2-4e51-b7e1-2ce518fd3141",
   "metadata": {},
   "outputs": [
    {
     "name": "stdout",
     "output_type": "stream",
     "text": [
      "第一层运算结果：\n",
      " [[347.46381693   0.         361.78202515   0.        ]\n",
      " [353.47924148   0.         354.86343333   0.        ]\n",
      " [326.69666626   0.         376.86713106   0.        ]\n",
      " [371.47534894   0.         393.34798951   0.        ]\n",
      " [305.56181278   0.         323.40260873   0.        ]]\n",
      "第二层运算结果：\n",
      " [[163.02145792  57.26476434 140.70597936   0.        ]\n",
      " [167.3584441   46.27848114 132.39321059   0.        ]\n",
      " [149.04144581  87.20819082 162.22986231   0.        ]\n",
      " [173.65749677  67.11037496 155.77404948   0.        ]\n",
      " [142.57635615  55.24121899 128.03064181   0.        ]]\n",
      "第三层运算结果：\n",
      " [[244.04620082  84.26696997]\n",
      " [244.48805659  71.46190971]\n",
      " [239.9884731  118.95554925]\n",
      " [262.8403012   97.16810875]\n",
      " [216.05623625  79.82306765]]\n"
     ]
    }
   ],
   "source": [
    "inputs = create_inputs(5) # 输入矩阵\n",
    "\n",
    "layer1 = Layer(3,4)\n",
    "layer2 = Layer(4,4)\n",
    "layer3 = Layer(4,2)\n",
    "\n",
    "output1 = layer1.layer_forward(inputs)\n",
    "output2 = layer2.layer_forward(output1)\n",
    "output3 = layer3.layer_forward(output2)\n",
    "print('第一层运算结果：\\n',output1)\n",
    "print('第二层运算结果：\\n',output2)\n",
    "print('第三层运算结果：\\n',output3)"
   ]
  },
  {
   "cell_type": "markdown",
   "id": "171c6b7c-571a-4128-ae2d-f7e0587f8cb0",
   "metadata": {},
   "source": [
    "## 面向对象的网络：规模化神经网络的层"
   ]
  },
  {
   "cell_type": "code",
   "execution_count": 33,
   "id": "a544fce7-2f3c-4562-924e-c4ae6c111894",
   "metadata": {},
   "outputs": [],
   "source": [
    "class Network: # 输入是神经网络的形状\n",
    "    def __init__(self,network_shape):\n",
    "        self.shape = network_shape\n",
    "        self.layers = [] # 列表存储神经网络的结构 for\n",
    "\n",
    "        for i in range(len(network_shape)-1): # for每一层 4层神经元 3层参数(减一)  [3,4,4,2]\n",
    "            layer = Layer(network_shape[i],network_shape[i+1]) # layer对象  (3,4)\n",
    "            self.layers.append(layer) # 列表存储神经网络的结构"
   ]
  },
  {
   "cell_type": "code",
   "execution_count": 34,
   "id": "c5df1b09-f665-43d1-a248-a48a80ba2fb6",
   "metadata": {},
   "outputs": [
    {
     "name": "stdout",
     "output_type": "stream",
     "text": [
      "第一层运算结果：\n",
      " [[347.46381693   0.         361.78202515   0.        ]\n",
      " [353.47924148   0.         354.86343333   0.        ]\n",
      " [326.69666626   0.         376.86713106   0.        ]\n",
      " [371.47534894   0.         393.34798951   0.        ]\n",
      " [305.56181278   0.         323.40260873   0.        ]]\n",
      "第二层运算结果：\n",
      " [[163.02145792  57.26476434 140.70597936   0.        ]\n",
      " [167.3584441   46.27848114 132.39321059   0.        ]\n",
      " [149.04144581  87.20819082 162.22986231   0.        ]\n",
      " [173.65749677  67.11037496 155.77404948   0.        ]\n",
      " [142.57635615  55.24121899 128.03064181   0.        ]]\n",
      "第三层运算结果：\n",
      " [[244.04620082  84.26696997]\n",
      " [244.48805659  71.46190971]\n",
      " [239.9884731  118.95554925]\n",
      " [262.8403012   97.16810875]\n",
      " [216.05623625  79.82306765]]\n"
     ]
    }
   ],
   "source": [
    "inputs = create_inputs(5) # 输入矩阵\n",
    "\n",
    "NETWORK_SHAOE = [3,4,4,2]\n",
    "network = Network(NETWORK_SHAOE)\n",
    "\n",
    "output1 = network.layers[0].layer_forward(inputs)\n",
    "output2 = network.layers[1].layer_forward(output1)\n",
    "output3 = network.layers[2].layer_forward(output2)\n",
    "print('第一层运算结果：\\n',output1)\n",
    "print('第二层运算结果：\\n',output2)\n",
    "print('第三层运算结果：\\n',output3)"
   ]
  },
  {
   "cell_type": "markdown",
   "id": "697b6944-61d1-447e-ab50-3022725c5641",
   "metadata": {},
   "source": [
    "## 面向对象的网络(进一步规范)"
   ]
  },
  {
   "cell_type": "code",
   "execution_count": 35,
   "id": "9c07e006-7673-47e3-842c-60f7984ed27c",
   "metadata": {},
   "outputs": [],
   "source": [
    "class Network: # 输入是神经网络的形状\n",
    "    def __init__(self,network_shape):\n",
    "        self.shape = network_shape\n",
    "        self.layers = [] \n",
    "\n",
    "        for i in range(len(network_shape)-1):\n",
    "            layer = Layer(network_shape[i],network_shape[i+1])\n",
    "            self.layers.append(layer) \n",
    "\n",
    "    # def network_forward(self,inputs):\n",
    "    #     output = inputs # 【output 初始化】\n",
    "    #     for i in range(len(self.layers)):\n",
    "    #         output = self.layers[i].layer_forward(output) # 【output更新迭代】\n",
    "    #         print(f'第{i+1}层的运算结果：\\n', output)\n",
    "\n",
    "    def network_forward(self,inputs):\n",
    "        outputs = [inputs] # 把输出的规范成列表 for\n",
    "        for i in range(len(self.layers)):\n",
    "            layer_output = self.layers[i].layer_forward(outputs[i]) \n",
    "            outputs.append(layer_output)\n",
    "        return outputs"
   ]
  },
  {
   "cell_type": "code",
   "execution_count": 36,
   "id": "07571a58-1fe5-47f3-87bd-5fe281c72f54",
   "metadata": {},
   "outputs": [
    {
     "data": {
      "text/plain": [
       "[array([[177.4406752 ,  78.75364678,  56.        ],\n",
       "        [185.75946832,  66.25523268,  57.        ],\n",
       "        [180.1381688 ,  93.50638005,  41.        ],\n",
       "        [177.24415915,  97.81976563,  64.        ],\n",
       "        [171.18273997,  63.00649113,  42.        ]]),\n",
       " array([[347.46381693,   0.        , 361.78202515,   0.        ],\n",
       "        [353.47924148,   0.        , 354.86343333,   0.        ],\n",
       "        [326.69666626,   0.        , 376.86713106,   0.        ],\n",
       "        [371.47534894,   0.        , 393.34798951,   0.        ],\n",
       "        [305.56181278,   0.        , 323.40260873,   0.        ]]),\n",
       " array([[163.02145792,  57.26476434, 140.70597936,   0.        ],\n",
       "        [167.3584441 ,  46.27848114, 132.39321059,   0.        ],\n",
       "        [149.04144581,  87.20819082, 162.22986231,   0.        ],\n",
       "        [173.65749677,  67.11037496, 155.77404948,   0.        ],\n",
       "        [142.57635615,  55.24121899, 128.03064181,   0.        ]]),\n",
       " array([[244.04620082,  84.26696997],\n",
       "        [244.48805659,  71.46190971],\n",
       "        [239.9884731 , 118.95554925],\n",
       "        [262.8403012 ,  97.16810875],\n",
       "        [216.05623625,  79.82306765]])]"
      ]
     },
     "execution_count": 36,
     "metadata": {},
     "output_type": "execute_result"
    }
   ],
   "source": [
    "inputs = create_inputs(5) # 输入矩阵\n",
    "\n",
    "NETWORK_SHAOE = [3,4,4,2]\n",
    "network = Network(NETWORK_SHAOE) # 建立一个神经网络对象\n",
    "outputs = network.network_forward(inputs) # 神经网络 前向传播运算\n",
    "outputs"
   ]
  },
  {
   "cell_type": "code",
   "execution_count": 37,
   "id": "bd7527d0-ea6c-4f5e-97e3-32e59908169e",
   "metadata": {},
   "outputs": [
    {
     "data": {
      "text/plain": [
       "[array([[177.4406752 ,  48.96689828,  58.        ],\n",
       "        [185.75946832,  92.08756344,  48.        ],\n",
       "        [180.1381688 ,  49.74957608,  45.        ],\n",
       "        [177.24415915,  76.93357386,  61.        ],\n",
       "        [171.18273997,  47.42919897,  49.        ],\n",
       "        [182.29470565,  90.88049376,  38.        ],\n",
       "        [171.87936056,  88.43913752,  24.        ],\n",
       "        [194.58865004,  74.14604432,  27.        ],\n",
       "        [198.18313803,  64.43099783,  78.        ],\n",
       "        [169.17207594,  44.15001973,  45.        ],\n",
       "        [189.5862519 ,  81.84572639,  65.        ],\n",
       "        [176.44474599,  67.21256096,  53.        ],\n",
       "        [178.40222805,  83.32333597,  37.        ],\n",
       "        [196.27983191,  91.98293956,  30.        ],\n",
       "        [153.55180291,  98.5312903 ,  36.        ],\n",
       "        [154.35646499,  91.34820054,  67.        ],\n",
       "        [151.01091987,  40.70284505,  28.        ],\n",
       "        [191.63099228,  61.59868387,  52.        ],\n",
       "        [188.90783755,  83.79943375,  51.        ],\n",
       "        [193.50060741,  50.29778064,  61.        ],\n",
       "        [198.93091711,  71.26219637,  21.        ],\n",
       "        [189.95792821,  43.2602793 ,  30.        ],\n",
       "        [173.07396811,  51.99979149,  54.        ],\n",
       "        [189.02645881,  41.11130767,  76.        ],\n",
       "        [155.91372129,  87.6218622 ,  19.        ],\n",
       "        [181.99605107,  53.43548128,  67.        ],\n",
       "        [157.16766437,  60.72110084,  18.        ],\n",
       "        [197.23344585,  95.68487761,  57.        ],\n",
       "        [176.09241609,  82.26486412,  42.        ],\n",
       "        [170.733097  ,  41.91033577,  76.        ],\n",
       "        [163.22778061,  49.88164939,  54.        ],\n",
       "        [188.71168447,  77.28870409,  53.        ],\n",
       "        [172.80751661,  74.63371532,  23.        ],\n",
       "        [178.42169744,  54.27356928,  24.        ],\n",
       "        [150.93949002,  96.05283988,  21.        ],\n",
       "        [180.88177485,  76.83795736,  52.        ],\n",
       "        [180.60478614,  72.13796818,  75.        ],\n",
       "        [180.84669984,  75.39459858,  58.        ],\n",
       "        [197.18740393,  83.80732177,  78.        ],\n",
       "        [184.09101496,  58.71669973,  51.        ],\n",
       "        [167.97539503,  63.89326373,  46.        ],\n",
       "        [171.85159769,  52.59062494,  22.        ],\n",
       "        [184.8815598 ,  51.17158035,  44.        ],\n",
       "        [153.01127358,  96.6623434 ,  50.        ],\n",
       "        [183.33833577,  84.3730477 ,  74.        ],\n",
       "        [183.53189348,  69.42752852,  63.        ],\n",
       "        [160.51912805,  53.64487768,  69.        ],\n",
       "        [156.44631488,  55.26138891,  27.        ],\n",
       "        [165.77141755,  43.48174962,  71.        ],\n",
       "        [168.18553855,  66.06499753,  23.        ],\n",
       "        [178.50983852,  58.70775292,  51.        ],\n",
       "        [171.93007567,  81.78060933,  25.        ],\n",
       "        [199.4186919 ,  62.66511036,  79.        ],\n",
       "        [155.10224054,  50.77622065,  48.        ],\n",
       "        [160.4438378 ,  41.4807237 ,  26.        ],\n",
       "        [158.06547589,  44.03497789,  72.        ],\n",
       "        [182.65541627,  80.76356641,  38.        ],\n",
       "        [162.66458013,  67.22181067,  25.        ],\n",
       "        [173.31553864,  72.19475267,  21.        ],\n",
       "        [162.2212796 ,  93.80027758,  39.        ],\n",
       "        [157.94847918,  99.42033684,  45.        ],\n",
       "        [155.51875706,  53.01381906,  62.        ],\n",
       "        [182.81647947,  79.78469219,  21.        ],\n",
       "        [156.90914757,  55.7993426 ,  56.        ],\n",
       "        [159.82911808,  41.23905997,  38.        ],\n",
       "        [168.43625853,  85.50271923,  25.        ],\n",
       "        [191.04966149,  59.20102905,  37.        ],\n",
       "        [154.85506379,  63.00783365,  49.        ],\n",
       "        [191.89724537,  75.29902681,  18.        ],\n",
       "        [154.80492039,  89.86290731,  23.        ],\n",
       "        [198.82297325,  77.73891062,  45.        ],\n",
       "        [173.43256008,  92.35903933,  61.        ],\n",
       "        [198.83805441,  56.41252209,  48.        ],\n",
       "        [180.24227599,  87.88281003,  27.        ],\n",
       "        [186.96317897,  51.13815666,  37.        ],\n",
       "        [151.95938961,  97.16749942,  25.        ],\n",
       "        [164.14034813,  81.24929658,  39.        ],\n",
       "        [156.00982806,  52.93046063,  55.        ],\n",
       "        [164.80700988,  96.84223543,  46.        ],\n",
       "        [155.93638595,  83.85134841,  26.        ],\n",
       "        [165.89915897,  55.23649856,  61.        ],\n",
       "        [170.71314973,  52.79871864,  64.        ],\n",
       "        [153.20737482,  71.09204284,  18.        ],\n",
       "        [184.62360597,  41.53976308,  58.        ],\n",
       "        [178.33007271,  52.44820453,  69.        ],\n",
       "        [163.26947455,  65.48112813,  56.        ],\n",
       "        [176.16240267,  62.45019882,  43.        ],\n",
       "        [154.69702554,  67.81452546,  28.        ],\n",
       "        [178.79732478,  56.65772238,  69.        ],\n",
       "        [196.46480988,  75.20706079,  52.        ],\n",
       "        [165.92844762,  91.83133636,  77.        ],\n",
       "        [183.370519  ,  47.05191136,  41.        ],\n",
       "        [156.58989312,  71.04274643,  50.        ],\n",
       "        [185.81636021,  47.92408638,  37.        ],\n",
       "        [164.47030465,  83.01158087,  44.        ],\n",
       "        [159.1595681 ,  63.76358217,  32.        ],\n",
       "        [179.32564674,  73.92527871,  50.        ],\n",
       "        [151.00537731,  50.99679017,  69.        ],\n",
       "        [191.44700146,  48.69086556,  24.        ],\n",
       "        [150.23477381,  69.28337684,  51.        ],\n",
       "        [183.89082684,  61.33676427,  62.        ],\n",
       "        [163.50039866,  96.42591672,  77.        ],\n",
       "        [186.75970111,  85.91951523,  75.        ],\n",
       "        [198.10942726,  84.91981719,  68.        ],\n",
       "        [162.43765718,  94.22318438,  63.        ],\n",
       "        [178.80786672,  45.00534613,  59.        ],\n",
       "        [179.60209656,  73.1315482 ,  22.        ],\n",
       "        [178.61259529,  75.06856414,  75.        ],\n",
       "        [161.15408163,  97.71618271,  47.        ],\n",
       "        [197.63745058,  57.52885161,  45.        ],\n",
       "        [172.35626893,  54.44972679,  35.        ],\n",
       "        [192.32043362,  46.01763654,  53.        ],\n",
       "        [184.97396377,  40.98577778,  20.        ],\n",
       "        [164.87184754,  95.77175901,  38.        ],\n",
       "        [190.68989099,  80.1949928 ,  63.        ],\n",
       "        [169.82528704,  87.10917472,  75.        ],\n",
       "        [194.05515986,  56.90380635,  33.        ],\n",
       "        [179.06364363,  75.18460997,  73.        ],\n",
       "        [194.08676809,  43.83731597,  54.        ],\n",
       "        [184.6265795 ,  69.13765576,  59.        ],\n",
       "        [186.26271399,  98.64970838,  22.        ],\n",
       "        [175.0662191 ,  92.59031472,  67.        ],\n",
       "        [197.80418174,  60.28953711,  68.        ],\n",
       "        [182.19950996,  97.69420927,  31.        ],\n",
       "        [171.19275243,  53.90209759,  48.        ],\n",
       "        [180.31966071,  96.95912934,  63.        ],\n",
       "        [150.95965992,  96.48266228,  41.        ],\n",
       "        [165.07874083,  87.95215524,  52.        ],\n",
       "        [183.00867687,  77.82687621,  53.        ],\n",
       "        [164.50388036,  92.457278  ,  27.        ],\n",
       "        [180.90077145,  57.58121707,  44.        ],\n",
       "        [171.43843505,  90.93661332,  73.        ],\n",
       "        [156.77370321,  77.07260152,  44.        ],\n",
       "        [164.9141163 ,  40.79421147,  72.        ],\n",
       "        [178.49824554,  60.83401108,  40.        ],\n",
       "        [179.54363806,  48.88845166,  30.        ],\n",
       "        [178.71626244,  98.90976339,  33.        ],\n",
       "        [182.66004099,  68.70221842,  52.        ],\n",
       "        [182.6051635 ,  69.84348193,  44.        ],\n",
       "        [171.57092177,  78.36835098,  69.        ],\n",
       "        [194.82732979,  62.11507637,  56.        ],\n",
       "        [168.3780935 ,  48.2140163 ,  64.        ],\n",
       "        [171.79324626,  89.32706399,  34.        ],\n",
       "        [194.59616775,  51.39087471,  79.        ],\n",
       "        [190.30969945,  70.67913895,  78.        ],\n",
       "        [185.19442918,  53.45902174,  65.        ],\n",
       "        [155.01134437,  45.87066907,  76.        ],\n",
       "        [195.97413069,  91.73149105,  58.        ],\n",
       "        [185.71206498,  98.37516934,  18.        ],\n",
       "        [199.94235033,  97.65007948,  28.        ]]),\n",
       " array([[297.32699388,   0.        ,  59.65052471, ...,   0.        ,\n",
       "          27.86765154,   0.        ],\n",
       "        [358.49303649,   0.        , 129.69421596, ...,   0.        ,\n",
       "           0.        ,   0.        ],\n",
       "        [333.21706582,   0.        ,  60.08049765, ...,   0.        ,\n",
       "          26.95273287,   0.        ],\n",
       "        ...,\n",
       "        [359.31056008,   0.        , 128.10092095, ...,   0.        ,\n",
       "           0.        ,   0.        ],\n",
       "        [428.88604821,   0.        , 138.97634525, ...,   0.        ,\n",
       "           0.        ,   0.        ],\n",
       "        [438.78882994,   0.        , 136.22472428, ...,   0.        ,\n",
       "           0.        ,   0.        ]]),\n",
       " array([[ 462.59840553,  906.3740963 , 1097.86455043, ...,  895.96044847,\n",
       "          905.5633506 ,    0.        ],\n",
       "        [ 252.22925977, 1017.3588644 , 1207.50504624, ...,  960.35817461,\n",
       "         1017.84291673,    0.        ],\n",
       "        [ 350.50027749,  920.07901639, 1137.06796499, ...,  952.73391758,\n",
       "          900.66394297,    0.        ],\n",
       "        ...,\n",
       "        [ 350.63332838, 1067.57192302, 1273.15063183, ...,  991.39157901,\n",
       "         1068.5596066 ,    0.        ],\n",
       "        [   9.90760599, 1053.61466533, 1243.65466013, ..., 1051.69772777,\n",
       "         1021.63009054,    0.        ],\n",
       "        [ 107.18310552, 1115.41660397, 1320.87883996, ..., 1106.41327279,\n",
       "         1090.50510457,    0.        ]]),\n",
       " array([[   0.        ,    0.        ,    0.        , ..., 3865.31766282,\n",
       "         5522.94424454, 5132.79420872],\n",
       "        [   0.        ,    0.        ,    0.        , ..., 5279.0651006 ,\n",
       "         5270.5337538 , 5663.28091928],\n",
       "        [   0.        ,    0.        ,    0.        , ..., 4007.03439456,\n",
       "         5631.15288652, 5555.35558417],\n",
       "        ...,\n",
       "        [   0.        ,    0.        ,    0.        , ..., 5364.68435209,\n",
       "         5700.61683162, 5790.25479821],\n",
       "        [   0.        ,    0.        ,  339.84992633, ..., 5525.66169155,\n",
       "         4849.50186473, 6639.1363691 ],\n",
       "        [   0.        ,    0.        ,    0.        , ..., 5684.1497341 ,\n",
       "         5361.29543496, 6809.96296725]]),\n",
       " array([[    0.        ,     0.        ,  4094.10965548, ...,\n",
       "             0.        , 26782.73534657,     0.        ],\n",
       "        [    0.        ,     0.        ,     0.        , ...,\n",
       "             0.        , 25654.60806072,     0.        ],\n",
       "        [    0.        ,     0.        ,  2847.99604687, ...,\n",
       "             0.        , 24002.37115492,     0.        ],\n",
       "        ...,\n",
       "        [    0.        ,     0.        ,  1455.30957112, ...,\n",
       "             0.        , 28865.73263402,     0.        ],\n",
       "        [    0.        ,     0.        ,     0.        , ...,\n",
       "             0.        , 19651.56315865,     0.        ],\n",
       "        [    0.        ,     0.        ,     0.        , ...,\n",
       "             0.        , 22776.64108111,     0.        ]])]"
      ]
     },
     "execution_count": 37,
     "metadata": {},
     "output_type": "execute_result"
    }
   ],
   "source": [
    "# 可指定输入矩阵的样本数  可指定神经网络的结构\n",
    "inputs = create_inputs(150) \n",
    "\n",
    "NETWORK_SHAOE = [3,45,100,50,10] # 固定3个输入的特征维度  \n",
    "network = Network(NETWORK_SHAOE)\n",
    "outputs = network.network_forward(inputs)\n",
    "outputs"
   ]
  },
  {
   "cell_type": "markdown",
   "id": "46de69f3-7de2-4dae-a2c6-bf9313fb047d",
   "metadata": {},
   "source": [
    "# 进一步改进"
   ]
  },
  {
   "cell_type": "markdown",
   "id": "d46f725c-5c5f-4d9f-ae47-7bb6b63a5ee0",
   "metadata": {},
   "source": [
    "## 复盘前面"
   ]
  },
  {
   "cell_type": "code",
   "execution_count": 38,
   "id": "ffe34b1b-2d99-4360-aae9-1c4351666e17",
   "metadata": {},
   "outputs": [],
   "source": [
    "# 权重矩阵的生成\n",
    "def create_weights(n_inputs,n_neurous):\n",
    "    return np.random.randn(n_inputs,n_neurous) # n标准正态分布 矩阵形状\n",
    "\n",
    "# 偏置项矩阵\n",
    "def create_biases(n_neurous):\n",
    "    return np.random.randn(n_neurous)\n",
    "\n",
    "\n",
    "# 固定三个特征维度 可指定实例数量\n",
    "def create_inputs(n):\n",
    "    np.random.seed(0) # 随机种子\n",
    "    heights = np.random.uniform(150, 200, n)  # 身高在150到200之间的随机数\n",
    "    weights = np.random.uniform(40, 100, n)  # 体重在40到100之间的随机数\n",
    "    ages = np.random.randint(18, 80, n)       # 年龄在18到80之间的随机整数\n",
    "    \n",
    "    return np.column_stack((heights, weights, ages)) # 将身高、体重和年龄堆叠成一个二维数组\n",
    "\n",
    "\n",
    "# 激活函数(不适合用在最后一层)\n",
    "def activation_Relu(inputs):\n",
    "    return np.maximum(0, inputs)\n"
   ]
  },
  {
   "cell_type": "code",
   "execution_count": 39,
   "id": "211f32cf-7147-4df1-ae61-7621d008b0fd",
   "metadata": {},
   "outputs": [],
   "source": [
    "# 定义一个层的类\n",
    "class Layer:\n",
    "    def __init__(self,n_inputs,n_neurons):\n",
    "        self.weights = np.random.randn(n_inputs,n_neurons)\n",
    "        self.biases = np.random.randn(n_neurons)\n",
    "        # self.output = None\n",
    "        \n",
    "    def layer_forward(self,inputs): \n",
    "        linear = np.dot(inputs,self.weights) + self.biases \n",
    "        self.output = activation_Relu(linear) # 激活函数\n",
    "        return self.output\n",
    "\n",
    "\n",
    "# 定义一个网络的类\n",
    "class Network: \n",
    "    def __init__(self,network_shape):\n",
    "        self.shape = network_shape\n",
    "        self.layers = [] \n",
    "\n",
    "        for i in range(len(network_shape)-1):\n",
    "            layer = Layer(network_shape[i],network_shape[i+1])\n",
    "            self.layers.append(layer) \n",
    "\n",
    "    def network_forward(self,inputs):\n",
    "        outputs = [inputs] \n",
    "        for i in range(len(self.layers)):\n",
    "            layer_output = self.layers[i].layer_forward(outputs[i]) \n",
    "            outputs.append(layer_output)\n",
    "        return outputs"
   ]
  },
  {
   "cell_type": "markdown",
   "id": "fe2ec670-ca6c-4d72-b880-a3a699448146",
   "metadata": {},
   "source": [
    "## 激活函数 标准化函数"
   ]
  },
  {
   "cell_type": "code",
   "execution_count": 40,
   "id": "adb4f8f2-17d8-420d-9d95-ba20ef634650",
   "metadata": {},
   "outputs": [],
   "source": [
    "# 权重矩阵的生成\n",
    "def create_weights(n_inputs,n_neurous):\n",
    "    return np.random.randn(n_inputs,n_neurous) # n标准正态分布 矩阵形状\n",
    "\n",
    "# 偏置项矩阵\n",
    "def create_biases(n_neurous):\n",
    "    return np.random.randn(n_neurous)\n",
    "\n",
    "\n",
    "# 固定三个特征维度 可指定实例数量\n",
    "def create_inputs(n):\n",
    "    np.random.seed(0) # 随机种子\n",
    "    heights = np.random.uniform(150, 200, n)  # 身高在150到200之间的随机数\n",
    "    weights = np.random.uniform(40, 100, n)  # 体重在40到100之间的随机数\n",
    "    ages = np.random.randint(18, 80, n)       # 年龄在18到80之间的随机整数\n",
    "    return np.column_stack((heights, weights, ages)) # 将身高、体重和年龄堆叠成一个二维数组\n",
    "\n",
    "\n",
    "# 标准化函数 防止梯度消失梯度爆炸\n",
    "def normalize(array):\n",
    "    max_number = np.max(np.absolute(array),axis=1,keepdims=True)\n",
    "    scale_rate = np.where(max_number==0, 1, 1/max_number) # 特殊情况考虑\n",
    "    norm = array * scale_rate\n",
    "    return norm\n",
    "    \n",
    "\n",
    "# 激活函数(不适合用在最后一层)\n",
    "def activation_Relu(inputs):\n",
    "    return np.maximum(0, inputs)\n",
    "\n",
    "# 激活函数(最后一层 概率和为1)\n",
    "def activation_softmax(inputs):\n",
    "    max_values = np.max(inputs,axis=1,keepdims=True) # keepdims列向量(不丢掉维度信息)\n",
    "    slided_inputs = inputs - max_values # 平滑 防止数字过大内存溢出\n",
    "    exp_values = np.exp(slided_inputs) # 指数运算 除减互换\n",
    "\n",
    "    norm_base = np.sum(exp_values,axis=1,keepdims=True)\n",
    "    norm_values = exp_values / norm_base # 标准化操作\n",
    "    return norm_values\n"
   ]
  },
  {
   "cell_type": "code",
   "execution_count": 41,
   "id": "6d7699e5-7ab7-4ee4-a9cd-244299805b1e",
   "metadata": {},
   "outputs": [],
   "source": [
    "# 定义一个层的类\n",
    "class Layer:\n",
    "    def __init__(self,n_inputs,n_neurons):\n",
    "        self.weights = np.random.randn(n_inputs,n_neurons)\n",
    "        self.biases = np.random.randn(n_neurons)\n",
    "        # self.output = None\n",
    "        \n",
    "    def layer_forward(self,inputs): \n",
    "        self.output_linear = np.dot(inputs,self.weights) + self.biases # 只做线性函数计算\n",
    "        return self.output_linear\n",
    "\n",
    "\n",
    "# 定义一个网络的类\n",
    "class Network: \n",
    "    def __init__(self,network_shape):\n",
    "        self.shape = network_shape\n",
    "        self.layers = [] \n",
    "\n",
    "        for i in range(len(network_shape)-1):\n",
    "            layer = Layer(network_shape[i],network_shape[i+1])\n",
    "            self.layers.append(layer) \n",
    "\n",
    "    def network_forward(self,inputs):\n",
    "        outputs = [inputs] \n",
    "        for i in range(len(self.layers)):\n",
    "            layer_output_linear = self.layers[i].layer_forward(outputs[i]) # 线性函数计算  激活函数输出(标准化函数)\n",
    "            layer_output = normalize(activation_Relu(layer_output_linear)) if i<len(self.layers)-1 else activation_softmax(layer_output_linear)\n",
    "            outputs.append(layer_output)\n",
    "        return outputs"
   ]
  },
  {
   "cell_type": "code",
   "execution_count": 42,
   "id": "634bd1bb-b712-4c71-9a3a-81acf58caa45",
   "metadata": {},
   "outputs": [
    {
     "data": {
      "text/plain": [
       "[array([[177.4406752 ,  78.75364678,  56.        ],\n",
       "        [185.75946832,  66.25523268,  57.        ],\n",
       "        [180.1381688 ,  93.50638005,  41.        ],\n",
       "        [177.24415915,  97.81976563,  64.        ],\n",
       "        [171.18273997,  63.00649113,  42.        ]]),\n",
       " array([[0.96042311, 0.        , 1.        , 0.        ],\n",
       "        [0.99609937, 0.        , 1.        , 0.        ],\n",
       "        [0.86687493, 0.        , 1.        , 0.        ],\n",
       "        [0.94439366, 0.        , 1.        , 0.        ],\n",
       "        [0.9448341 , 0.        , 1.        , 0.        ]]),\n",
       " array([[0.        , 1.        , 0.436176  , 0.        ],\n",
       "        [0.        , 1.        , 0.43289277, 0.        ],\n",
       "        [0.        , 1.        , 0.44407026, 0.        ],\n",
       "        [0.        , 1.        , 0.43759958, 0.        ],\n",
       "        [0.        , 1.        , 0.43756088, 0.        ]]),\n",
       " array([[0.39676079, 0.60323921],\n",
       "        [0.39458543, 0.60541457],\n",
       "        [0.40200785, 0.59799215],\n",
       "        [0.39770529, 0.60229471],\n",
       "        [0.3976796 , 0.6023204 ]])]"
      ]
     },
     "execution_count": 42,
     "metadata": {},
     "output_type": "execute_result"
    }
   ],
   "source": [
    "inputs = create_inputs(5) # 输入矩阵\n",
    "\n",
    "NETWORK_SHAOE = [3,4,4,2]\n",
    "network = Network(NETWORK_SHAOE) # 建立一个神经网络对象\n",
    "outputs = network.network_forward(inputs) # 神经网络 前向传播运算\n",
    "outputs"
   ]
  },
  {
   "cell_type": "markdown",
   "id": "cdad108f-ef0b-4f26-8e03-57d618a575df",
   "metadata": {},
   "source": [
    "# 分类任务"
   ]
  },
  {
   "cell_type": "markdown",
   "id": "5ed0a27f-ba01-432c-bff3-b3b79992f687",
   "metadata": {},
   "source": [
    "## 生成数据和标答"
   ]
  },
  {
   "cell_type": "code",
   "execution_count": 43,
   "id": "135151a9-3628-4e5e-96a4-e4aa6ad3e0e3",
   "metadata": {},
   "outputs": [],
   "source": [
    "# 标答\n",
    "def tag_entry(x,y):\n",
    "    tag = 0 if x**2+y**2<1 else 1\n",
    "    return tag\n",
    "\n",
    "# 生成数据\n",
    "def create_data(num_of_data):\n",
    "    entry_list = []\n",
    "    for i in range(num_of_data):\n",
    "        x = random.uniform(-2,2)\n",
    "        y = random.uniform(-2,2)\n",
    "        tag = tag_entry(x,y) # 标答\n",
    "\n",
    "        entry = [x,y,tag]\n",
    "        entry_list.append(entry)\n",
    "    return np.array(entry_list)\n",
    "\n",
    "# 可视化\n",
    "def plot_data(data,title):\n",
    "    plt.figure(figsize=(4,4))  # 设置图形大小\n",
    "    color = []\n",
    "    for i in data[:,2]:\n",
    "        color = ['orange' if i == 0 else 'blue' for i in data[:,2]]\n",
    "    plt.scatter(data[:,0],data[:,1],c=color,s=3)\n",
    "    plt.title(title)\n",
    "    plt.show()"
   ]
  },
  {
   "cell_type": "code",
   "execution_count": 44,
   "id": "01a49f5e-917f-4d6f-8a09-49948b45fbb5",
   "metadata": {},
   "outputs": [
    {
     "data": {
      "text/plain": [
       "array([[-0.61313297,  0.73243755,  0.        ],\n",
       "       [ 0.46849566, -0.18538757,  0.        ],\n",
       "       [ 0.27481493, -0.85915943,  0.        ],\n",
       "       [ 1.30485569,  0.05781262,  1.        ],\n",
       "       [-0.13609448, -1.61961295,  1.        ],\n",
       "       [ 0.19436917,  1.41501055,  1.        ],\n",
       "       [-1.36640603,  0.00899031,  1.        ],\n",
       "       [ 1.77881968,  0.97387736,  1.        ],\n",
       "       [ 1.74347654, -1.9662792 ,  1.        ],\n",
       "       [-0.16199011,  1.54031882,  1.        ],\n",
       "       [-0.71235563,  1.18575544,  1.        ],\n",
       "       [-0.22365245, -0.06209946,  0.        ],\n",
       "       [ 0.23772089,  1.94773819,  1.        ],\n",
       "       [-0.39522016, -1.23475936,  1.        ],\n",
       "       [-1.84220959,  0.1609092 ,  1.        ],\n",
       "       [ 0.16413758,  1.92969029,  1.        ],\n",
       "       [-1.14607836,  0.73386508,  1.        ],\n",
       "       [-1.3831167 ,  0.07487026,  1.        ],\n",
       "       [-0.23997689, -0.87822736,  0.        ],\n",
       "       [-0.74690209, -1.89910575,  1.        ],\n",
       "       [ 0.42254948, -0.92576391,  1.        ],\n",
       "       [ 1.84829695,  0.11930904,  1.        ],\n",
       "       [ 0.38587771, -0.68133921,  0.        ],\n",
       "       [ 1.36526599, -1.86057919,  1.        ],\n",
       "       [ 0.69104345, -0.50636357,  0.        ],\n",
       "       [-0.44494578, -0.10596629,  0.        ],\n",
       "       [ 1.4633951 , -0.67144508,  1.        ],\n",
       "       [ 0.92549651,  0.75696043,  1.        ],\n",
       "       [-0.35385797, -0.45969564,  0.        ],\n",
       "       [-0.15714584,  0.76338012,  0.        ]])"
      ]
     },
     "execution_count": 44,
     "metadata": {},
     "output_type": "execute_result"
    }
   ],
   "source": [
    "# 生成数据\n",
    "NUM_OF_DATA = 300\n",
    "data = create_data(NUM_OF_DATA)\n",
    "data[:30]"
   ]
  },
  {
   "cell_type": "code",
   "execution_count": 45,
   "id": "5675e9dc-9d70-4c72-b515-e08a650f9f79",
   "metadata": {},
   "outputs": [
    {
     "data": {
      "image/png": "[encoded data removed]",
      "text/plain": [
       "<Figure size 400x400 with 1 Axes>"
      ]
     },
     "metadata": {},
     "output_type": "display_data"
    }
   ],
   "source": [
    "# 图形直观可视化\n",
    "plot_data(data,'原数据情况')"
   ]
  },
  {
   "cell_type": "markdown",
   "id": "a030f1ba-b75b-4b4e-a368-92c5f7f90c97",
   "metadata": {},
   "source": [
    "## 调用数据进行推理：分类函数"
   ]
  },
  {
   "cell_type": "markdown",
   "id": "1f2b8acf-3dcf-488f-b7fb-1c52c03ae4fe",
   "metadata": {},
   "source": [
    "输入是：x y  \n",
    "输出是：橙 蓝\n",
    "\n",
    "神经网络的输入和输出层都是2"
   ]
  },
  {
   "cell_type": "code",
   "execution_count": 46,
   "id": "131fd632-56b5-42a2-a367-4f1094111961",
   "metadata": {},
   "outputs": [],
   "source": [
    "# 分类函数 将概率值转换为分类标签\n",
    "def classify(probabilities):\n",
    "    classification = np.rint(probabilities[:,1]) # 四舍五入\n",
    "    return classification"
   ]
  },
  {
   "cell_type": "code",
   "execution_count": 47,
   "id": "1eacc495-438c-4e7a-bc95-16019aedecb6",
   "metadata": {},
   "outputs": [
    {
     "data": {
      "text/plain": [
       "array([[0.02927289, 0.97072711],\n",
       "       [0.01597477, 0.98402523],\n",
       "       [0.01673946, 0.98326054],\n",
       "       [0.01519266, 0.98480734],\n",
       "       [0.01734378, 0.98265622],\n",
       "       [0.02927289, 0.97072711],\n",
       "       [0.02894872, 0.97105128],\n",
       "       [0.00560599, 0.99439401],\n",
       "       [0.01146822, 0.98853178],\n",
       "       [0.02927289, 0.97072711],\n",
       "       [0.02927289, 0.97072711],\n",
       "       [0.02927289, 0.97072711],\n",
       "       [0.02927289, 0.97072711],\n",
       "       [0.01646531, 0.98353469],\n",
       "       [0.02575024, 0.97424976],\n",
       "       [0.02927289, 0.97072711],\n",
       "       [0.02927289, 0.97072711],\n",
       "       [0.02913437, 0.97086563],\n",
       "       [0.01673946, 0.98326054],\n",
       "       [0.01462601, 0.98537399],\n",
       "       [0.01673946, 0.98326054],\n",
       "       [0.01287165, 0.98712835],\n",
       "       [0.01673946, 0.98326054],\n",
       "       [0.0111829 , 0.9888171 ],\n",
       "       [0.0167044 , 0.9832956 ],\n",
       "       [0.02927289, 0.97072711],\n",
       "       [0.01539538, 0.98460462],\n",
       "       [0.0137757 , 0.9862243 ],\n",
       "       [0.01603045, 0.98396955],\n",
       "       [0.02927289, 0.97072711]])"
      ]
     },
     "execution_count": 47,
     "metadata": {},
     "output_type": "execute_result"
    }
   ],
   "source": [
    "inputs = data[:,:2] # 数据集(只要前2列)\n",
    "targets = np.copy(data[:,2]) # 标答  【copy】\n",
    "\n",
    "# 神经网络\n",
    "NETWORK_SHAOE = [2,8,5,6,2]\n",
    "network = Network(NETWORK_SHAOE) # 建立一个神经网络对象\n",
    "outputs = network.network_forward(inputs) # 神经网络 前向传播运算\n",
    "outputs[-1][:30]"
   ]
  },
  {
   "cell_type": "code",
   "execution_count": 48,
   "id": "1a362fe0-5f17-43d7-8be2-504a67f8cab2",
   "metadata": {},
   "outputs": [
    {
     "name": "stdout",
     "output_type": "stream",
     "text": [
      "[1. 1. 1. 1. 1. 1. 1. 1. 1. 1. 1. 1. 1. 1. 1. 1. 1. 1. 1. 1. 1. 1. 1. 1.\n",
      " 1. 1. 1. 1. 1. 1. 1. 1. 1. 1. 1. 1. 1. 1. 1. 1. 1. 1. 1. 1. 1. 1. 1. 1.\n",
      " 1. 1. 1. 1. 1. 1. 1. 1. 1. 1. 1. 1. 1. 1. 1. 1. 1. 1. 1. 1. 1. 1. 1. 1.\n",
      " 1. 1. 1. 1. 1. 1. 1. 1. 1. 1. 1. 1. 1. 1. 1. 1. 1. 1. 1. 1. 1. 1. 1. 1.\n",
      " 1. 1. 1. 1. 1. 1. 1. 1. 1. 1. 1. 1. 1. 1. 1. 1. 1. 1. 1. 1. 1. 1. 1. 1.\n",
      " 1. 1. 1. 1. 1. 1. 1. 1. 1. 1. 1. 1. 1. 1. 1. 1. 1. 1. 1. 1. 1. 1. 1. 1.\n",
      " 1. 1. 1. 1. 1. 1. 1. 1. 1. 1. 1. 1. 1. 1. 1. 1. 1. 1. 1. 1. 1. 1. 1. 1.\n",
      " 1. 1. 1. 1. 1. 1. 1. 1. 1. 1. 1. 1. 1. 1. 1. 1. 1. 1. 1. 1. 1. 1. 1. 1.\n",
      " 1. 1. 1. 1. 1. 1. 1. 1. 1. 1. 1. 1. 1. 1. 1. 1. 1. 1. 1. 1. 1. 1. 1. 1.\n",
      " 1. 1. 1. 1. 1. 1. 1. 1. 1. 1. 1. 1. 1. 1. 1. 1. 1. 1. 1. 1. 1. 1. 1. 1.\n",
      " 1. 1. 1. 1. 1. 1. 1. 1. 1. 1. 1. 1. 1. 1. 1. 1. 1. 1. 1. 1. 1. 1. 1. 1.\n",
      " 1. 1. 1. 1. 1. 1. 1. 1. 1. 1. 1. 1. 1. 1. 1. 1. 1. 1. 1. 1. 1. 1. 1. 1.\n",
      " 1. 1. 1. 1. 1. 1. 1. 1. 1. 1. 1. 1.]\n"
     ]
    },
    {
     "data": {
      "image/png": "[encoded data removed]",
      "text/plain": [
       "<Figure size 400x400 with 1 Axes>"
      ]
     },
     "metadata": {},
     "output_type": "display_data"
    }
   ],
   "source": [
    "# 需要将概率转化为标签\n",
    "classification = classify(outputs[-1]) \n",
    "data_pre = np.copy(data)\n",
    "data_pre[:,2] = classification \n",
    "\n",
    "print(data_pre[:,2]) # 预测与实际有很大差距 需要定义损失函数迭代运算(训练)\n",
    "plot_data(data_pre,'还没训练的预测情况')"
   ]
  },
  {
   "cell_type": "markdown",
   "id": "607db782-fa3c-4f35-8e6f-6d52c701d148",
   "metadata": {},
   "source": [
    "# 训练：反向传播算法(调整参数)"
   ]
  },
  {
   "cell_type": "markdown",
   "id": "3bcf722c-4586-4de3-b93a-9401dd862f9d",
   "metadata": {},
   "source": [
    "## 熵损失函数"
   ]
  },
  {
   "cell_type": "markdown",
   "id": "e33d8eb8-126e-4ec3-a158-bea847f1fd3a",
   "metadata": {},
   "source": [
    "损失函数越大，准确性越差  \n",
    "损失：预测、标答 —— 交叉熵"
   ]
  },
  {
   "cell_type": "code",
   "execution_count": 49,
   "id": "b1f5fb76-c392-4189-ad7d-6a7c969e55a7",
   "metadata": {},
   "outputs": [],
   "source": [
    "# 熵损失函数\n",
    "def precise_loss_function(predicted,real): # 预测的 标答的\n",
    "    real_maxtrix = np.zeros((len(real),2)) # 构造形状\n",
    "    real_maxtrix[:,1],real_maxtrix[:,0] = real,1-real # 互补的\n",
    "    \n",
    "    product = np.sum(predicted*real_maxtrix,axis=1) # 相似程度\n",
    "    return 1 - product # 损失函数越大准确性越差"
   ]
  },
  {
   "cell_type": "markdown",
   "id": "fc09b7e2-9fa8-49b4-bb45-fafc2b770aaa",
   "metadata": {},
   "source": [
    "## 需求函数(最后一层)"
   ]
  },
  {
   "cell_type": "code",
   "execution_count": 50,
   "id": "9b244fad-1c9c-40bc-82f0-54008f1b2f04",
   "metadata": {},
   "outputs": [],
   "source": [
    "# 需求函数(最后一层)\n",
    "def get_finalLayer_preAct_demands(predicted_values,target_vector): # 预测的 标答的\n",
    "    target = np.zeros((len(target_vector),2)) # 构造形状\n",
    "    target[:,1],target[:,0] = target_vector,1-target_vector # 互补的\n",
    "\n",
    "    \n",
    "    # for i in range(len(target_vector)):\n",
    "    #     if np.dot(target[i],predicted_values[i])>0.5:\n",
    "    #         target[i] = np.array([0,0])\n",
    "    #     else:\n",
    "    #         target[i] = (target[i] - 0.5) * 2 \n",
    "\n",
    "    for i in range(len(target_vector)):\n",
    "        target[i] = np.array([0,0]) if np.dot(target[i],predicted_values[i])>0.5 else (target[i] - 0.5) * 2 \n",
    "\n",
    "    # target = [(np.array([0, 0]) if np.dot(target[i],predicted_values[i])>0.5 else (target_vector[i]-0.5)*2) for i in range(len(target_vector))]\n",
    "\n",
    "    \n",
    "    return target"
   ]
  },
  {
   "cell_type": "code",
   "execution_count": 51,
   "id": "37752712-97f6-4108-b0b3-c048cf382930",
   "metadata": {},
   "outputs": [
    {
     "name": "stdout",
     "output_type": "stream",
     "text": [
      "[0.97072711 0.98402523 0.98326054 0.01519266 0.01734378 0.02927289\n",
      " 0.02894872 0.00560599 0.01146822 0.02927289 0.02927289 0.97072711\n",
      " 0.02927289 0.01646531 0.02575024 0.02927289 0.02927289 0.02913437\n",
      " 0.98326054 0.01462601 0.01673946 0.01287165 0.98326054 0.0111829\n",
      " 0.9832956  0.97072711 0.01539538 0.0137757  0.98396955 0.97072711]\n",
      "[[ 1. -1.]\n",
      " [ 1. -1.]\n",
      " [ 1. -1.]\n",
      " [ 0.  0.]\n",
      " [ 0.  0.]\n",
      " [ 0.  0.]\n",
      " [ 0.  0.]\n",
      " [ 0.  0.]\n",
      " [ 0.  0.]\n",
      " [ 0.  0.]\n",
      " [ 0.  0.]\n",
      " [ 1. -1.]\n",
      " [ 0.  0.]\n",
      " [ 0.  0.]\n",
      " [ 0.  0.]\n",
      " [ 0.  0.]\n",
      " [ 0.  0.]\n",
      " [ 0.  0.]\n",
      " [ 1. -1.]\n",
      " [ 0.  0.]\n",
      " [ 0.  0.]\n",
      " [ 0.  0.]\n",
      " [ 1. -1.]\n",
      " [ 0.  0.]\n",
      " [ 1. -1.]\n",
      " [ 1. -1.]\n",
      " [ 0.  0.]\n",
      " [ 0.  0.]\n",
      " [ 1. -1.]\n",
      " [ 1. -1.]]\n"
     ]
    }
   ],
   "source": [
    "loss = precise_loss_function(outputs[-1],targets)[:30]\n",
    "print(loss)\n",
    "\n",
    "demands = get_finalLayer_preAct_demands(outputs[-1],targets)[:30]\n",
    "print(demands)"
   ]
  },
  {
   "cell_type": "markdown",
   "id": "2ae7c00f-40e8-4be6-9c67-3caee6671246",
   "metadata": {},
   "source": [
    "## 层的反向传播：调整矩阵"
   ]
  },
  {
   "cell_type": "code",
   "execution_count": 52,
   "id": "6e1f7f8f-3917-4d80-a4d1-b730edb9077d",
   "metadata": {},
   "outputs": [
    {
     "name": "stdout",
     "output_type": "stream",
     "text": [
      "[[1 1]\n",
      " [1 1]\n",
      " [1 1]\n",
      " [1 1]]\n",
      "[[1 1 1 1]\n",
      " [1 1 1 1]]\n",
      "[[1 2 3 4]\n",
      " [1 2 3 4]]\n"
     ]
    },
    {
     "data": {
      "text/plain": [
       "array([[1, 2],\n",
       "       [2, 4],\n",
       "       [3, 6],\n",
       "       [4, 8]])"
      ]
     },
     "execution_count": 52,
     "metadata": {},
     "output_type": "execute_result"
    }
   ],
   "source": [
    "# 测试调整矩阵的运算\n",
    "values = np.array([1,2,3,4])\n",
    "demands = np.array([1,2])\n",
    "\n",
    "def get_weight_adjust_matrix(values,demands):\n",
    "    # 保证形状 花乘\n",
    "    plain_weights = np.full((len(values),len(demands)),1)\n",
    "    plain_weights_T = plain_weights.T\n",
    "    print(plain_weights)\n",
    "    print(plain_weights_T)\n",
    "\n",
    "    print(plain_weights_T*values)\n",
    "    \n",
    "    weight_adjust_matrix = (plain_weights_T*values).T * demands\n",
    "    return weight_adjust_matrix\n",
    "\n",
    "get_weight_adjust_matrix(values,demands)"
   ]
  },
  {
   "cell_type": "code",
   "execution_count": 53,
   "id": "ecc21a7b-ef63-464f-a03c-d1df9e99c98d",
   "metadata": {},
   "outputs": [],
   "source": [
    "# 定义一个层的类\n",
    "class Layer:\n",
    "    def __init__(self,n_inputs,n_neurons):\n",
    "        self.weights = np.random.randn(n_inputs,n_neurons)\n",
    "        self.biases = np.random.randn(n_neurons)\n",
    "        # self.output = None\n",
    "        \n",
    "    def layer_forward(self,inputs): \n",
    "        self.output_linear = np.dot(inputs,self.weights) + self.biases # 只做线性函数计算\n",
    "        return self.output_linear\n",
    "\n",
    "    def layer_backward(self,preWeights_values,afterWeights_demands): # 权重矩阵之前的输出值(已知) 权重矩阵之后的需求值(已知)【传播】\n",
    "        preWeights_demands = np.dot(afterWeights_demands,self.weights.T) # 反向传播 需要转置  【求权重矩阵之前的需求值】\n",
    "        # 激活函数求导\n",
    "        condition = (preWeights_values>0)\n",
    "        value_derivatives = np.where(condition,1,0) # if一条 np.where整个矩阵都处理\n",
    "        preActs_demands = value_derivatives * preWeights_demands # 【求激活函数之前的需求值】\n",
    "        # 标准化 避免梯度消失或梯度爆炸\n",
    "        norm_preActs_demands = normalize(preActs_demands)\n",
    "\n",
    "        # 调整矩阵 标准化\n",
    "        weight_adjust_matrix = self.get_weight_adjust_matrix(preWeights_values,afterWeights_demands)\n",
    "        norm_weight_adjust_matrix = normalize(weight_adjust_matrix)\n",
    "\n",
    "        return (norm_weight_adjust_matrix,norm_preActs_demands) # 权重调整矩阵 激活函数之前的需求值  【闭环】\n",
    "\n",
    "    \n",
    "    def get_weight_adjust_matrix(self,preWeights_values,aftWeights_demands): # 权重调整矩阵 两个向量相乘(前一层的输出值 需求值)\n",
    "        plain_weights = np.ones_like(self.weights) # 和权重矩阵的形状一样\n",
    "        weight_adjust_matrix = np.zeros_like(self.weights) # 和权重矩阵的形状一样  很多条数据 权重调整矩阵需求平均\n",
    "        plain_weights_T = plain_weights.T\n",
    "\n",
    "        for i in range(BATCH_SIZE): # 批量处理数据  每一条都要进行如下运算\n",
    "            weight_adjust_matrix += (plain_weights_T*preWeights_values[i,:]).T * aftWeights_demands[i,:] # 第i行的所有列 体现每一条数据\n",
    "        weight_adjust_matrix = weight_adjust_matrix / BATCH_SIZE # 求和后除数量  即求平均\n",
    "        return weight_adjust_matrix\n",
    "        \n",
    "\n",
    "# 定义一个网络的类\n",
    "class Network: \n",
    "    def __init__(self,network_shape):\n",
    "        self.shape = network_shape\n",
    "        self.layers = [] \n",
    "\n",
    "        for i in range(len(network_shape)-1):\n",
    "            layer = Layer(network_shape[i],network_shape[i+1])\n",
    "            self.layers.append(layer) \n",
    "\n",
    "    def network_forward(self,inputs):\n",
    "        outputs = [inputs] \n",
    "        for i in range(len(self.layers)):\n",
    "            layer_output_linear = self.layers[i].layer_forward(outputs[i]) # 线性函数计算  激活函数输出(标准化函数)\n",
    "            layer_output = normalize(activation_Relu(layer_output_linear)) if i<len(self.layers)-1 else activation_softmax(layer_output_linear)\n",
    "            outputs.append(layer_output)\n",
    "        return outputs"
   ]
  },
  {
   "cell_type": "code",
   "execution_count": 54,
   "id": "11dcd36a-8e8b-496c-bcfa-5e2d2417e274",
   "metadata": {},
   "outputs": [
    {
     "name": "stdout",
     "output_type": "stream",
     "text": [
      "\n",
      "真实数据情况：\n",
      " [[ 1.52537412 -1.28615011  1.        ]\n",
      " [-1.936026    1.67342035  1.        ]\n",
      " [-1.09881213 -0.52289323  1.        ]\n",
      " [-0.41075388  0.79345694  0.        ]\n",
      " [-1.62116599  0.56132478  1.        ]\n",
      " [-1.96436296  0.14079116  1.        ]\n",
      " [ 0.94809341 -1.00691265  1.        ]\n",
      " [ 1.67122019  0.00589513  1.        ]\n",
      " [-1.33822476  1.83730287  1.        ]\n",
      " [-1.93539164 -1.23068415  1.        ]]\n"
     ]
    },
    {
     "data": {
      "image/png": "[encoded data removed]",
      "text/plain": [
       "<Figure size 400x400 with 1 Axes>"
      ]
     },
     "metadata": {},
     "output_type": "display_data"
    },
    {
     "name": "stdout",
     "output_type": "stream",
     "text": [
      "\n",
      "神经网络的预测情况：\n",
      " [[0.02860199 0.97139801]\n",
      " [0.01400534 0.98599466]\n",
      " [0.0075368  0.9924632 ]\n",
      " [0.01400534 0.98599466]\n",
      " [0.02860199 0.97139801]\n",
      " [0.00834384 0.99165616]\n",
      " [0.02969189 0.97030811]\n",
      " [0.02913605 0.97086395]\n",
      " [0.01400534 0.98599466]\n",
      " [0.00756476 0.99243524]]\n",
      "\n",
      "预测的标签情况：\n",
      " [1. 1. 1. 1. 1. 1. 1. 1. 1. 1.]\n"
     ]
    },
    {
     "data": {
      "image/png": "[encoded data removed]",
      "text/plain": [
       "<Figure size 400x400 with 1 Axes>"
      ]
     },
     "metadata": {},
     "output_type": "display_data"
    },
    {
     "name": "stdout",
     "output_type": "stream",
     "text": [
      "\n",
      "损失函数：\n",
      " [0.02860199 0.01400534 0.0075368  0.98599466 0.02860199 0.00834384\n",
      " 0.02969189 0.02913605 0.01400534 0.00756476]\n",
      "\n",
      "需求函数：\n",
      " [[ 0.  0.]\n",
      " [ 0.  0.]\n",
      " [ 0.  0.]\n",
      " [ 1. -1.]\n",
      " [ 0.  0.]\n",
      " [ 0.  0.]\n",
      " [ 0.  0.]\n",
      " [ 0.  0.]\n",
      " [ 0.  0.]\n",
      " [ 0.  0.]]\n",
      "\n",
      "调整矩阵：\n",
      " [[ 0.1        -0.1       ]\n",
      " [ 0.03648176 -0.03648176]\n",
      " [ 0.          0.        ]\n",
      " [ 0.          0.        ]\n",
      " [ 0.          0.        ]\n",
      " [ 0.05864081 -0.05864081]]\n",
      "\n",
      "层的反向传播-(本层)权重调整矩阵：\n",
      " [[ 1. -1.]\n",
      " [ 1. -1.]\n",
      " [ 0.  0.]\n",
      " [ 0.  0.]\n",
      " [ 0.  0.]\n",
      " [ 1. -1.]]\n",
      "\n",
      "层的反向传播-(前一层)激活函数之前的需求值：\n",
      " [[ 0.          0.          0.          0.          0.          0.        ]\n",
      " [ 0.          0.          0.          0.          0.          0.        ]\n",
      " [ 0.          0.          0.          0.          0.          0.        ]\n",
      " [-1.         -0.47900138 -0.          0.         -0.          0.5987893 ]\n",
      " [ 0.          0.          0.          0.          0.          0.        ]\n",
      " [ 0.          0.          0.          0.          0.          0.        ]\n",
      " [ 0.          0.          0.          0.          0.          0.        ]\n",
      " [ 0.          0.          0.          0.          0.          0.        ]\n",
      " [ 0.          0.          0.          0.          0.          0.        ]\n",
      " [ 0.          0.          0.          0.          0.          0.        ]]\n"
     ]
    }
   ],
   "source": [
    "BATCH_SIZE = 10 # 认为只有30条数据\n",
    "\n",
    "# 生成数据\n",
    "NUM_OF_DATA = 10\n",
    "data = create_data(NUM_OF_DATA)\n",
    "print('\\n真实数据情况：\\n',data)\n",
    "plot_data(data,'原数据情况') # 图形直观可视化\n",
    "\n",
    "inputs = data[:,:2] # 数据集(只要前2列)\n",
    "targets = np.copy(data[:,2]) # 标答  【copy】\n",
    "\n",
    "# 神经网络\n",
    "NETWORK_SHAOE = [2,8,5,6,2]\n",
    "network = Network(NETWORK_SHAOE) # 建立一个神经网络对象\n",
    "outputs = network.network_forward(inputs) # 神经网络 前向传播运算\n",
    "print('\\n神经网络的预测情况：\\n',outputs[-1])\n",
    "\n",
    "# 需要将概率转化为标签 分类函数\n",
    "classification = classify(outputs[-1]) \n",
    "data_pre = np.copy(data)\n",
    "data_pre[:,2] = classification\n",
    "print('\\n预测的标签情况：\\n',data_pre[:,2]) # 预测与实际有很大差距 需要定义损失函数迭代运算(训练)\n",
    "plot_data(data_pre,'还没训练的预测情况')\n",
    "\n",
    "# 损失函数和需求函数\n",
    "loss = precise_loss_function(outputs[-1],targets)\n",
    "print('\\n损失函数：\\n',loss)\n",
    "demands = get_finalLayer_preAct_demands(outputs[-1],targets)\n",
    "print('\\n需求函数：\\n',demands)\n",
    "\n",
    "# 测试神经网络中的调整矩阵  测试成功\n",
    "adjust_matrix = network.layers[-1].get_weight_adjust_matrix(outputs[-2],demands) # 倒数第二层的输出值即最后一层的输入值  需求值\n",
    "print('\\n调整矩阵：\\n',adjust_matrix)\n",
    "\n",
    "# 测试层的反向传播  测试成功\n",
    "layer_backward = network.layers[-1].layer_backward(outputs[-2],demands)\n",
    "print('\\n层的反向传播-(本层)权重调整矩阵：\\n',layer_backward[0])\n",
    "print('\\n层的反向传播-(前一层)激活函数之前的需求值：\\n',layer_backward[1])"
   ]
  },
  {
   "cell_type": "markdown",
   "id": "48558783-753b-4760-8293-e567fdd8e68e",
   "metadata": {},
   "source": [
    "## 网络的反向传播"
   ]
  },
  {
   "cell_type": "code",
   "execution_count": 60,
   "id": "9a75f4c0-e8d5-4698-b0d9-84d936d03a26",
   "metadata": {},
   "outputs": [],
   "source": [
    "# 定义一个层的类\n",
    "class Layer:\n",
    "    def __init__(self,n_inputs,n_neurons):\n",
    "        self.weights = np.random.randn(n_inputs,n_neurons)\n",
    "        self.biases = np.random.randn(n_neurons)\n",
    "        # self.output = None\n",
    "        \n",
    "    def layer_forward(self,inputs): \n",
    "        self.output_linear = np.dot(inputs,self.weights) + self.biases # 只做线性函数计算\n",
    "        return self.output_linear\n",
    "\n",
    "    def layer_backward(self,preWeights_values,afterWeights_demands): # 权重矩阵之前的输出值(已知) 权重矩阵之后的需求值(已知)【传播】\n",
    "        preWeights_demands = np.dot(afterWeights_demands,self.weights.T) \n",
    "        condition = (preWeights_values>0)\n",
    "        value_derivatives = np.where(condition,1,0)\n",
    "        preActs_demands = value_derivatives * preWeights_demands\n",
    "        norm_preActs_demands = normalize(preActs_demands)\n",
    "        \n",
    "        weight_adjust_matrix = self.get_weight_adjust_matrix(preWeights_values,afterWeights_demands)\n",
    "        norm_weight_adjust_matrix = normalize(weight_adjust_matrix)\n",
    "        \n",
    "        return (norm_weight_adjust_matrix,norm_preActs_demands) # 权重调整矩阵 激活函数之前的需求值  【闭环】\n",
    "\n",
    "    \n",
    "    def get_weight_adjust_matrix(self,preWeights_values,aftWeights_demands): # 权重调整矩阵 两个向量相乘(前一层的输出值 需求值)\n",
    "        plain_weights = np.ones_like(self.weights)\n",
    "        weight_adjust_matrix = np.zeros_like(self.weights) \n",
    "        plain_weights_T = plain_weights.T\n",
    "\n",
    "        for i in range(BATCH_SIZE): \n",
    "            weight_adjust_matrix += (plain_weights_T*preWeights_values[i,:]).T * aftWeights_demands[i,:] \n",
    "        weight_adjust_matrix = weight_adjust_matrix / BATCH_SIZE \n",
    "        return weight_adjust_matrix\n",
    "        \n",
    "\n",
    "# 定义一个网络的类\n",
    "class Network: \n",
    "    def __init__(self,network_shape):\n",
    "        self.shape = network_shape\n",
    "        self.layers = [] \n",
    "\n",
    "        for i in range(len(network_shape)-1):\n",
    "            layer = Layer(network_shape[i],network_shape[i+1])\n",
    "            self.layers.append(layer) \n",
    "\n",
    "    # 网络的前馈运算\n",
    "    def network_forward(self,inputs): \n",
    "        outputs = [inputs] \n",
    "        for i in range(len(self.layers)):\n",
    "            layer_output_linear = self.layers[i].layer_forward(outputs[i]) # 线性函数计算  激活函数输出(标准化函数)\n",
    "            layer_output = normalize(activation_Relu(layer_output_linear)) if i<len(self.layers)-1 else activation_softmax(layer_output_linear)\n",
    "            outputs.append(layer_output)\n",
    "        return outputs # 所有层的输出值(列表)\n",
    "\n",
    "    # 网络的反向传播\n",
    "    def network_backward(self,layerouts,target_vector): # 所有层的输出值(列表)  目标向量(标答)\n",
    "        backup_network = copy.deepcopy(self) # 备用网络  各种参数都需要更新  作比较更好就代替否则不\n",
    "        preAct_demands = get_finalLayer_preAct_demands(layerouts[-1],target_vector) # 最后的输出和标答比较 得到最后一层的需求值\n",
    "        \n",
    "        # 迭代循环  5层神经元  4层权重矩阵【0 1 2 3】\n",
    "        for i in range(len(self.layers)): # len=4    每一个Layer实际上代表两个连续的神经元层之间的连接\n",
    "            layer = backup_network.layers[len(self.layers) - 1 - i] # 【3 2 1 0】\n",
    "            \n",
    "            if i != 0: # 偏置项值  不修正最后一层  防止出现过拟合\n",
    "                layer.biases += LRARNING_RATE * np.mean(preAct_demands, axis=0) # 把所有条的特征i取平均  学习率\n",
    "                layer.biases = normalize(layer.biases) # 标准化\n",
    "\n",
    "            # 更新权重矩阵  迭代层的反向传播！！！\n",
    "            outputs = layerouts[len(self.layers) - 2 - i] # 【】【倒数第一层的需求值 倒数第二层的输出值】\n",
    "            weight_adjust_matrix,preAct_demands = layer.layer_backward(outputs,preAct_demands) # 迭代更新！！！\n",
    "            layer.weights += LRARNING_RATE * weight_adjust_matrix\n",
    "            layer.weights = normalize(layer.weights) # 标准化\n",
    "\n",
    "        return backup_network # 经过更新的神经网络"
   ]
  },
  {
   "cell_type": "code",
   "execution_count": 61,
   "id": "3641f345-ce8e-419d-9c7a-bec86490b417",
   "metadata": {},
   "outputs": [
    {
     "name": "stdout",
     "output_type": "stream",
     "text": [
      "\n",
      "真实数据情况：\n",
      " [[-1.07422775 -1.78452795  1.        ]\n",
      " [-1.14129366  0.94474014  1.        ]\n",
      " [-0.49019553  1.55183614  1.        ]\n",
      " [ 1.59366556  1.29887205  1.        ]\n",
      " [-1.84402037  1.66272075  1.        ]\n",
      " [ 1.9725095  -0.80177096  1.        ]\n",
      " [ 0.48136116 -1.23265886  1.        ]\n",
      " [ 1.01285618  0.25928809  1.        ]\n",
      " [ 0.55184237 -0.59053608  0.        ]\n",
      " [-0.74753332  0.56181037  0.        ]]\n"
     ]
    },
    {
     "data": {
      "image/png": "[encoded data removed]",
      "text/plain": [
       "<Figure size 400x400 with 1 Axes>"
      ]
     },
     "metadata": {},
     "output_type": "display_data"
    },
    {
     "name": "stdout",
     "output_type": "stream",
     "text": [
      "\n",
      "预测的标签情况：\n",
      " [0. 0. 0. 0. 0. 0. 0. 0. 0. 0.]\n"
     ]
    },
    {
     "data": {
      "image/png": "[encoded data removed]",
      "text/plain": [
       "<Figure size 400x400 with 1 Axes>"
      ]
     },
     "metadata": {},
     "output_type": "display_data"
    },
    {
     "ename": "ValueError",
     "evalue": "operands could not be broadcast together with shapes (10,5) (10,6) ",
     "output_type": "error",
     "traceback": [
      "\u001b[1;31m---------------------------------------------------------------------------\u001b[0m",
      "\u001b[1;31mValueError\u001b[0m                                Traceback (most recent call last)",
      "Cell \u001b[1;32mIn[61], line 26\u001b[0m\n\u001b[0;32m     23\u001b[0m plot_data(data,\u001b[38;5;124m'\u001b[39m\u001b[38;5;124m还没训练的预测情况\u001b[39m\u001b[38;5;124m'\u001b[39m)\n\u001b[0;32m     25\u001b[0m \u001b[38;5;66;03m# 神经网络 训练一次\u001b[39;00m\n\u001b[1;32m---> 26\u001b[0m backup_network \u001b[38;5;241m=\u001b[39m \u001b[43mnetwork\u001b[49m\u001b[38;5;241;43m.\u001b[39;49m\u001b[43mnetwork_backward\u001b[49m\u001b[43m(\u001b[49m\u001b[43moutputs\u001b[49m\u001b[43m,\u001b[49m\u001b[43mtargets\u001b[49m\u001b[43m)\u001b[49m \u001b[38;5;66;03m# 神经网络看 反向传播运算 (备用网络)\u001b[39;00m\n\u001b[0;32m     27\u001b[0m new_outputs \u001b[38;5;241m=\u001b[39m backup_network\u001b[38;5;241m.\u001b[39mnetwork_forward(inputs) \u001b[38;5;66;03m# 神经网络 前向传播运算\u001b[39;00m\n\u001b[0;32m     28\u001b[0m \u001b[38;5;66;03m# 预测后的分类 可视化呈现\u001b[39;00m\n",
      "Cell \u001b[1;32mIn[60], line 70\u001b[0m, in \u001b[0;36mNetwork.network_backward\u001b[1;34m(self, layerouts, target_vector)\u001b[0m\n\u001b[0;32m     68\u001b[0m \u001b[38;5;66;03m# 更新权重矩阵  迭代层的反向传播！！！\u001b[39;00m\n\u001b[0;32m     69\u001b[0m outputs \u001b[38;5;241m=\u001b[39m layerouts[\u001b[38;5;28mlen\u001b[39m(\u001b[38;5;28mself\u001b[39m\u001b[38;5;241m.\u001b[39mlayers) \u001b[38;5;241m-\u001b[39m \u001b[38;5;241m2\u001b[39m \u001b[38;5;241m-\u001b[39m i] \u001b[38;5;66;03m# 【】【倒数第一层的需求值 倒数第二层的输出值】\u001b[39;00m\n\u001b[1;32m---> 70\u001b[0m weight_adjust_matrix,preAct_demands \u001b[38;5;241m=\u001b[39m \u001b[43mlayer\u001b[49m\u001b[38;5;241;43m.\u001b[39;49m\u001b[43mlayer_backward\u001b[49m\u001b[43m(\u001b[49m\u001b[43moutputs\u001b[49m\u001b[43m,\u001b[49m\u001b[43mpreAct_demands\u001b[49m\u001b[43m)\u001b[49m \u001b[38;5;66;03m# 迭代更新！！！\u001b[39;00m\n\u001b[0;32m     71\u001b[0m layer\u001b[38;5;241m.\u001b[39mweights \u001b[38;5;241m+\u001b[39m\u001b[38;5;241m=\u001b[39m LRARNING_RATE \u001b[38;5;241m*\u001b[39m weight_adjust_matrix\n\u001b[0;32m     72\u001b[0m layer\u001b[38;5;241m.\u001b[39mweights \u001b[38;5;241m=\u001b[39m normalize(layer\u001b[38;5;241m.\u001b[39mweights) \u001b[38;5;66;03m# 标准化\u001b[39;00m\n",
      "Cell \u001b[1;32mIn[60], line 16\u001b[0m, in \u001b[0;36mLayer.layer_backward\u001b[1;34m(self, preWeights_values, afterWeights_demands)\u001b[0m\n\u001b[0;32m     14\u001b[0m condition \u001b[38;5;241m=\u001b[39m (preWeights_values\u001b[38;5;241m>\u001b[39m\u001b[38;5;241m0\u001b[39m)\n\u001b[0;32m     15\u001b[0m value_derivatives \u001b[38;5;241m=\u001b[39m np\u001b[38;5;241m.\u001b[39mwhere(condition,\u001b[38;5;241m1\u001b[39m,\u001b[38;5;241m0\u001b[39m)\n\u001b[1;32m---> 16\u001b[0m preActs_demands \u001b[38;5;241m=\u001b[39m \u001b[43mvalue_derivatives\u001b[49m\u001b[43m \u001b[49m\u001b[38;5;241;43m*\u001b[39;49m\u001b[43m \u001b[49m\u001b[43mpreWeights_demands\u001b[49m\n\u001b[0;32m     17\u001b[0m norm_preActs_demands \u001b[38;5;241m=\u001b[39m normalize(preActs_demands)\n\u001b[0;32m     19\u001b[0m weight_adjust_matrix \u001b[38;5;241m=\u001b[39m \u001b[38;5;28mself\u001b[39m\u001b[38;5;241m.\u001b[39mget_weight_adjust_matrix(preWeights_values,afterWeights_demands)\n",
      "\u001b[1;31mValueError\u001b[0m: operands could not be broadcast together with shapes (10,5) (10,6) "
     ]
    }
   ],
   "source": [
    "NETWORK_SHAOE = [2,8,5,6,2] # 神经网络的结构\n",
    "NUM_OF_DATA = 10 # 生成数据样本数\n",
    "BATCH_SIZE = 10 # 处理数据的条数\n",
    "LRARNING_RATE = 0.01 # 学习率(炼丹)\n",
    "\n",
    "\n",
    "# 生成数据\n",
    "data = create_data(NUM_OF_DATA)\n",
    "print('\\n真实数据情况：\\n',data)\n",
    "plot_data(data,'原数据情况(标准答案)') \n",
    "\n",
    "inputs = data[:,:2] # 数据集(只要前2列)\n",
    "targets = np.copy(data[:,2]) # 标答  【copy】\n",
    "\n",
    "# 神经网络\n",
    "NETWORK_SHAOE = [2,8,5,6,2]\n",
    "network = Network(NETWORK_SHAOE) # 建立一个神经网络对象\n",
    "outputs = network.network_forward(inputs) # 神经网络 前向传播运算\n",
    "# 预测后的分类 可视化呈现\n",
    "classification = classify(outputs[-1]) \n",
    "data[:,2] = classification\n",
    "print('\\n预测的标签情况：\\n',data[:,2]) \n",
    "plot_data(data,'还没训练的预测情况')\n",
    "\n",
    "# 神经网络 训练一次\n",
    "backup_network = network.network_backward(outputs,targets) # 神经网络看 反向传播运算 (备用网络)\n",
    "new_outputs = backup_network.network_forward(inputs) # 神经网络 前向传播运算\n",
    "# 预测后的分类 可视化呈现\n",
    "new_classification = classify(new_outputs[-1]) \n",
    "data[:,2] = new_classification\n",
    "print('\\n预测的标签情况：\\n',data[:,2]) \n",
    "plot_data(data,'训练一次的预测情况')\n",
    "\n",
    "\n",
    "\n",
    "\n",
    "\n",
    "\n",
    "\n"
   ]
  },
  {
   "cell_type": "code",
   "execution_count": null,
   "id": "643c6e84-efef-4871-bf5f-848837e32a39",
   "metadata": {},
   "outputs": [],
   "source": []
  },
  {
   "cell_type": "code",
   "execution_count": null,
   "id": "95c157c2-6ed0-4358-9902-9b19d7263453",
   "metadata": {},
   "outputs": [],
   "source": []
  },
  {
   "cell_type": "code",
   "execution_count": null,
   "id": "833a9bb3-bc1e-43ea-ab94-9b2fdfa36b41",
   "metadata": {},
   "outputs": [],
   "source": []
  },
  {
   "cell_type": "code",
   "execution_count": null,
   "id": "409e9af1-c8ce-4f67-96c9-107313cb47d7",
   "metadata": {},
   "outputs": [],
   "source": []
  },
  {
   "cell_type": "code",
   "execution_count": null,
   "id": "70f4c2ed-dd5f-4c2d-a4ca-c4b329154055",
   "metadata": {},
   "outputs": [],
   "source": []
  },
  {
   "cell_type": "code",
   "execution_count": null,
   "id": "0cbc32d7-824c-4a13-8796-485751614405",
   "metadata": {},
   "outputs": [],
   "source": []
  },
  {
   "cell_type": "code",
   "execution_count": null,
   "id": "2298fe1e-7f3a-4062-a77b-cb3b97c67ada",
   "metadata": {},
   "outputs": [],
   "source": []
  },
  {
   "cell_type": "code",
   "execution_count": null,
   "id": "e8ea2ad5-4d52-4c46-99c3-74d3533aaa1c",
   "metadata": {},
   "outputs": [],
   "source": []
  },
  {
   "cell_type": "code",
   "execution_count": null,
   "id": "1c5049d5-3176-4bfd-b877-e8724f1a9c68",
   "metadata": {},
   "outputs": [],
   "source": []
  },
  {
   "cell_type": "code",
   "execution_count": null,
   "id": "1f5ce428-b5aa-4442-b02a-1c2f7d01e8bb",
   "metadata": {},
   "outputs": [],
   "source": []
  },
  {
   "cell_type": "code",
   "execution_count": null,
   "id": "599bb67e-c231-400c-9bf3-e83f3a5b2426",
   "metadata": {},
   "outputs": [],
   "source": []
  },
  {
   "cell_type": "code",
   "execution_count": null,
   "id": "6506622b-2b59-4b3c-a5a8-43b1f6e2fb77",
   "metadata": {},
   "outputs": [],
   "source": []
  },
  {
   "cell_type": "code",
   "execution_count": null,
   "id": "d42ebabd-3603-4e67-a851-a0dc24638a8d",
   "metadata": {},
   "outputs": [],
   "source": []
  },
  {
   "cell_type": "code",
   "execution_count": null,
   "id": "8792fe9c-a71d-4ef1-916a-75ac7560646c",
   "metadata": {},
   "outputs": [],
   "source": []
  },
  {
   "cell_type": "code",
   "execution_count": null,
   "id": "60ed241d-c7f2-4232-810e-7ce861dae14d",
   "metadata": {},
   "outputs": [],
   "source": []
  },
  {
   "cell_type": "code",
   "execution_count": null,
   "id": "e5df8a81-3f02-4448-be32-a944c0c87ab8",
   "metadata": {},
   "outputs": [],
   "source": []
  },
  {
   "cell_type": "code",
   "execution_count": null,
   "id": "2287ea92-d14b-47f7-9799-d538c66471ae",
   "metadata": {},
   "outputs": [],
   "source": []
  },
  {
   "cell_type": "code",
   "execution_count": null,
   "id": "b67f22fa-b6a7-4829-af73-af00a32cd492",
   "metadata": {},
   "outputs": [],
   "source": []
  },
  {
   "cell_type": "code",
   "execution_count": null,
   "id": "d1acec7e-2839-4b64-9884-a57aed8fe7cc",
   "metadata": {},
   "outputs": [],
   "source": []
  },
  {
   "cell_type": "code",
   "execution_count": null,
   "id": "e6aae09a-3e67-499c-9606-041074cb5c48",
   "metadata": {},
   "outputs": [],
   "source": []
  },
  {
   "cell_type": "code",
   "execution_count": null,
   "id": "c054af4d-8c5f-4761-81c6-340085ab237c",
   "metadata": {},
   "outputs": [],
   "source": []
  }
 ],
 "metadata": {
  "kernelspec": {
   "display_name": "mlGZ",
   "language": "python",
   "name": "mlgz"
  },
  "language_info": {
   "codemirror_mode": {
    "name": "ipython",
    "version": 3
   },
   "file_extension": ".py",
   "mimetype": "text/x-python",
   "name": "python",
   "nbconvert_exporter": "python",
   "pygments_lexer": "ipython3",
   "version": "3.8.18"
  }
 },
 "nbformat": 4,
 "nbformat_minor": 5
}
