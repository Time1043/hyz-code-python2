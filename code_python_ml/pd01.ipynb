{
 "cells": [
  {
   "cell_type": "code",
   "execution_count": 2,
   "metadata": {
    "collapsed": true
   },
   "outputs": [],
   "source": [
    "import pandas as pd, numpy as np\n",
    "from pandas import Series, DataFrame"
   ]
  },
  {
   "cell_type": "markdown",
   "source": [
    "# 基础操作series"
   ],
   "metadata": {
    "collapsed": false
   }
  },
  {
   "cell_type": "markdown",
   "source": [
    "## 创建series"
   ],
   "metadata": {
    "collapsed": false
   }
  },
  {
   "cell_type": "code",
   "execution_count": 6,
   "outputs": [
    {
     "data": {
      "text/plain": "0    1\n1    2\n2    3\ndtype: int64"
     },
     "execution_count": 6,
     "metadata": {},
     "output_type": "execute_result"
    }
   ],
   "source": [
    "# 创建series\n",
    "s1 = Series([1, 2, 3])\n",
    "s1"
   ],
   "metadata": {
    "collapsed": false
   }
  },
  {
   "cell_type": "code",
   "execution_count": 7,
   "outputs": [
    {
     "data": {
      "text/plain": "青菜    1\n萝卜    2\n猪肉    3\ndtype: int64"
     },
     "execution_count": 7,
     "metadata": {},
     "output_type": "execute_result"
    }
   ],
   "source": [
    "# 创建series指定索引：数据 索引\n",
    "s2 = Series([1, 2, 3], index=['青菜', '萝卜', '猪肉'])\n",
    "s2"
   ],
   "metadata": {
    "collapsed": false
   }
  },
  {
   "cell_type": "code",
   "execution_count": 59,
   "outputs": [
    {
     "data": {
      "text/plain": "青菜    1\n萝卜    2\n猪肉    3\ndtype: int64"
     },
     "execution_count": 59,
     "metadata": {},
     "output_type": "execute_result"
    }
   ],
   "source": [
    "# 创建series指定索引：字典\n",
    "s3 = Series({'青菜': 1, '萝卜': 2, '猪肉': 3})\n",
    "s3"
   ],
   "metadata": {
    "collapsed": false
   }
  },
  {
   "cell_type": "code",
   "execution_count": 60,
   "outputs": [
    {
     "data": {
      "text/plain": "a     20\nb    100\nc    168\nd    150\ndtype: uint8"
     },
     "execution_count": 60,
     "metadata": {},
     "output_type": "execute_result"
    }
   ],
   "source": [
    "s4 = Series(data=np.random.randint(10, 200, size=4), dtype=np.uint8, index=['a', 'b', 'c', 'd'])\n",
    "s4"
   ],
   "metadata": {
    "collapsed": false
   }
  },
  {
   "cell_type": "code",
   "execution_count": 61,
   "outputs": [
    {
     "data": {
      "text/plain": "青菜    1\n萝卜    2\n猪肉    3\ndtype: int64"
     },
     "execution_count": 61,
     "metadata": {},
     "output_type": "execute_result"
    }
   ],
   "source": [
    "s5 = Series(s3, copy=True)  # 复制数组 独立\n",
    "s5"
   ],
   "metadata": {
    "collapsed": false
   }
  },
  {
   "cell_type": "code",
   "execution_count": 64,
   "outputs": [
    {
     "data": {
      "text/plain": "(青菜    1\n 萝卜    2\n 猪肉    3\n dtype: int64,\n 青菜     1\n 萝卜     2\n 猪肉    99\n dtype: int64)"
     },
     "execution_count": 64,
     "metadata": {},
     "output_type": "execute_result"
    }
   ],
   "source": [
    "s5['猪肉'] = 99\n",
    "s3"
   ],
   "metadata": {
    "collapsed": false
   }
  },
  {
   "cell_type": "code",
   "execution_count": 62,
   "outputs": [],
   "source": [],
   "metadata": {
    "collapsed": false
   }
  },
  {
   "cell_type": "code",
   "execution_count": 62,
   "outputs": [],
   "source": [],
   "metadata": {
    "collapsed": false
   }
  },
  {
   "cell_type": "code",
   "execution_count": null,
   "outputs": [],
   "source": [],
   "metadata": {
    "collapsed": false
   }
  },
  {
   "cell_type": "code",
   "execution_count": null,
   "outputs": [],
   "source": [],
   "metadata": {
    "collapsed": false
   }
  },
  {
   "cell_type": "markdown",
   "source": [
    "## series属性"
   ],
   "metadata": {
    "collapsed": false
   }
  },
  {
   "cell_type": "code",
   "execution_count": 12,
   "outputs": [
    {
     "data": {
      "text/plain": "array([1, 2, 3], dtype=int64)"
     },
     "execution_count": 12,
     "metadata": {},
     "output_type": "execute_result"
    }
   ],
   "source": [
    "s3.values"
   ],
   "metadata": {
    "collapsed": false
   }
  },
  {
   "cell_type": "code",
   "execution_count": 10,
   "outputs": [
    {
     "data": {
      "text/plain": "Index(['青菜', '萝卜', '猪肉'], dtype='object')"
     },
     "execution_count": 10,
     "metadata": {},
     "output_type": "execute_result"
    }
   ],
   "source": [
    "s3.index"
   ],
   "metadata": {
    "collapsed": false
   }
  },
  {
   "cell_type": "code",
   "execution_count": 13,
   "outputs": [
    {
     "data": {
      "text/plain": "dtype('int64')"
     },
     "execution_count": 13,
     "metadata": {},
     "output_type": "execute_result"
    }
   ],
   "source": [
    "s3.dtype"
   ],
   "metadata": {
    "collapsed": false
   }
  },
  {
   "cell_type": "code",
   "execution_count": 14,
   "outputs": [
    {
     "data": {
      "text/plain": "3"
     },
     "execution_count": 14,
     "metadata": {},
     "output_type": "execute_result"
    }
   ],
   "source": [
    "s3.size"
   ],
   "metadata": {
    "collapsed": false
   }
  },
  {
   "cell_type": "code",
   "execution_count": 15,
   "outputs": [
    {
     "data": {
      "text/plain": "(3,)"
     },
     "execution_count": 15,
     "metadata": {},
     "output_type": "execute_result"
    }
   ],
   "source": [
    "s3.shape"
   ],
   "metadata": {
    "collapsed": false
   }
  },
  {
   "cell_type": "code",
   "execution_count": 17,
   "outputs": [],
   "source": [
    "s3.name"
   ],
   "metadata": {
    "collapsed": false
   }
  },
  {
   "cell_type": "code",
   "execution_count": 18,
   "outputs": [
    {
     "data": {
      "text/plain": "False"
     },
     "execution_count": 18,
     "metadata": {},
     "output_type": "execute_result"
    }
   ],
   "source": [
    "s3.empty"
   ],
   "metadata": {
    "collapsed": false
   }
  },
  {
   "cell_type": "code",
   "execution_count": 19,
   "outputs": [
    {
     "data": {
      "text/plain": "False"
     },
     "execution_count": 19,
     "metadata": {},
     "output_type": "execute_result"
    }
   ],
   "source": [
    "s3.hasnans"
   ],
   "metadata": {
    "collapsed": false
   }
  },
  {
   "cell_type": "code",
   "execution_count": 20,
   "outputs": [
    {
     "data": {
      "text/plain": "True"
     },
     "execution_count": 20,
     "metadata": {},
     "output_type": "execute_result"
    }
   ],
   "source": [
    "s3.is_unique"
   ],
   "metadata": {
    "collapsed": false
   }
  },
  {
   "cell_type": "code",
   "execution_count": 21,
   "outputs": [
    {
     "data": {
      "text/plain": "24"
     },
     "execution_count": 21,
     "metadata": {},
     "output_type": "execute_result"
    }
   ],
   "source": [
    "s3.nbytes"
   ],
   "metadata": {
    "collapsed": false
   }
  },
  {
   "cell_type": "code",
   "execution_count": 23,
   "outputs": [
    {
     "data": {
      "text/plain": "1"
     },
     "execution_count": 23,
     "metadata": {},
     "output_type": "execute_result"
    }
   ],
   "source": [
    "s3.ndim"
   ],
   "metadata": {
    "collapsed": false
   }
  },
  {
   "cell_type": "markdown",
   "source": [
    "## 获取元素：索引切片、条件筛选"
   ],
   "metadata": {
    "collapsed": false
   }
  },
  {
   "cell_type": "code",
   "execution_count": 24,
   "outputs": [
    {
     "data": {
      "text/plain": "3"
     },
     "execution_count": 24,
     "metadata": {},
     "output_type": "execute_result"
    }
   ],
   "source": [
    "s3[-1]  # 位置索引"
   ],
   "metadata": {
    "collapsed": false
   }
  },
  {
   "cell_type": "code",
   "execution_count": 25,
   "outputs": [
    {
     "data": {
      "text/plain": "萝卜    2\ndtype: int64"
     },
     "execution_count": 25,
     "metadata": {},
     "output_type": "execute_result"
    }
   ],
   "source": [
    "s3[1:2]  # 位置索引  包前不包后"
   ],
   "metadata": {
    "collapsed": false
   }
  },
  {
   "cell_type": "code",
   "execution_count": 27,
   "outputs": [
    {
     "data": {
      "text/plain": "1"
     },
     "execution_count": 27,
     "metadata": {},
     "output_type": "execute_result"
    }
   ],
   "source": [
    "s3['青菜']  # 标签索引"
   ],
   "metadata": {
    "collapsed": false
   }
  },
  {
   "cell_type": "code",
   "execution_count": 80,
   "outputs": [
    {
     "data": {
      "text/plain": "青菜    1\n猪肉    3\ndtype: int64"
     },
     "execution_count": 80,
     "metadata": {},
     "output_type": "execute_result"
    }
   ],
   "source": [
    "s3[['青菜', '猪肉']]  # 标签索引 传入的是列表"
   ],
   "metadata": {
    "collapsed": false
   }
  },
  {
   "cell_type": "code",
   "execution_count": 28,
   "outputs": [
    {
     "data": {
      "text/plain": "青菜    1\n萝卜    2\n猪肉    3\ndtype: int64"
     },
     "execution_count": 28,
     "metadata": {},
     "output_type": "execute_result"
    }
   ],
   "source": [
    "s3['青菜':'猪肉']  # 标签索引 包含结束值"
   ],
   "metadata": {
    "collapsed": false
   }
  },
  {
   "cell_type": "code",
   "execution_count": 32,
   "outputs": [
    {
     "data": {
      "text/plain": "1"
     },
     "execution_count": 32,
     "metadata": {},
     "output_type": "execute_result"
    }
   ],
   "source": [
    "# 标签索引loc  位置索引iloc\n",
    "s3.loc['青菜']"
   ],
   "metadata": {
    "collapsed": false
   }
  },
  {
   "cell_type": "code",
   "execution_count": 33,
   "outputs": [
    {
     "data": {
      "text/plain": "3"
     },
     "execution_count": 33,
     "metadata": {},
     "output_type": "execute_result"
    }
   ],
   "source": [
    "s3.iloc[2]"
   ],
   "metadata": {
    "collapsed": false
   }
  },
  {
   "cell_type": "code",
   "execution_count": 34,
   "outputs": [
    {
     "data": {
      "text/plain": "False"
     },
     "execution_count": 34,
     "metadata": {},
     "output_type": "execute_result"
    }
   ],
   "source": [
    "# 某标签是否存在\n",
    "'西红柿' in s3"
   ],
   "metadata": {
    "collapsed": false
   }
  },
  {
   "cell_type": "code",
   "execution_count": 37,
   "outputs": [
    {
     "data": {
      "text/plain": "青菜      1\n萝卜      2\n猪肉    100\ndtype: int64"
     },
     "execution_count": 37,
     "metadata": {},
     "output_type": "execute_result"
    }
   ],
   "source": [
    "# 修改某标签的值\n",
    "s3.loc['猪肉'] = 100\n",
    "s3"
   ],
   "metadata": {
    "collapsed": false
   }
  },
  {
   "cell_type": "code",
   "execution_count": 42,
   "outputs": [
    {
     "data": {
      "text/plain": "青菜      1\n猪肉    100\ndtype: int64"
     },
     "execution_count": 42,
     "metadata": {},
     "output_type": "execute_result"
    }
   ],
   "source": [
    "# 条件筛选\n",
    "s3[(s3 > 10) | (s3 < 2)]"
   ],
   "metadata": {
    "collapsed": false
   }
  },
  {
   "cell_type": "markdown",
   "source": [
    "## 数据操作：基本运算"
   ],
   "metadata": {
    "collapsed": false
   }
  },
  {
   "cell_type": "code",
   "execution_count": 43,
   "outputs": [
    {
     "data": {
      "text/plain": "青菜      2\n萝卜      4\n猪肉    103\ndtype: int64"
     },
     "execution_count": 43,
     "metadata": {},
     "output_type": "execute_result"
    }
   ],
   "source": [
    "s3 + s2  # 符号运算  + - * /"
   ],
   "metadata": {
    "collapsed": false
   }
  },
  {
   "cell_type": "code",
   "execution_count": null,
   "outputs": [],
   "source": [
    "s3.add(s2, fill_value=0)  # 方法调用  add sub mul div  缺失值有默认值"
   ],
   "metadata": {
    "collapsed": false
   }
  },
  {
   "cell_type": "code",
   "execution_count": 50,
   "outputs": [
    {
     "data": {
      "text/plain": "青菜    10\n萝卜    20\n猪肉    30\ndtype: int64"
     },
     "execution_count": 50,
     "metadata": {},
     "output_type": "execute_result"
    }
   ],
   "source": [
    "10 * s2  # 广播机制"
   ],
   "metadata": {
    "collapsed": false
   }
  },
  {
   "cell_type": "markdown",
   "source": [
    "## 数据操作：统计学方法"
   ],
   "metadata": {
    "collapsed": false
   }
  },
  {
   "cell_type": "code",
   "execution_count": 44,
   "outputs": [
    {
     "data": {
      "text/plain": "100"
     },
     "execution_count": 44,
     "metadata": {},
     "output_type": "execute_result"
    }
   ],
   "source": [
    "s3.max()  # 最大值"
   ],
   "metadata": {
    "collapsed": false
   }
  },
  {
   "cell_type": "code",
   "execution_count": 45,
   "outputs": [
    {
     "data": {
      "text/plain": "1"
     },
     "execution_count": 45,
     "metadata": {},
     "output_type": "execute_result"
    }
   ],
   "source": [
    "s3.min()  # 最小值"
   ],
   "metadata": {
    "collapsed": false
   }
  },
  {
   "cell_type": "code",
   "execution_count": 47,
   "outputs": [
    {
     "data": {
      "text/plain": "103"
     },
     "execution_count": 47,
     "metadata": {},
     "output_type": "execute_result"
    }
   ],
   "source": [
    "s3.sum()  # 求和"
   ],
   "metadata": {
    "collapsed": false
   }
  },
  {
   "cell_type": "code",
   "execution_count": 48,
   "outputs": [
    {
     "data": {
      "text/plain": "34.333333333333336"
     },
     "execution_count": 48,
     "metadata": {},
     "output_type": "execute_result"
    }
   ],
   "source": [
    "s3.mean()  # 求平均"
   ],
   "metadata": {
    "collapsed": false
   }
  },
  {
   "cell_type": "code",
   "execution_count": 49,
   "outputs": [
    {
     "data": {
      "text/plain": "count      3.000000\nmean      34.333333\nstd       56.871200\nmin        1.000000\n25%        1.500000\n50%        2.000000\n75%       51.000000\nmax      100.000000\ndtype: float64"
     },
     "execution_count": 49,
     "metadata": {},
     "output_type": "execute_result"
    }
   ],
   "source": [
    "s3.describe()  # 统计信息描述"
   ],
   "metadata": {
    "collapsed": false
   }
  },
  {
   "cell_type": "markdown",
   "source": [
    "## 数据操作：应用函数"
   ],
   "metadata": {
    "collapsed": false
   }
  },
  {
   "cell_type": "code",
   "execution_count": 51,
   "outputs": [
    {
     "data": {
      "text/plain": "青菜        1\n萝卜        4\n猪肉    10000\ndtype: int64"
     },
     "execution_count": 51,
     "metadata": {},
     "output_type": "execute_result"
    }
   ],
   "source": [
    "# 匿名函数\n",
    "s3.apply(lambda x: x ** 2)"
   ],
   "metadata": {
    "collapsed": false
   }
  },
  {
   "cell_type": "code",
   "execution_count": 52,
   "outputs": [
    {
     "data": {
      "text/plain": "青菜    便宜\n萝卜    还行\n猪肉    小贵\ndtype: object"
     },
     "execution_count": 52,
     "metadata": {},
     "output_type": "execute_result"
    }
   ],
   "source": [
    "# 高阶函数\n",
    "def get_grade_from_price(price):\n",
    "    if price <= 1:\n",
    "        return '便宜'\n",
    "    elif price <= 2:\n",
    "        return '还行'\n",
    "    else:\n",
    "        return '小贵'\n",
    "\n",
    "\n",
    "s3.apply(get_grade_from_price)"
   ],
   "metadata": {
    "collapsed": false
   }
  },
  {
   "cell_type": "markdown",
   "source": [
    "# 基础操作dataframe"
   ],
   "metadata": {
    "collapsed": false
   }
  },
  {
   "cell_type": "markdown",
   "source": [
    "## 创建df"
   ],
   "metadata": {
    "collapsed": false
   }
  },
  {
   "cell_type": "code",
   "execution_count": 65,
   "outputs": [
    {
     "data": {
      "text/plain": "    学号  班级  成绩\n小明  01  二班  92\n小红  02  一班  67\n小杰  03  二班  70\n小丽  04  三班  88\n小华  05  一班  76",
      "text/html": "<div>\n<style scoped>\n    .dataframe tbody tr th:only-of-type {\n        vertical-align: middle;\n    }\n\n    .dataframe tbody tr th {\n        vertical-align: top;\n    }\n\n    .dataframe thead th {\n        text-align: right;\n    }\n</style>\n<table border=\"1\" class=\"dataframe\">\n  <thead>\n    <tr style=\"text-align: right;\">\n      <th></th>\n      <th>学号</th>\n      <th>班级</th>\n      <th>成绩</th>\n    </tr>\n  </thead>\n  <tbody>\n    <tr>\n      <th>小明</th>\n      <td>01</td>\n      <td>二班</td>\n      <td>92</td>\n    </tr>\n    <tr>\n      <th>小红</th>\n      <td>02</td>\n      <td>一班</td>\n      <td>67</td>\n    </tr>\n    <tr>\n      <th>小杰</th>\n      <td>03</td>\n      <td>二班</td>\n      <td>70</td>\n    </tr>\n    <tr>\n      <th>小丽</th>\n      <td>04</td>\n      <td>三班</td>\n      <td>88</td>\n    </tr>\n    <tr>\n      <th>小华</th>\n      <td>05</td>\n      <td>一班</td>\n      <td>76</td>\n    </tr>\n  </tbody>\n</table>\n</div>"
     },
     "execution_count": 65,
     "metadata": {},
     "output_type": "execute_result"
    }
   ],
   "source": [
    "# 字典形式创建df：拼series\n",
    "s_id = Series({\"小明\": \"01\", \"小红\": \"02\", \"小杰\": \"03\", \"小丽\": \"04\", \"小华\": \"05\"})\n",
    "s_class = Series({\"小明\": \"二班\", \"小红\": \"一班\", \"小杰\": \"二班\", \"小丽\": \"三班\", \"小华\": \"一班\"})\n",
    "s_grade = Series({\"小明\": 92, \"小红\": 67, \"小杰\": 70, \"小丽\": 88, \"小华\": 76})\n",
    "df1 = DataFrame({'学号': s_id, '班级': s_class, '成绩': s_grade})\n",
    "df1"
   ],
   "metadata": {
    "collapsed": false
   }
  },
  {
   "cell_type": "code",
   "execution_count": 66,
   "outputs": [
    {
     "data": {
      "text/plain": "    学号  班级  成绩\n小明  01  二班  92\n小红  02  一班  67\n小杰  03  二班  70\n小丽  04  三班  88\n小华  05  一班  76",
      "text/html": "<div>\n<style scoped>\n    .dataframe tbody tr th:only-of-type {\n        vertical-align: middle;\n    }\n\n    .dataframe tbody tr th {\n        vertical-align: top;\n    }\n\n    .dataframe thead th {\n        text-align: right;\n    }\n</style>\n<table border=\"1\" class=\"dataframe\">\n  <thead>\n    <tr style=\"text-align: right;\">\n      <th></th>\n      <th>学号</th>\n      <th>班级</th>\n      <th>成绩</th>\n    </tr>\n  </thead>\n  <tbody>\n    <tr>\n      <th>小明</th>\n      <td>01</td>\n      <td>二班</td>\n      <td>92</td>\n    </tr>\n    <tr>\n      <th>小红</th>\n      <td>02</td>\n      <td>一班</td>\n      <td>67</td>\n    </tr>\n    <tr>\n      <th>小杰</th>\n      <td>03</td>\n      <td>二班</td>\n      <td>70</td>\n    </tr>\n    <tr>\n      <th>小丽</th>\n      <td>04</td>\n      <td>三班</td>\n      <td>88</td>\n    </tr>\n    <tr>\n      <th>小华</th>\n      <td>05</td>\n      <td>一班</td>\n      <td>76</td>\n    </tr>\n  </tbody>\n</table>\n</div>"
     },
     "execution_count": 66,
     "metadata": {},
     "output_type": "execute_result"
    }
   ],
   "source": [
    "# 一次性创建df\n",
    "df2 = DataFrame({\n",
    "    '学号': {\"小明\": \"01\", \"小红\": \"02\", \"小杰\": \"03\", \"小丽\": \"04\", \"小华\": \"05\"},\n",
    "    '班级': {\"小明\": \"二班\", \"小红\": \"一班\", \"小杰\": \"二班\", \"小丽\": \"三班\", \"小华\": \"一班\"},\n",
    "    '成绩': {\"小明\": 92, \"小红\": 67, \"小杰\": 70, \"小丽\": 88, \"小华\": 76}\n",
    "})\n",
    "df2"
   ],
   "metadata": {
    "collapsed": false
   }
  },
  {
   "cell_type": "code",
   "execution_count": 88,
   "outputs": [
    {
     "data": {
      "text/plain": "       gender  age  height  weight\n张三       male   18     175     145\n李四     female   17     160     110\nJack     male   18     178     150\nHenry    male   19     180     148\nMerry  female   18     165     100",
      "text/html": "<div>\n<style scoped>\n    .dataframe tbody tr th:only-of-type {\n        vertical-align: middle;\n    }\n\n    .dataframe tbody tr th {\n        vertical-align: top;\n    }\n\n    .dataframe thead th {\n        text-align: right;\n    }\n</style>\n<table border=\"1\" class=\"dataframe\">\n  <thead>\n    <tr style=\"text-align: right;\">\n      <th></th>\n      <th>gender</th>\n      <th>age</th>\n      <th>height</th>\n      <th>weight</th>\n    </tr>\n  </thead>\n  <tbody>\n    <tr>\n      <th>张三</th>\n      <td>male</td>\n      <td>18</td>\n      <td>175</td>\n      <td>145</td>\n    </tr>\n    <tr>\n      <th>李四</th>\n      <td>female</td>\n      <td>17</td>\n      <td>160</td>\n      <td>110</td>\n    </tr>\n    <tr>\n      <th>Jack</th>\n      <td>male</td>\n      <td>18</td>\n      <td>178</td>\n      <td>150</td>\n    </tr>\n    <tr>\n      <th>Henry</th>\n      <td>male</td>\n      <td>19</td>\n      <td>180</td>\n      <td>148</td>\n    </tr>\n    <tr>\n      <th>Merry</th>\n      <td>female</td>\n      <td>18</td>\n      <td>165</td>\n      <td>100</td>\n    </tr>\n  </tbody>\n</table>\n</div>"
     },
     "execution_count": 88,
     "metadata": {},
     "output_type": "execute_result"
    }
   ],
   "source": [
    "# 创建df：指定索引、列名\n",
    "df3 = DataFrame(data=[\n",
    "    ['male', 18, 175, 145],\n",
    "    ['female', 17, 160, 110],\n",
    "    ['male', 18, 178, 150],\n",
    "    ['male', 19, 180, 148],\n",
    "    ['female', 18, 165, 100]\n",
    "], index=['张三', '李四', 'Jack', 'Henry', 'Merry'], columns=['gender', 'age', 'height', 'weight'])\n",
    "df3"
   ],
   "metadata": {
    "collapsed": false
   }
  },
  {
   "cell_type": "markdown",
   "source": [
    "## df属性"
   ],
   "metadata": {
    "collapsed": false
   }
  },
  {
   "cell_type": "code",
   "execution_count": 71,
   "outputs": [
    {
     "data": {
      "text/plain": "Index(['小明', '小红', '小杰', '小丽', '小华'], dtype='object')"
     },
     "execution_count": 71,
     "metadata": {},
     "output_type": "execute_result"
    }
   ],
   "source": [
    "df2.index  # 索引"
   ],
   "metadata": {
    "collapsed": false
   }
  },
  {
   "cell_type": "code",
   "execution_count": 72,
   "outputs": [
    {
     "data": {
      "text/plain": "Index(['学号', '班级', '成绩'], dtype='object')"
     },
     "execution_count": 72,
     "metadata": {},
     "output_type": "execute_result"
    }
   ],
   "source": [
    "df2.columns  # 列名"
   ],
   "metadata": {
    "collapsed": false
   }
  },
  {
   "cell_type": "code",
   "execution_count": 73,
   "outputs": [
    {
     "data": {
      "text/plain": "array([['01', '二班', 92],\n       ['02', '一班', 67],\n       ['03', '二班', 70],\n       ['04', '三班', 88],\n       ['05', '一班', 76]], dtype=object)"
     },
     "execution_count": 73,
     "metadata": {},
     "output_type": "execute_result"
    }
   ],
   "source": [
    "df2.values  # 所有值"
   ],
   "metadata": {
    "collapsed": false
   }
  },
  {
   "cell_type": "code",
   "execution_count": 74,
   "outputs": [
    {
     "data": {
      "text/plain": "    小明  小红  小杰  小丽  小华\n学号  01  02  03  04  05\n班级  二班  一班  二班  三班  一班\n成绩  92  67  70  88  76",
      "text/html": "<div>\n<style scoped>\n    .dataframe tbody tr th:only-of-type {\n        vertical-align: middle;\n    }\n\n    .dataframe tbody tr th {\n        vertical-align: top;\n    }\n\n    .dataframe thead th {\n        text-align: right;\n    }\n</style>\n<table border=\"1\" class=\"dataframe\">\n  <thead>\n    <tr style=\"text-align: right;\">\n      <th></th>\n      <th>小明</th>\n      <th>小红</th>\n      <th>小杰</th>\n      <th>小丽</th>\n      <th>小华</th>\n    </tr>\n  </thead>\n  <tbody>\n    <tr>\n      <th>学号</th>\n      <td>01</td>\n      <td>02</td>\n      <td>03</td>\n      <td>04</td>\n      <td>05</td>\n    </tr>\n    <tr>\n      <th>班级</th>\n      <td>二班</td>\n      <td>一班</td>\n      <td>二班</td>\n      <td>三班</td>\n      <td>一班</td>\n    </tr>\n    <tr>\n      <th>成绩</th>\n      <td>92</td>\n      <td>67</td>\n      <td>70</td>\n      <td>88</td>\n      <td>76</td>\n    </tr>\n  </tbody>\n</table>\n</div>"
     },
     "execution_count": 74,
     "metadata": {},
     "output_type": "execute_result"
    }
   ],
   "source": [
    "df2.T  # 转置"
   ],
   "metadata": {
    "collapsed": false
   }
  },
  {
   "cell_type": "markdown",
   "source": [
    "## 获得元素：索引切片、条件筛选行"
   ],
   "metadata": {
    "collapsed": false
   }
  },
  {
   "cell_type": "code",
   "execution_count": 75,
   "outputs": [
    {
     "data": {
      "text/plain": "小明    92\n小红    67\n小杰    70\n小丽    88\n小华    76\nName: 成绩, dtype: int64"
     },
     "execution_count": 75,
     "metadata": {},
     "output_type": "execute_result"
    }
   ],
   "source": [
    "# 提取列 用列名\n",
    "df2.成绩  # 视为属性"
   ],
   "metadata": {
    "collapsed": false
   }
  },
  {
   "cell_type": "code",
   "execution_count": 79,
   "outputs": [
    {
     "data": {
      "text/plain": "    班级  成绩\n小明  二班  92\n小红  一班  67\n小杰  二班  70\n小丽  三班  88\n小华  一班  76",
      "text/html": "<div>\n<style scoped>\n    .dataframe tbody tr th:only-of-type {\n        vertical-align: middle;\n    }\n\n    .dataframe tbody tr th {\n        vertical-align: top;\n    }\n\n    .dataframe thead th {\n        text-align: right;\n    }\n</style>\n<table border=\"1\" class=\"dataframe\">\n  <thead>\n    <tr style=\"text-align: right;\">\n      <th></th>\n      <th>班级</th>\n      <th>成绩</th>\n    </tr>\n  </thead>\n  <tbody>\n    <tr>\n      <th>小明</th>\n      <td>二班</td>\n      <td>92</td>\n    </tr>\n    <tr>\n      <th>小红</th>\n      <td>一班</td>\n      <td>67</td>\n    </tr>\n    <tr>\n      <th>小杰</th>\n      <td>二班</td>\n      <td>70</td>\n    </tr>\n    <tr>\n      <th>小丽</th>\n      <td>三班</td>\n      <td>88</td>\n    </tr>\n    <tr>\n      <th>小华</th>\n      <td>一班</td>\n      <td>76</td>\n    </tr>\n  </tbody>\n</table>\n</div>"
     },
     "execution_count": 79,
     "metadata": {},
     "output_type": "execute_result"
    }
   ],
   "source": [
    "df2[['班级', '成绩']]  # 访问多个列 要传入的是列表"
   ],
   "metadata": {
    "collapsed": false
   }
  },
  {
   "cell_type": "code",
   "execution_count": 81,
   "outputs": [
    {
     "data": {
      "text/plain": "    学号  班级  成绩\n小明  01  二班  92\n小红  02  一班  67\n小杰  03  二班  70",
      "text/html": "<div>\n<style scoped>\n    .dataframe tbody tr th:only-of-type {\n        vertical-align: middle;\n    }\n\n    .dataframe tbody tr th {\n        vertical-align: top;\n    }\n\n    .dataframe thead th {\n        text-align: right;\n    }\n</style>\n<table border=\"1\" class=\"dataframe\">\n  <thead>\n    <tr style=\"text-align: right;\">\n      <th></th>\n      <th>学号</th>\n      <th>班级</th>\n      <th>成绩</th>\n    </tr>\n  </thead>\n  <tbody>\n    <tr>\n      <th>小明</th>\n      <td>01</td>\n      <td>二班</td>\n      <td>92</td>\n    </tr>\n    <tr>\n      <th>小红</th>\n      <td>02</td>\n      <td>一班</td>\n      <td>67</td>\n    </tr>\n    <tr>\n      <th>小杰</th>\n      <td>03</td>\n      <td>二班</td>\n      <td>70</td>\n    </tr>\n  </tbody>\n</table>\n</div>"
     },
     "execution_count": 81,
     "metadata": {},
     "output_type": "execute_result"
    }
   ],
   "source": [
    "# 提取行 用索引 loc iloc\n",
    "df2.loc['小明':'小杰']  # 标签索引包含结束值"
   ],
   "metadata": {
    "collapsed": false
   }
  },
  {
   "cell_type": "code",
   "execution_count": 82,
   "outputs": [
    {
     "data": {
      "text/plain": "    学号  班级  成绩\n小明  01  二班  92\n小杰  03  二班  70",
      "text/html": "<div>\n<style scoped>\n    .dataframe tbody tr th:only-of-type {\n        vertical-align: middle;\n    }\n\n    .dataframe tbody tr th {\n        vertical-align: top;\n    }\n\n    .dataframe thead th {\n        text-align: right;\n    }\n</style>\n<table border=\"1\" class=\"dataframe\">\n  <thead>\n    <tr style=\"text-align: right;\">\n      <th></th>\n      <th>学号</th>\n      <th>班级</th>\n      <th>成绩</th>\n    </tr>\n  </thead>\n  <tbody>\n    <tr>\n      <th>小明</th>\n      <td>01</td>\n      <td>二班</td>\n      <td>92</td>\n    </tr>\n    <tr>\n      <th>小杰</th>\n      <td>03</td>\n      <td>二班</td>\n      <td>70</td>\n    </tr>\n  </tbody>\n</table>\n</div>"
     },
     "execution_count": 82,
     "metadata": {},
     "output_type": "execute_result"
    }
   ],
   "source": [
    "df2.loc[['小明', '小杰']]  # 接受的是列表"
   ],
   "metadata": {
    "collapsed": false
   }
  },
  {
   "cell_type": "code",
   "execution_count": 83,
   "outputs": [
    {
     "data": {
      "text/plain": "'01'"
     },
     "execution_count": 83,
     "metadata": {},
     "output_type": "execute_result"
    }
   ],
   "source": [
    "# 提取某部分数据\n",
    "df2.loc['小明', '学号']  # 单点"
   ],
   "metadata": {
    "collapsed": false
   }
  },
  {
   "cell_type": "code",
   "execution_count": 86,
   "outputs": [
    {
     "data": {
      "text/plain": "    学号  成绩\n小明  01  92\n小红  02  67\n小杰  03  70",
      "text/html": "<div>\n<style scoped>\n    .dataframe tbody tr th:only-of-type {\n        vertical-align: middle;\n    }\n\n    .dataframe tbody tr th {\n        vertical-align: top;\n    }\n\n    .dataframe thead th {\n        text-align: right;\n    }\n</style>\n<table border=\"1\" class=\"dataframe\">\n  <thead>\n    <tr style=\"text-align: right;\">\n      <th></th>\n      <th>学号</th>\n      <th>成绩</th>\n    </tr>\n  </thead>\n  <tbody>\n    <tr>\n      <th>小明</th>\n      <td>01</td>\n      <td>92</td>\n    </tr>\n    <tr>\n      <th>小红</th>\n      <td>02</td>\n      <td>67</td>\n    </tr>\n    <tr>\n      <th>小杰</th>\n      <td>03</td>\n      <td>70</td>\n    </tr>\n  </tbody>\n</table>\n</div>"
     },
     "execution_count": 86,
     "metadata": {},
     "output_type": "execute_result"
    }
   ],
   "source": [
    "df2.loc[:'小杰', ['学号', '成绩']]  # 联合使用"
   ],
   "metadata": {
    "collapsed": false
   }
  },
  {
   "cell_type": "code",
   "execution_count": 87,
   "outputs": [
    {
     "data": {
      "text/plain": "小明     True\n小红    False\n小杰    False\n小丽     True\n小华    False\nName: 成绩, dtype: bool"
     },
     "execution_count": 87,
     "metadata": {},
     "output_type": "execute_result"
    }
   ],
   "source": [
    "# 根据条件筛选符合条件的行  放入针对列的条件\n",
    "df2['成绩'] > 80  # T F F T F"
   ],
   "metadata": {
    "collapsed": false
   }
  },
  {
   "cell_type": "code",
   "execution_count": null,
   "outputs": [],
   "source": [],
   "metadata": {
    "collapsed": false
   }
  },
  {
   "cell_type": "code",
   "execution_count": null,
   "outputs": [],
   "source": [],
   "metadata": {
    "collapsed": false
   }
  },
  {
   "cell_type": "code",
   "execution_count": null,
   "outputs": [],
   "source": [],
   "metadata": {
    "collapsed": false
   }
  },
  {
   "cell_type": "code",
   "execution_count": null,
   "outputs": [],
   "source": [],
   "metadata": {
    "collapsed": false
   }
  },
  {
   "cell_type": "code",
   "execution_count": null,
   "outputs": [],
   "source": [],
   "metadata": {
    "collapsed": false
   }
  },
  {
   "cell_type": "code",
   "execution_count": null,
   "outputs": [],
   "source": [],
   "metadata": {
    "collapsed": false
   }
  },
  {
   "cell_type": "code",
   "execution_count": null,
   "outputs": [],
   "source": [],
   "metadata": {
    "collapsed": false
   }
  },
  {
   "cell_type": "code",
   "execution_count": null,
   "outputs": [],
   "source": [],
   "metadata": {
    "collapsed": false
   }
  },
  {
   "cell_type": "code",
   "execution_count": null,
   "outputs": [],
   "source": [],
   "metadata": {
    "collapsed": false
   }
  },
  {
   "cell_type": "code",
   "execution_count": null,
   "outputs": [],
   "source": [],
   "metadata": {
    "collapsed": false
   }
  }
 ],
 "metadata": {
  "kernelspec": {
   "name": "dsll2",
   "language": "python",
   "display_name": "dsLL2"
  },
  "language_info": {
   "codemirror_mode": {
    "name": "ipython",
    "version": 2
   },
   "file_extension": ".py",
   "mimetype": "text/x-python",
   "name": "python",
   "nbconvert_exporter": "python",
   "pygments_lexer": "ipython2",
   "version": "2.7.6"
  }
 },
 "nbformat": 4,
 "nbformat_minor": 0
}
