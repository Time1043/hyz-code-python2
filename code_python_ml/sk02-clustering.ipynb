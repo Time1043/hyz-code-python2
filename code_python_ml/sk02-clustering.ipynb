{
 "cells": [
  {
   "cell_type": "code",
   "execution_count": 1,
   "metadata": {
    "collapsed": true
   },
   "outputs": [
    {
     "data": {
      "text/plain": "     城市       食品      衣着  家庭设备用品及服务    医疗保健   交通和通讯  娱乐教育文化服务       居住  \\\n0    北京  2959.19  730.79     749.41  513.34  467.87   1141.82   478.42   \n1    天津  2459.77  495.47     697.33  302.87  284.19    735.97   570.84   \n2    河北  1495.63  515.90     362.37  285.32  272.95    540.58   364.91   \n3    山西  1406.33  477.77     290.15  208.57  201.50    414.72   281.84   \n4   内蒙古  1303.97  524.29     254.83  192.17  249.81    463.09   287.87   \n5    辽宁  1730.84  553.90     246.91  279.81  239.18    445.20   330.24   \n6    吉林  1561.86  492.42     200.49  218.36  220.69    459.62   360.48   \n7   黑龙江  1410.11  510.71     211.88  277.11  224.65    376.82   317.61   \n8    上海  3712.31  550.74     893.37  346.93  527.00   1034.98   720.33   \n9    江苏  2207.58  449.37     572.40  211.92  302.09    585.23   429.77   \n10   浙江  2629.16  557.32     689.73  435.69  514.66    795.87   575.76   \n11   安徽  1844.78  430.29     271.28  126.33  250.56    513.18   314.00   \n12   福建  2709.46  428.11     334.12  160.77  405.14    461.67   535.13   \n13   江西  1563.78  303.65     233.81  107.90  209.70    393.99   509.39   \n14   山东  1675.75  613.32     550.71  219.79  272.59    599.43   371.62   \n15   河南  1427.65  431.79     288.55  208.14  217.00    337.76   421.31   \n16   湖南  1942.23  512.27     401.39  206.06  321.29    697.22   492.60   \n17   湖北  1783.43  511.88     282.84  201.01  237.60    617.74   523.52   \n18   广东  3055.17  353.23     564.56  356.27  811.88    873.06  1082.82   \n19   广西  2033.87  300.82     338.65  157.78  329.06    621.74   587.02   \n20   海南  2057.86  186.44     202.72  171.79  329.65    477.17   312.93   \n21   重庆  2303.29  589.99     516.21  236.55  403.92    730.05   438.41   \n22   四川  1974.28  507.76     344.79  203.21  240.24    575.10   430.36   \n23   贵州  1673.82  437.75     461.61  153.32  254.66    445.59   346.11   \n24   云南  2194.25  537.01     369.07  249.54  290.84    561.91   407.70   \n25   西藏  2646.61  839.70     204.44  209.11  379.30    371.04   269.59   \n26   陕西  1472.95  390.89     447.95  259.51  230.61    490.90   469.10   \n27   甘肃  1525.57  472.98     328.90  219.86  206.65    449.69   249.66   \n28   青海  1654.69  437.77     258.78  303.00  244.93    479.53   288.56   \n29   宁夏  1375.46  480.89     273.84  317.32  251.08    424.75   228.73   \n30   新疆  1608.82  536.05     432.46  235.82  250.28    541.30   344.85   \n\n    杂项商品和服务  \n0    457.64  \n1    305.08  \n2    188.63  \n3    212.10  \n4    192.96  \n5    163.86  \n6    147.76  \n7    152.85  \n8    462.03  \n9    252.54  \n10   323.36  \n11   151.39  \n12   232.29  \n13   160.12  \n14   211.84  \n15   165.32  \n16   226.45  \n17   182.52  \n18   420.81  \n19   218.27  \n20   279.19  \n21   225.80  \n22   223.46  \n23   191.48  \n24   330.95  \n25   389.33  \n26   191.34  \n27   228.19  \n28   236.51  \n29   195.93  \n30   214.40  ",
      "text/html": "<div>\n<style scoped>\n    .dataframe tbody tr th:only-of-type {\n        vertical-align: middle;\n    }\n\n    .dataframe tbody tr th {\n        vertical-align: top;\n    }\n\n    .dataframe thead th {\n        text-align: right;\n    }\n</style>\n<table border=\"1\" class=\"dataframe\">\n  <thead>\n    <tr style=\"text-align: right;\">\n      <th></th>\n      <th>城市</th>\n      <th>食品</th>\n      <th>衣着</th>\n      <th>家庭设备用品及服务</th>\n      <th>医疗保健</th>\n      <th>交通和通讯</th>\n      <th>娱乐教育文化服务</th>\n      <th>居住</th>\n      <th>杂项商品和服务</th>\n    </tr>\n  </thead>\n  <tbody>\n    <tr>\n      <th>0</th>\n      <td>北京</td>\n      <td>2959.19</td>\n      <td>730.79</td>\n      <td>749.41</td>\n      <td>513.34</td>\n      <td>467.87</td>\n      <td>1141.82</td>\n      <td>478.42</td>\n      <td>457.64</td>\n    </tr>\n    <tr>\n      <th>1</th>\n      <td>天津</td>\n      <td>2459.77</td>\n      <td>495.47</td>\n      <td>697.33</td>\n      <td>302.87</td>\n      <td>284.19</td>\n      <td>735.97</td>\n      <td>570.84</td>\n      <td>305.08</td>\n    </tr>\n    <tr>\n      <th>2</th>\n      <td>河北</td>\n      <td>1495.63</td>\n      <td>515.90</td>\n      <td>362.37</td>\n      <td>285.32</td>\n      <td>272.95</td>\n      <td>540.58</td>\n      <td>364.91</td>\n      <td>188.63</td>\n    </tr>\n    <tr>\n      <th>3</th>\n      <td>山西</td>\n      <td>1406.33</td>\n      <td>477.77</td>\n      <td>290.15</td>\n      <td>208.57</td>\n      <td>201.50</td>\n      <td>414.72</td>\n      <td>281.84</td>\n      <td>212.10</td>\n    </tr>\n    <tr>\n      <th>4</th>\n      <td>内蒙古</td>\n      <td>1303.97</td>\n      <td>524.29</td>\n      <td>254.83</td>\n      <td>192.17</td>\n      <td>249.81</td>\n      <td>463.09</td>\n      <td>287.87</td>\n      <td>192.96</td>\n    </tr>\n    <tr>\n      <th>5</th>\n      <td>辽宁</td>\n      <td>1730.84</td>\n      <td>553.90</td>\n      <td>246.91</td>\n      <td>279.81</td>\n      <td>239.18</td>\n      <td>445.20</td>\n      <td>330.24</td>\n      <td>163.86</td>\n    </tr>\n    <tr>\n      <th>6</th>\n      <td>吉林</td>\n      <td>1561.86</td>\n      <td>492.42</td>\n      <td>200.49</td>\n      <td>218.36</td>\n      <td>220.69</td>\n      <td>459.62</td>\n      <td>360.48</td>\n      <td>147.76</td>\n    </tr>\n    <tr>\n      <th>7</th>\n      <td>黑龙江</td>\n      <td>1410.11</td>\n      <td>510.71</td>\n      <td>211.88</td>\n      <td>277.11</td>\n      <td>224.65</td>\n      <td>376.82</td>\n      <td>317.61</td>\n      <td>152.85</td>\n    </tr>\n    <tr>\n      <th>8</th>\n      <td>上海</td>\n      <td>3712.31</td>\n      <td>550.74</td>\n      <td>893.37</td>\n      <td>346.93</td>\n      <td>527.00</td>\n      <td>1034.98</td>\n      <td>720.33</td>\n      <td>462.03</td>\n    </tr>\n    <tr>\n      <th>9</th>\n      <td>江苏</td>\n      <td>2207.58</td>\n      <td>449.37</td>\n      <td>572.40</td>\n      <td>211.92</td>\n      <td>302.09</td>\n      <td>585.23</td>\n      <td>429.77</td>\n      <td>252.54</td>\n    </tr>\n    <tr>\n      <th>10</th>\n      <td>浙江</td>\n      <td>2629.16</td>\n      <td>557.32</td>\n      <td>689.73</td>\n      <td>435.69</td>\n      <td>514.66</td>\n      <td>795.87</td>\n      <td>575.76</td>\n      <td>323.36</td>\n    </tr>\n    <tr>\n      <th>11</th>\n      <td>安徽</td>\n      <td>1844.78</td>\n      <td>430.29</td>\n      <td>271.28</td>\n      <td>126.33</td>\n      <td>250.56</td>\n      <td>513.18</td>\n      <td>314.00</td>\n      <td>151.39</td>\n    </tr>\n    <tr>\n      <th>12</th>\n      <td>福建</td>\n      <td>2709.46</td>\n      <td>428.11</td>\n      <td>334.12</td>\n      <td>160.77</td>\n      <td>405.14</td>\n      <td>461.67</td>\n      <td>535.13</td>\n      <td>232.29</td>\n    </tr>\n    <tr>\n      <th>13</th>\n      <td>江西</td>\n      <td>1563.78</td>\n      <td>303.65</td>\n      <td>233.81</td>\n      <td>107.90</td>\n      <td>209.70</td>\n      <td>393.99</td>\n      <td>509.39</td>\n      <td>160.12</td>\n    </tr>\n    <tr>\n      <th>14</th>\n      <td>山东</td>\n      <td>1675.75</td>\n      <td>613.32</td>\n      <td>550.71</td>\n      <td>219.79</td>\n      <td>272.59</td>\n      <td>599.43</td>\n      <td>371.62</td>\n      <td>211.84</td>\n    </tr>\n    <tr>\n      <th>15</th>\n      <td>河南</td>\n      <td>1427.65</td>\n      <td>431.79</td>\n      <td>288.55</td>\n      <td>208.14</td>\n      <td>217.00</td>\n      <td>337.76</td>\n      <td>421.31</td>\n      <td>165.32</td>\n    </tr>\n    <tr>\n      <th>16</th>\n      <td>湖南</td>\n      <td>1942.23</td>\n      <td>512.27</td>\n      <td>401.39</td>\n      <td>206.06</td>\n      <td>321.29</td>\n      <td>697.22</td>\n      <td>492.60</td>\n      <td>226.45</td>\n    </tr>\n    <tr>\n      <th>17</th>\n      <td>湖北</td>\n      <td>1783.43</td>\n      <td>511.88</td>\n      <td>282.84</td>\n      <td>201.01</td>\n      <td>237.60</td>\n      <td>617.74</td>\n      <td>523.52</td>\n      <td>182.52</td>\n    </tr>\n    <tr>\n      <th>18</th>\n      <td>广东</td>\n      <td>3055.17</td>\n      <td>353.23</td>\n      <td>564.56</td>\n      <td>356.27</td>\n      <td>811.88</td>\n      <td>873.06</td>\n      <td>1082.82</td>\n      <td>420.81</td>\n    </tr>\n    <tr>\n      <th>19</th>\n      <td>广西</td>\n      <td>2033.87</td>\n      <td>300.82</td>\n      <td>338.65</td>\n      <td>157.78</td>\n      <td>329.06</td>\n      <td>621.74</td>\n      <td>587.02</td>\n      <td>218.27</td>\n    </tr>\n    <tr>\n      <th>20</th>\n      <td>海南</td>\n      <td>2057.86</td>\n      <td>186.44</td>\n      <td>202.72</td>\n      <td>171.79</td>\n      <td>329.65</td>\n      <td>477.17</td>\n      <td>312.93</td>\n      <td>279.19</td>\n    </tr>\n    <tr>\n      <th>21</th>\n      <td>重庆</td>\n      <td>2303.29</td>\n      <td>589.99</td>\n      <td>516.21</td>\n      <td>236.55</td>\n      <td>403.92</td>\n      <td>730.05</td>\n      <td>438.41</td>\n      <td>225.80</td>\n    </tr>\n    <tr>\n      <th>22</th>\n      <td>四川</td>\n      <td>1974.28</td>\n      <td>507.76</td>\n      <td>344.79</td>\n      <td>203.21</td>\n      <td>240.24</td>\n      <td>575.10</td>\n      <td>430.36</td>\n      <td>223.46</td>\n    </tr>\n    <tr>\n      <th>23</th>\n      <td>贵州</td>\n      <td>1673.82</td>\n      <td>437.75</td>\n      <td>461.61</td>\n      <td>153.32</td>\n      <td>254.66</td>\n      <td>445.59</td>\n      <td>346.11</td>\n      <td>191.48</td>\n    </tr>\n    <tr>\n      <th>24</th>\n      <td>云南</td>\n      <td>2194.25</td>\n      <td>537.01</td>\n      <td>369.07</td>\n      <td>249.54</td>\n      <td>290.84</td>\n      <td>561.91</td>\n      <td>407.70</td>\n      <td>330.95</td>\n    </tr>\n    <tr>\n      <th>25</th>\n      <td>西藏</td>\n      <td>2646.61</td>\n      <td>839.70</td>\n      <td>204.44</td>\n      <td>209.11</td>\n      <td>379.30</td>\n      <td>371.04</td>\n      <td>269.59</td>\n      <td>389.33</td>\n    </tr>\n    <tr>\n      <th>26</th>\n      <td>陕西</td>\n      <td>1472.95</td>\n      <td>390.89</td>\n      <td>447.95</td>\n      <td>259.51</td>\n      <td>230.61</td>\n      <td>490.90</td>\n      <td>469.10</td>\n      <td>191.34</td>\n    </tr>\n    <tr>\n      <th>27</th>\n      <td>甘肃</td>\n      <td>1525.57</td>\n      <td>472.98</td>\n      <td>328.90</td>\n      <td>219.86</td>\n      <td>206.65</td>\n      <td>449.69</td>\n      <td>249.66</td>\n      <td>228.19</td>\n    </tr>\n    <tr>\n      <th>28</th>\n      <td>青海</td>\n      <td>1654.69</td>\n      <td>437.77</td>\n      <td>258.78</td>\n      <td>303.00</td>\n      <td>244.93</td>\n      <td>479.53</td>\n      <td>288.56</td>\n      <td>236.51</td>\n    </tr>\n    <tr>\n      <th>29</th>\n      <td>宁夏</td>\n      <td>1375.46</td>\n      <td>480.89</td>\n      <td>273.84</td>\n      <td>317.32</td>\n      <td>251.08</td>\n      <td>424.75</td>\n      <td>228.73</td>\n      <td>195.93</td>\n    </tr>\n    <tr>\n      <th>30</th>\n      <td>新疆</td>\n      <td>1608.82</td>\n      <td>536.05</td>\n      <td>432.46</td>\n      <td>235.82</td>\n      <td>250.28</td>\n      <td>541.30</td>\n      <td>344.85</td>\n      <td>214.40</td>\n    </tr>\n  </tbody>\n</table>\n</div>"
     },
     "execution_count": 1,
     "metadata": {},
     "output_type": "execute_result"
    }
   ],
   "source": [
    "import numpy as np\n",
    "import pandas as pd\n",
    "import sklearn\n",
    "from sklearn.cluster import KMeans\n",
    "\n",
    "df = pd.read_csv(r\"D:\\code\\data\\1999年全国31个省份城镇居民家庭平均每人全年消费性支出数据.csv\")\n",
    "df"
   ]
  },
  {
   "cell_type": "code",
   "execution_count": 3,
   "outputs": [
    {
     "name": "stderr",
     "output_type": "stream",
     "text": [
      "D:\\systemEnvironment\\Anaconda3\\envs\\dsLL\\lib\\site-packages\\sklearn\\cluster\\_kmeans.py:1416: FutureWarning: The default value of `n_init` will change from 10 to 'auto' in 1.4. Set the value of `n_init` explicitly to suppress the warning\n",
      "  super()._check_params_vs_input(X, default_n_init=10)\n",
      "D:\\systemEnvironment\\Anaconda3\\envs\\dsLL\\lib\\site-packages\\sklearn\\cluster\\_kmeans.py:1440: UserWarning: KMeans is known to have a memory leak on Windows with MKL, when there are less chunks than available threads. You can avoid it by setting the environment variable OMP_NUM_THREADS=1.\n",
      "  warnings.warn(\n"
     ]
    },
    {
     "name": "stdout",
     "output_type": "stream",
     "text": [
      "Expenses:4441.04\n",
      "['安徽', '湖南', '湖北', '广西', '海南', '四川', '云南']\n",
      "Expenses:5567.33\n",
      "['天津', '江苏', '浙江', '福建', '重庆', '西藏']\n",
      "Expenses:7754.66\n",
      "['北京', '上海', '广东']\n",
      "Expenses:3788.76\n",
      "['河北', '山西', '内蒙古', '辽宁', '吉林', '黑龙江', '江西', '山东', '河南', '贵州', '陕西', '甘肃', '青海', '宁夏', '新疆']\n"
     ]
    }
   ],
   "source": [
    "import numpy as np\n",
    "from sklearn.cluster import KMeans\n",
    "\n",
    "\n",
    "def loadData(filePath):\n",
    "    # 打开文件流\n",
    "    fr = open(filePath, 'r+', encoding='UTF-8')\n",
    "    # 完整的读取，一次性读取整个文件，按行读取\n",
    "    lines = fr.readlines()\n",
    "    # 将读入的数据进行拆分，分为数据和城市名\n",
    "    retData = []\n",
    "    retCityName = []\n",
    "    for line in lines:\n",
    "        # 去除字符串首尾的空格或者回车，并使用“，”进行分割\n",
    "        items = line.strip().split(\",\")\n",
    "        # 每一行的开头是城市名臣\n",
    "        retCityName.append(items[0])\n",
    "        # 将数据组合成一个列表，并且强制转换类型为float浮点型\n",
    "        retData.append([float(items[i]) for i in range(1, len(items))])\n",
    "    return retData, retCityName\n",
    "\n",
    "\n",
    "# 使用读取数据，获取城市名和相关的数据\n",
    "data, cityName = loadData(r\"D:\\code\\data\\city.txt\")\n",
    "# 创建指定簇数量KMeans对象实例\n",
    "km = KMeans(n_clusters=4)\n",
    "# 加载数据，进行训练，获得标签，总共是四个簇，就是四个标签，将给31个数据，每个数据都打上0-3的标签\n",
    "label = km.fit_predict(data)\n",
    "# 计算出每一个簇形成的所有的行内的数据，计算出该簇内的数据的和\n",
    "expenses = np.sum(km.cluster_centers_, axis=1)\n",
    "# 总共是四个标签，四个集合，按照打上的标签将城市名进行分类\n",
    "\n",
    "\n",
    "CityCluster = [[], [], [], []]\n",
    "# 遍历所有的标签，并将对应的城市根据标签加上对应的簇中\n",
    "for i in range(len(cityName)):\n",
    "    CityCluster[label[i]].append(cityName[i])\n",
    "# 遍历所有的簇中心的数量，总共就只有四个，进行打印输出\n",
    "for i in range(len(CityCluster)):\n",
    "    print(\"Expenses:%.2f\" % expenses[i])\n",
    "    print(CityCluster[i])"
   ],
   "metadata": {
    "collapsed": false
   }
  },
  {
   "cell_type": "code",
   "execution_count": 7,
   "outputs": [
    {
     "name": "stdout",
     "output_type": "stream",
     "text": [
      "Labels:\n",
      "[ 0 -1  0  1 -1  1  0  1  2 -1  1  0  1  1  3 -1 -1  3 -1  1  1 -1  1  3\n",
      "  4 -1  1  1  2  0  2  2 -1  0  1  0  0  0  1  3 -1  0  1  1  0  0  2 -1\n",
      "  1  3  1 -1  3 -1  3  0  1  1  2  3  3 -1 -1 -1  0  1  2  1 -1  3  1  1\n",
      "  2  3  0  1 -1  2  0  0  3  2  0  1 -1  1  3 -1  4  2 -1 -1  0 -1  3 -1\n",
      "  0  2  1 -1 -1  2  1  1  2  0  2  1  1  3  3  0  1  2  0  1  0 -1  1  1\n",
      "  3 -1  2  1  3  1  1  1  2 -1  5 -1  1  3 -1  0  1  0  0  1 -1 -1 -1  2\n",
      "  2  0  1  1  3  0  0  0  1  4  4 -1 -1 -1 -1  4 -1  4  4 -1  4 -1  1  2\n",
      "  2  3  0  1  0 -1  1  0  0  1 -1 -1  0  2  1  0  2 -1  1  1 -1 -1  0  1\n",
      "  1 -1  3  1  1 -1  1  1  0  0 -1  0 -1  0  0  2 -1  1 -1  1  0 -1  2  1\n",
      "  3  1  1 -1  1  0  0 -1  0  0  3  2  0  0  5 -1  3  2 -1  5  4  4  4 -1\n",
      "  5  5 -1  4  0  4  4  4  5  4  4  5  5  0  5  4 -1  4  5  5  5  1  5  5\n",
      "  0  5  4  4 -1  4  4  5  4  0  5  4 -1  0  5  5  5 -1  4  5  5  5  5  4\n",
      "  4]\n",
      "Noise raito: 22.15%\n",
      "Estimated number of clusters: 6\n",
      "Silhouette Coefficient: 0.710\n",
      "Cluster  0 :\n",
      "[22, 22, 22, 22, 22, 22, 22, 22, 22, 22, 22, 22, 22, 22, 22, 22, 22, 22, 22, 22, 22, 22, 22, 22, 22, 22, 22, 22, 22, 22, 22, 22, 22, 22, 22, 22, 22, 22, 22, 22, 22, 22, 22, 22, 22, 22, 22, 22, 22, 22, 22, 22, 22, 22, 22]\n",
      "Cluster  1 :\n",
      "[23, 23, 23, 23, 23, 23, 23, 23, 23, 23, 23, 23, 23, 23, 23, 23, 23, 23, 23, 23, 23, 23, 23, 23, 23, 23, 23, 23, 23, 23, 23, 23, 23, 23, 23, 23, 23, 23, 23, 23, 23, 23, 23, 23, 23, 23, 23, 23, 23, 23, 23, 23, 23, 23, 23, 23, 23, 23, 23, 23, 23, 23, 23, 23, 23]\n",
      "Cluster  2 :\n",
      "[20, 20, 20, 20, 20, 20, 20, 20, 20, 20, 20, 20, 20, 20, 20, 20, 20, 20, 20, 20, 20, 20, 20, 20, 20, 20, 20, 20]\n",
      "Cluster  3 :\n",
      "[21, 21, 21, 21, 21, 21, 21, 21, 21, 21, 21, 21, 21, 21, 21, 21, 21, 21, 21, 21, 21, 21, 21, 21, 21]\n",
      "Cluster  4 :\n",
      "[8, 8, 8, 8, 8, 8, 8, 8, 8, 8, 8, 8, 8, 8, 8, 8, 8, 8, 8, 8, 8, 8, 8, 8, 8, 8, 8, 8]\n",
      "Cluster  5 :\n",
      "[7, 7, 7, 7, 7, 7, 7, 7, 7, 7, 7, 7, 7, 7, 7, 7, 7, 7, 7, 7, 7, 7, 7, 7]\n"
     ]
    },
    {
     "data": {
      "text/plain": "<Figure size 640x480 with 1 Axes>",
      "image/png": "[encoded data removed]"
     },
     "metadata": {},
     "output_type": "display_data"
    }
   ],
   "source": [
    "import numpy as np\n",
    "from sklearn.cluster import DBSCAN\n",
    "from sklearn import metrics\n",
    "import matplotlib.pyplot as plt\n",
    "\n",
    "mac2id = dict()\n",
    "onlinetimes = []\n",
    "f = open(r\"D:\\code\\data\\学生月上网时间分布-TestData.txt\", encoding='utf-8')\n",
    "for line in f:\n",
    "    #读取每条数据中的mac地址，开始上网时间，上网时长\n",
    "    mac = line.split(',')[2]\n",
    "    onlinetime = int(line.split(',')[6])\n",
    "    starttime = int(line.split(',')[4].split(' ')[1].split(':')[0])\n",
    "\n",
    "    #mac2id是一个字典：key是mac地址，value是对应mac地址的上网时长以及开始上网时间\n",
    "    if mac not in mac2id:\n",
    "        mac2id[mac] = len(onlinetimes)\n",
    "        onlinetimes.append((starttime, onlinetime))\n",
    "    else:\n",
    "        onlinetimes[mac2id[mac]] = [(starttime, onlinetime)]\n",
    "real_X = np.array(onlinetimes).reshape((-1, 2))\n",
    "\n",
    "#调用DBSCAN方法训练，labels为每个数据的簇标签\n",
    "X = real_X[:, 0:1]\n",
    "db = DBSCAN(eps=0.01, min_samples=20).fit(X)\n",
    "labels = db.labels_\n",
    "\n",
    "#打印数据被记上的标签，计算标签为-1,即噪声数据的比例\n",
    "print('Labels:')\n",
    "print(labels)\n",
    "raito = len(labels[labels[:] == -1]) / len(labels)\n",
    "print('Noise raito:', format(raito, '.2%'))\n",
    "\n",
    "#计算簇的个数并打印，评价聚类效果\n",
    "n_clusters_ = len(set(labels)) - (1 if -1 in labels else 0)\n",
    "print('Estimated number of clusters: %d' % n_clusters_)\n",
    "print(\"Silhouette Coefficient: %0.3f\" % metrics.silhouette_score(X, labels))\n",
    "\n",
    "#打印各簇标号以及各簇内数据\n",
    "for i in range(n_clusters_):\n",
    "    print('Cluster ', i, ':')\n",
    "    print(list(X[labels == i].flatten()))\n",
    "\n",
    "plt.hist(X, 24)\n",
    "plt.show()"
   ],
   "metadata": {
    "collapsed": false
   }
  },
  {
   "cell_type": "code",
   "execution_count": 9,
   "outputs": [
    {
     "name": "stdout",
     "output_type": "stream",
     "text": [
      "Labels\n",
      "[ 0  1  0  4  1  2  0  2  0  3 -1  0 -1 -1  0  3  1  0  3  2  2  1  2  0\n",
      "  1  1 -1 -1  0  0  0  0  1  0 -1  0  0  0  2  0  1  0 -1 -1  0  0  0  3\n",
      "  2  0 -1  1  0  1  0  0 -1  2  0  0  0  1  3  3  0  2  0 -1  3  0  0  2\n",
      "  0  0  0  2  1 -1  0  0  0  0  0  0  1 -1  0  3  1  0  1  1  0  1  0  1\n",
      "  0  0 -1  1  1  0  0  2  0  0  0  2  2  0  0  0 -1  0  0  4  0  1  2 -1\n",
      "  0  1  0  2  0 -1 -1 -1  0  1  1  3 -1  0  1  0  2  0  0  2  1  1  0  0\n",
      "  0  0  4 -1  0  0  0  0  2  0  0  0  0 -1  2  0  0  0  0  4  0  0 -1  0\n",
      "  2  0  0 -1  0  1  4  0  0 -1  1  1  0  0  2  0  0  3 -1 -1 -1  1  0  0\n",
      "  2  1  0 -1 -1  3  2  2  0  0  3  0  1  0  0  0  3  2  0 -1  0  1 -1 -1\n",
      "  0  2  2  1  4  0  0  1  0  2  0  0  0  0  1  1  0  0  1  0  4 -1 -1  0\n",
      "  0  0 -1 -1  1 -1  4 -1  0  2  2 -1  2  1  2 -1  0 -1  0  2  2  1 -1  0\n",
      "  1  2 -1 -1  1 -1  2 -1 -1  1  4  2  3  1  0  4  0  0  4  2  4  0  0  2\n",
      " -1]\n",
      "Noise ratio:0.17\n",
      "Estimate number of clusters:5\n",
      "Silhouette Coefficient: 0.227\n",
      "Cluster 0 :\n",
      "\t number of sample: 128\n",
      "\t mean of sample: 5864.3\n",
      "\t std of sample: 3498.1\n",
      "Cluster 1 :\n",
      "\t number of sample: 46\n",
      "\t mean of sample: 36835.1\n",
      "\t std of sample: 11314.1\n",
      "Cluster 2 :\n",
      "\t number of sample: 40\n",
      "\t mean of sample: 843.2\n",
      "\t std of sample: 242.9\n",
      "Cluster 3 :\n",
      "\t number of sample: 14\n",
      "\t mean of sample: 16581.6\n",
      "\t std of sample: 1186.7\n",
      "Cluster 4 :\n",
      "\t number of sample: 12\n",
      "\t mean of sample: 338.4\n",
      "\t std of sample: 31.9\n"
     ]
    }
   ],
   "source": [
    "import numpy as np\n",
    "from sklearn.cluster import DBSCAN\n",
    "from sklearn import metrics\n",
    "\n",
    "mac2id = dict()\n",
    "\"\"\"\n",
    "key是MAC地址\n",
    "value是开始上网时间和上网时长\n",
    "\"\"\"\n",
    "onlinetimes = []\n",
    "f = open(r\"D:\\code\\data\\学生月上网时间分布-TestData.txt\", encoding='utf8')\n",
    "for line in f:\n",
    "    data = line.split(',')\n",
    "    mac = data[2]  #读取Mac地址\n",
    "    onlinetime = int(data[6])  #读取上网时间\n",
    "    starttime = int(data[4].split(' ')[1].split(':')[0])  #读取开始时间（我们只要年月日时分秒里的“时”）\n",
    "\n",
    "    mac2id[mac] = len(onlinetimes)  #len(onlinetimes)就是此时对应的onlinetimes里面的元素个数，mac2id的内容见下面\n",
    "    onlinetimes.append((starttime, onlinetime))  #onlinetimes里面的内容见下面\n",
    "\n",
    "#onlinetimes里面的内容是[(22, 1558), (12, 40261), (22, 1721), (23, 351), (16, 23564),,,]\n",
    "#mac2id这个字典里面是{'A417314EEA7B': 0, 'F0DEF1C78366': 1, '88539523E88D': 2,,,,'3CDFBD175878': 287, '002427FE3712': 288}\n",
    "\n",
    "#-----------------------------------------以下内容进行了改动-------------------------------------------------------------\n",
    "\n",
    "real_X = np.array(onlinetimes).reshape((-1, 2))  #参数-1可以自动确定行数\n",
    "\n",
    "X = real_X[:, 1:]  # 截取第二列（也就是“上网的总时长”）我们这次根据上网的总时长进行蔟类\n",
    "\n",
    "X = np.log(1 + real_X[:, 1:])  #上网的总时长太大了，都是几千，我们要进行对数化处理\n",
    "\n",
    "db = DBSCAN(eps=0.14, min_samples=10).fit(X)  #调用Dbscan的的方法进行训练\n",
    "# eps:两个样本被看作邻居节点的最大距离\n",
    "# min_sample:簇的样本数\n",
    "# metrics:距离计算方式（默认欧几里得距离）\n",
    "\n",
    "labels = db.labels_\n",
    "print(\"Labels\")\n",
    "print(labels)\n",
    "ratio = len(labels[labels[:] == -1]) / len(labels[:])  # 判定噪声数据（label被打上-1）数据所占的比例\n",
    "print(\"Noise ratio:{:.2f}\".format(ratio))  #输出噪声数据所占的比例\n",
    "n_clusters_ = len(set(labels)) - (1 if -1 in labels else 0)\n",
    "print(\"Estimate number of clusters:%d\" % n_clusters_)  #输出蔟的个数\n",
    "print(\"Silhouette Coefficient: %0.3f\" % metrics.silhouette_score(X, labels))  #输出蔟类效果评价指标（轮廓系数）\n",
    "#轮廓系数（Silhouette Coefficient）的值是介于 [-1,1] ，越趋近于1代表内聚度和分离度都相对较优\n",
    "\n",
    "for i in range(n_clusters_):\n",
    "    print(\"Cluster\", i, \":\")\n",
    "    count = len(X[labels == i])\n",
    "    mean = np.mean(real_X[labels == i][:, 1])\n",
    "    std = np.std(real_X[labels == i][:, 1])\n",
    "    print('\\t number of sample:', count)\n",
    "    print('\\t mean of sample:', format(mean, '.1f'))\n",
    "    print('\\t std of sample:', format(std, '.1f'))\n",
    "\n"
   ],
   "metadata": {
    "collapsed": false
   }
  },
  {
   "cell_type": "code",
   "execution_count": null,
   "outputs": [],
   "source": [],
   "metadata": {
    "collapsed": false
   }
  }
 ],
 "metadata": {
  "kernelspec": {
   "name": "dsll",
   "language": "python",
   "display_name": "dsLL"
  },
  "language_info": {
   "codemirror_mode": {
    "name": "ipython",
    "version": 2
   },
   "file_extension": ".py",
   "mimetype": "text/x-python",
   "name": "python",
   "nbconvert_exporter": "python",
   "pygments_lexer": "ipython2",
   "version": "2.7.6"
  }
 },
 "nbformat": 4,
 "nbformat_minor": 0
}
